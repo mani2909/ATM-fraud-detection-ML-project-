{
 "cells": [
  {
   "cell_type": "markdown",
   "id": "58fa24c2",
   "metadata": {},
   "source": [
    "## Bank ATM Fraud Detection"
   ]
  },
  {
   "cell_type": "markdown",
   "id": "b3838f02",
   "metadata": {},
   "source": [
    "**Problem Statement:** PredCatch Analytics' Australian banking client's profitability and reputation are being hit by fraudulent ATM transactions. They want PredCatch to help them in reducing and if possible completely eliminating such fraudulent transactions. PredCatch believes it can do the same by building a predictive model to catch such fraudulent transactions in real time and decline them. Your job as PredCatch's Data Scientist is to build this fraud detection & prevention predictive model in the first step. If successful, in the 2nd step you will have to present your solutions and explain how it works to the client. The data has been made available to you. \n",
    "The challenging part of the problem is that the data contains very few fraud instances in comparison to the overall population. To give more edge to the solution they have also collected data regarding location [geo_scores] of the transactions, their own proprietary index [Lambda_wts], on network turn around times [Qset_tats] and vulnerability qualification score [instance_scores]. As of now you don't need to understand what they mean.\n",
    "Training data contains masked variables pertaining to each transaction id . Your prediction target here is 'Target' .\u000b",
    "\n",
    "1: Fraudulent transactions\u000b",
    "\n",
    "0: Clean transactions"
   ]
  },
  {
   "cell_type": "code",
   "execution_count": 1,
   "id": "7eb91985",
   "metadata": {},
   "outputs": [],
   "source": [
    "import os, sys\n",
    "import numpy as np\n",
    "import pandas as pd\n",
    "import matplotlib.pyplot as plt\n",
    "%matplotlib inline\n",
    "import seaborn as sns\n",
    "sns.set()\n",
    "import warnings\n",
    "warnings.filterwarnings('ignore')\n",
    "import datetime "
   ]
  },
  {
   "attachments": {
    "image.png": {
     "image/png": "[encoded data removed]"
    }
   },
   "cell_type": "markdown",
   "id": "5bee2ead",
   "metadata": {},
   "source": [
    "![image.png](attachment:image.png)"
   ]
  },
  {
   "cell_type": "code",
   "execution_count": 2,
   "id": "bc78fc79",
   "metadata": {},
   "outputs": [],
   "source": [
    "geo = pd.read_csv('Geo_scores.csv')\n",
    "instance = pd.read_csv('instance_scores.csv')\n",
    "lambda_wts = pd.read_csv('Lambda_wts.csv')\n",
    "qset = pd.read_csv('Qset_tats.csv')\n",
    "train = pd.read_csv('train.csv')\n",
    "test = pd.read_csv('test_share.csv')"
   ]
  },
  {
   "cell_type": "markdown",
   "id": "96358b96",
   "metadata": {},
   "source": [
    "# geo"
   ]
  },
  {
   "cell_type": "code",
   "execution_count": 3,
   "id": "ea847968",
   "metadata": {},
   "outputs": [
    {
     "data": {
      "text/html": [
       "<div>\n",
       "<style scoped>\n",
       "    .dataframe tbody tr th:only-of-type {\n",
       "        vertical-align: middle;\n",
       "    }\n",
       "\n",
       "    .dataframe tbody tr th {\n",
       "        vertical-align: top;\n",
       "    }\n",
       "\n",
       "    .dataframe thead th {\n",
       "        text-align: right;\n",
       "    }\n",
       "</style>\n",
       "<table border=\"1\" class=\"dataframe\">\n",
       "  <thead>\n",
       "    <tr style=\"text-align: right;\">\n",
       "      <th></th>\n",
       "      <th>id</th>\n",
       "      <th>geo_score</th>\n",
       "    </tr>\n",
       "  </thead>\n",
       "  <tbody>\n",
       "    <tr>\n",
       "      <th>0</th>\n",
       "      <td>26674</td>\n",
       "      <td>4.48</td>\n",
       "    </tr>\n",
       "    <tr>\n",
       "      <th>1</th>\n",
       "      <td>204314</td>\n",
       "      <td>4.48</td>\n",
       "    </tr>\n",
       "  </tbody>\n",
       "</table>\n",
       "</div>"
      ],
      "text/plain": [
       "       id  geo_score\n",
       "0   26674       4.48\n",
       "1  204314       4.48"
      ]
     },
     "execution_count": 3,
     "metadata": {},
     "output_type": "execute_result"
    }
   ],
   "source": [
    "geo.head(2)"
   ]
  },
  {
   "cell_type": "code",
   "execution_count": 4,
   "id": "fdd32879",
   "metadata": {},
   "outputs": [
    {
     "data": {
      "text/plain": [
       "(1424035, 2)"
      ]
     },
     "execution_count": 4,
     "metadata": {},
     "output_type": "execute_result"
    }
   ],
   "source": [
    "geo.shape"
   ]
  },
  {
   "cell_type": "code",
   "execution_count": 5,
   "id": "a4d8ac9b",
   "metadata": {},
   "outputs": [
    {
     "data": {
      "text/plain": [
       "284807"
      ]
     },
     "execution_count": 5,
     "metadata": {},
     "output_type": "execute_result"
    }
   ],
   "source": [
    "geo['id'].nunique()"
   ]
  },
  {
   "cell_type": "code",
   "execution_count": 7,
   "id": "b9726200",
   "metadata": {},
   "outputs": [
    {
     "data": {
      "text/plain": [
       "id           0.000000\n",
       "geo_score    5.023964\n",
       "dtype: float64"
      ]
     },
     "execution_count": 7,
     "metadata": {},
     "output_type": "execute_result"
    }
   ],
   "source": [
    "geo.isnull().sum()/len(geo)*100"
   ]
  },
  {
   "cell_type": "code",
   "execution_count": 8,
   "id": "853ab628",
   "metadata": {},
   "outputs": [
    {
     "data": {
      "text/html": [
       "<div>\n",
       "<style scoped>\n",
       "    .dataframe tbody tr th:only-of-type {\n",
       "        vertical-align: middle;\n",
       "    }\n",
       "\n",
       "    .dataframe tbody tr th {\n",
       "        vertical-align: top;\n",
       "    }\n",
       "\n",
       "    .dataframe thead th {\n",
       "        text-align: right;\n",
       "    }\n",
       "</style>\n",
       "<table border=\"1\" class=\"dataframe\">\n",
       "  <thead>\n",
       "    <tr style=\"text-align: right;\">\n",
       "      <th></th>\n",
       "      <th>id</th>\n",
       "      <th>geo_score</th>\n",
       "    </tr>\n",
       "  </thead>\n",
       "  <tbody>\n",
       "    <tr>\n",
       "      <th>count</th>\n",
       "      <td>1.424035e+06</td>\n",
       "      <td>1.352492e+06</td>\n",
       "    </tr>\n",
       "    <tr>\n",
       "      <th>mean</th>\n",
       "      <td>1.424030e+05</td>\n",
       "      <td>-9.279168e-06</td>\n",
       "    </tr>\n",
       "    <tr>\n",
       "      <th>std</th>\n",
       "      <td>8.221673e+04</td>\n",
       "      <td>7.827199e+00</td>\n",
       "    </tr>\n",
       "    <tr>\n",
       "      <th>min</th>\n",
       "      <td>0.000000e+00</td>\n",
       "      <td>-1.093900e+02</td>\n",
       "    </tr>\n",
       "    <tr>\n",
       "      <th>25%</th>\n",
       "      <td>7.120100e+04</td>\n",
       "      <td>-5.860000e+00</td>\n",
       "    </tr>\n",
       "    <tr>\n",
       "      <th>50%</th>\n",
       "      <td>1.424030e+05</td>\n",
       "      <td>1.800000e-01</td>\n",
       "    </tr>\n",
       "    <tr>\n",
       "      <th>75%</th>\n",
       "      <td>2.136050e+05</td>\n",
       "      <td>5.860000e+00</td>\n",
       "    </tr>\n",
       "    <tr>\n",
       "      <th>max</th>\n",
       "      <td>2.848060e+05</td>\n",
       "      <td>4.581000e+01</td>\n",
       "    </tr>\n",
       "  </tbody>\n",
       "</table>\n",
       "</div>"
      ],
      "text/plain": [
       "                 id     geo_score\n",
       "count  1.424035e+06  1.352492e+06\n",
       "mean   1.424030e+05 -9.279168e-06\n",
       "std    8.221673e+04  7.827199e+00\n",
       "min    0.000000e+00 -1.093900e+02\n",
       "25%    7.120100e+04 -5.860000e+00\n",
       "50%    1.424030e+05  1.800000e-01\n",
       "75%    2.136050e+05  5.860000e+00\n",
       "max    2.848060e+05  4.581000e+01"
      ]
     },
     "execution_count": 8,
     "metadata": {},
     "output_type": "execute_result"
    }
   ],
   "source": [
    "geo.describe()"
   ]
  },
  {
   "cell_type": "code",
   "execution_count": 9,
   "id": "32e76a38",
   "metadata": {},
   "outputs": [
    {
     "data": {
      "text/plain": [
       "<AxesSubplot:ylabel='geo_score'>"
      ]
     },
     "execution_count": 9,
     "metadata": {},
     "output_type": "execute_result"
    },
    {
     "data": {
      "image/png": "[encoded data removed]",
      "text/plain": [
       "<Figure size 640x480 with 1 Axes>"
      ]
     },
     "metadata": {},
     "output_type": "display_data"
    }
   ],
   "source": [
    "sns.boxplot(y='geo_score', data=geo)"
   ]
  },
  {
   "cell_type": "code",
   "execution_count": 10,
   "id": "7544af77",
   "metadata": {},
   "outputs": [],
   "source": [
    "geo.fillna(geo['geo_score'].median(), inplace=True)"
   ]
  },
  {
   "cell_type": "code",
   "execution_count": 11,
   "id": "7e57a9c6",
   "metadata": {},
   "outputs": [
    {
     "data": {
      "text/plain": [
       "id           0\n",
       "geo_score    0\n",
       "dtype: int64"
      ]
     },
     "execution_count": 11,
     "metadata": {},
     "output_type": "execute_result"
    }
   ],
   "source": [
    "geo.isnull().sum()"
   ]
  },
  {
   "cell_type": "code",
   "execution_count": 50,
   "id": "67919da1",
   "metadata": {},
   "outputs": [
    {
     "data": {
      "text/plain": [
       "(1424035, 2)"
      ]
     },
     "execution_count": 50,
     "metadata": {},
     "output_type": "execute_result"
    }
   ],
   "source": [
    "geo.shape"
   ]
  },
  {
   "cell_type": "code",
   "execution_count": 51,
   "id": "62cb12d0",
   "metadata": {},
   "outputs": [
    {
     "data": {
      "text/plain": [
       "id           284807\n",
       "geo_score     25524\n",
       "dtype: int64"
      ]
     },
     "execution_count": 51,
     "metadata": {},
     "output_type": "execute_result"
    }
   ],
   "source": [
    "geo.nunique()"
   ]
  },
  {
   "cell_type": "code",
   "execution_count": 52,
   "id": "d78e5306",
   "metadata": {},
   "outputs": [],
   "source": [
    "geo = geo.groupby('id').mean()"
   ]
  },
  {
   "cell_type": "code",
   "execution_count": 53,
   "id": "e806e2bd",
   "metadata": {},
   "outputs": [
    {
     "data": {
      "text/plain": [
       "(284807, 1)"
      ]
     },
     "execution_count": 53,
     "metadata": {},
     "output_type": "execute_result"
    }
   ],
   "source": [
    "geo.shape"
   ]
  },
  {
   "cell_type": "code",
   "execution_count": 56,
   "id": "eb27e019",
   "metadata": {},
   "outputs": [
    {
     "data": {
      "text/html": [
       "<div>\n",
       "<style scoped>\n",
       "    .dataframe tbody tr th:only-of-type {\n",
       "        vertical-align: middle;\n",
       "    }\n",
       "\n",
       "    .dataframe tbody tr th {\n",
       "        vertical-align: top;\n",
       "    }\n",
       "\n",
       "    .dataframe thead th {\n",
       "        text-align: right;\n",
       "    }\n",
       "</style>\n",
       "<table border=\"1\" class=\"dataframe\">\n",
       "  <thead>\n",
       "    <tr style=\"text-align: right;\">\n",
       "      <th></th>\n",
       "      <th>geo_score</th>\n",
       "    </tr>\n",
       "    <tr>\n",
       "      <th>id</th>\n",
       "      <th></th>\n",
       "    </tr>\n",
       "  </thead>\n",
       "  <tbody>\n",
       "    <tr>\n",
       "      <th>0</th>\n",
       "      <td>-0.620</td>\n",
       "    </tr>\n",
       "    <tr>\n",
       "      <th>1</th>\n",
       "      <td>1.106</td>\n",
       "    </tr>\n",
       "  </tbody>\n",
       "</table>\n",
       "</div>"
      ],
      "text/plain": [
       "    geo_score\n",
       "id           \n",
       "0      -0.620\n",
       "1       1.106"
      ]
     },
     "execution_count": 56,
     "metadata": {},
     "output_type": "execute_result"
    }
   ],
   "source": [
    "geo.head(2)"
   ]
  },
  {
   "cell_type": "code",
   "execution_count": null,
   "id": "c8906284",
   "metadata": {},
   "outputs": [],
   "source": []
  },
  {
   "cell_type": "markdown",
   "id": "e02731da",
   "metadata": {},
   "source": [
    "# instance"
   ]
  },
  {
   "cell_type": "code",
   "execution_count": 12,
   "id": "602413e7",
   "metadata": {},
   "outputs": [
    {
     "data": {
      "text/plain": [
       "(1424035, 2)"
      ]
     },
     "execution_count": 12,
     "metadata": {},
     "output_type": "execute_result"
    }
   ],
   "source": [
    "instance.shape"
   ]
  },
  {
   "cell_type": "code",
   "execution_count": 13,
   "id": "dd681c58",
   "metadata": {},
   "outputs": [
    {
     "data": {
      "text/html": [
       "<div>\n",
       "<style scoped>\n",
       "    .dataframe tbody tr th:only-of-type {\n",
       "        vertical-align: middle;\n",
       "    }\n",
       "\n",
       "    .dataframe tbody tr th {\n",
       "        vertical-align: top;\n",
       "    }\n",
       "\n",
       "    .dataframe thead th {\n",
       "        text-align: right;\n",
       "    }\n",
       "</style>\n",
       "<table border=\"1\" class=\"dataframe\">\n",
       "  <thead>\n",
       "    <tr style=\"text-align: right;\">\n",
       "      <th></th>\n",
       "      <th>id</th>\n",
       "      <th>instance_scores</th>\n",
       "    </tr>\n",
       "  </thead>\n",
       "  <tbody>\n",
       "    <tr>\n",
       "      <th>0</th>\n",
       "      <td>173444</td>\n",
       "      <td>-0.88</td>\n",
       "    </tr>\n",
       "    <tr>\n",
       "      <th>1</th>\n",
       "      <td>259378</td>\n",
       "      <td>1.50</td>\n",
       "    </tr>\n",
       "  </tbody>\n",
       "</table>\n",
       "</div>"
      ],
      "text/plain": [
       "       id  instance_scores\n",
       "0  173444            -0.88\n",
       "1  259378             1.50"
      ]
     },
     "execution_count": 13,
     "metadata": {},
     "output_type": "execute_result"
    }
   ],
   "source": [
    "instance.head(2)"
   ]
  },
  {
   "cell_type": "code",
   "execution_count": 14,
   "id": "918adf1d",
   "metadata": {},
   "outputs": [
    {
     "data": {
      "text/plain": [
       "id                 284807\n",
       "instance_scores     11158\n",
       "dtype: int64"
      ]
     },
     "execution_count": 14,
     "metadata": {},
     "output_type": "execute_result"
    }
   ],
   "source": [
    "instance.nunique()"
   ]
  },
  {
   "cell_type": "code",
   "execution_count": 15,
   "id": "2914b5f5",
   "metadata": {},
   "outputs": [
    {
     "data": {
      "text/plain": [
       "id                 0\n",
       "instance_scores    0\n",
       "dtype: int64"
      ]
     },
     "execution_count": 15,
     "metadata": {},
     "output_type": "execute_result"
    }
   ],
   "source": [
    "instance.isnull().sum()"
   ]
  },
  {
   "cell_type": "code",
   "execution_count": 54,
   "id": "d821f0aa",
   "metadata": {},
   "outputs": [
    {
     "data": {
      "text/plain": [
       "(1424035, 2)"
      ]
     },
     "execution_count": 54,
     "metadata": {},
     "output_type": "execute_result"
    }
   ],
   "source": [
    "instance.shape"
   ]
  },
  {
   "cell_type": "code",
   "execution_count": 57,
   "id": "fa9ba38d",
   "metadata": {},
   "outputs": [],
   "source": [
    "instance = instance.groupby('id').mean()"
   ]
  },
  {
   "cell_type": "code",
   "execution_count": 58,
   "id": "52195242",
   "metadata": {},
   "outputs": [
    {
     "data": {
      "text/plain": [
       "(284807, 1)"
      ]
     },
     "execution_count": 58,
     "metadata": {},
     "output_type": "execute_result"
    }
   ],
   "source": [
    "instance.shape"
   ]
  },
  {
   "cell_type": "code",
   "execution_count": null,
   "id": "6e4ac76c",
   "metadata": {},
   "outputs": [],
   "source": []
  },
  {
   "cell_type": "markdown",
   "id": "2e1bdd11",
   "metadata": {},
   "source": [
    "# lambda_wts"
   ]
  },
  {
   "cell_type": "code",
   "execution_count": 17,
   "id": "233da18b",
   "metadata": {},
   "outputs": [
    {
     "data": {
      "text/html": [
       "<div>\n",
       "<style scoped>\n",
       "    .dataframe tbody tr th:only-of-type {\n",
       "        vertical-align: middle;\n",
       "    }\n",
       "\n",
       "    .dataframe tbody tr th {\n",
       "        vertical-align: top;\n",
       "    }\n",
       "\n",
       "    .dataframe thead th {\n",
       "        text-align: right;\n",
       "    }\n",
       "</style>\n",
       "<table border=\"1\" class=\"dataframe\">\n",
       "  <thead>\n",
       "    <tr style=\"text-align: right;\">\n",
       "      <th></th>\n",
       "      <th>Group</th>\n",
       "      <th>lambda_wt</th>\n",
       "    </tr>\n",
       "  </thead>\n",
       "  <tbody>\n",
       "    <tr>\n",
       "      <th>0</th>\n",
       "      <td>Grp936</td>\n",
       "      <td>3.41</td>\n",
       "    </tr>\n",
       "    <tr>\n",
       "      <th>1</th>\n",
       "      <td>Grp347</td>\n",
       "      <td>-2.88</td>\n",
       "    </tr>\n",
       "  </tbody>\n",
       "</table>\n",
       "</div>"
      ],
      "text/plain": [
       "    Group  lambda_wt\n",
       "0  Grp936       3.41\n",
       "1  Grp347      -2.88"
      ]
     },
     "execution_count": 17,
     "metadata": {},
     "output_type": "execute_result"
    }
   ],
   "source": [
    "lambda_wts.head(2)"
   ]
  },
  {
   "cell_type": "code",
   "execution_count": 18,
   "id": "8a30ab93",
   "metadata": {},
   "outputs": [
    {
     "data": {
      "text/plain": [
       "(1400, 2)"
      ]
     },
     "execution_count": 18,
     "metadata": {},
     "output_type": "execute_result"
    }
   ],
   "source": [
    "lambda_wts.shape"
   ]
  },
  {
   "cell_type": "code",
   "execution_count": 19,
   "id": "9f8333a9",
   "metadata": {},
   "outputs": [
    {
     "data": {
      "text/plain": [
       "Group        0\n",
       "lambda_wt    0\n",
       "dtype: int64"
      ]
     },
     "execution_count": 19,
     "metadata": {},
     "output_type": "execute_result"
    }
   ],
   "source": [
    "lambda_wts.isnull().sum()"
   ]
  },
  {
   "cell_type": "code",
   "execution_count": null,
   "id": "ccfe9a78",
   "metadata": {},
   "outputs": [],
   "source": []
  },
  {
   "cell_type": "markdown",
   "id": "47caaeb4",
   "metadata": {},
   "source": [
    "# qset"
   ]
  },
  {
   "cell_type": "code",
   "execution_count": 20,
   "id": "9ad535a3",
   "metadata": {},
   "outputs": [
    {
     "data": {
      "text/html": [
       "<div>\n",
       "<style scoped>\n",
       "    .dataframe tbody tr th:only-of-type {\n",
       "        vertical-align: middle;\n",
       "    }\n",
       "\n",
       "    .dataframe tbody tr th {\n",
       "        vertical-align: top;\n",
       "    }\n",
       "\n",
       "    .dataframe thead th {\n",
       "        text-align: right;\n",
       "    }\n",
       "</style>\n",
       "<table border=\"1\" class=\"dataframe\">\n",
       "  <thead>\n",
       "    <tr style=\"text-align: right;\">\n",
       "      <th></th>\n",
       "      <th>id</th>\n",
       "      <th>qsets_normalized_tat</th>\n",
       "    </tr>\n",
       "  </thead>\n",
       "  <tbody>\n",
       "    <tr>\n",
       "      <th>0</th>\n",
       "      <td>9983</td>\n",
       "      <td>2.41</td>\n",
       "    </tr>\n",
       "    <tr>\n",
       "      <th>1</th>\n",
       "      <td>266000</td>\n",
       "      <td>3.10</td>\n",
       "    </tr>\n",
       "  </tbody>\n",
       "</table>\n",
       "</div>"
      ],
      "text/plain": [
       "       id  qsets_normalized_tat\n",
       "0    9983                  2.41\n",
       "1  266000                  3.10"
      ]
     },
     "execution_count": 20,
     "metadata": {},
     "output_type": "execute_result"
    }
   ],
   "source": [
    "qset.head(2)"
   ]
  },
  {
   "cell_type": "code",
   "execution_count": 21,
   "id": "0f32ec85",
   "metadata": {},
   "outputs": [
    {
     "data": {
      "text/plain": [
       "(1424035, 2)"
      ]
     },
     "execution_count": 21,
     "metadata": {},
     "output_type": "execute_result"
    }
   ],
   "source": [
    "qset.shape"
   ]
  },
  {
   "cell_type": "code",
   "execution_count": 22,
   "id": "fc317e62",
   "metadata": {},
   "outputs": [
    {
     "data": {
      "text/plain": [
       "id                      284807\n",
       "qsets_normalized_tat     24832\n",
       "dtype: int64"
      ]
     },
     "execution_count": 22,
     "metadata": {},
     "output_type": "execute_result"
    }
   ],
   "source": [
    "qset.nunique()"
   ]
  },
  {
   "cell_type": "code",
   "execution_count": 24,
   "id": "72e6614b",
   "metadata": {},
   "outputs": [
    {
     "data": {
      "text/plain": [
       "id                      0.000000\n",
       "qsets_normalized_tat    7.247083\n",
       "dtype: float64"
      ]
     },
     "execution_count": 24,
     "metadata": {},
     "output_type": "execute_result"
    }
   ],
   "source": [
    "qset.isnull().sum()/len(qset)*100"
   ]
  },
  {
   "cell_type": "code",
   "execution_count": 25,
   "id": "e2dc051c",
   "metadata": {},
   "outputs": [
    {
     "data": {
      "text/plain": [
       "<AxesSubplot:ylabel='qsets_normalized_tat'>"
      ]
     },
     "execution_count": 25,
     "metadata": {},
     "output_type": "execute_result"
    },
    {
     "data": {
      "image/png": "[encoded data removed]",
      "text/plain": [
       "<Figure size 640x480 with 1 Axes>"
      ]
     },
     "metadata": {},
     "output_type": "display_data"
    }
   ],
   "source": [
    "sns.boxplot(y='qsets_normalized_tat', data=qset)"
   ]
  },
  {
   "cell_type": "code",
   "execution_count": 26,
   "id": "efa40faa",
   "metadata": {},
   "outputs": [],
   "source": [
    "qset.fillna(qset['qsets_normalized_tat'].median(), inplace=True)"
   ]
  },
  {
   "cell_type": "code",
   "execution_count": 27,
   "id": "3a106511",
   "metadata": {},
   "outputs": [
    {
     "data": {
      "text/plain": [
       "id                      0\n",
       "qsets_normalized_tat    0\n",
       "dtype: int64"
      ]
     },
     "execution_count": 27,
     "metadata": {},
     "output_type": "execute_result"
    }
   ],
   "source": [
    "qset.isnull().sum()"
   ]
  },
  {
   "cell_type": "code",
   "execution_count": 59,
   "id": "45bfda5f",
   "metadata": {},
   "outputs": [
    {
     "data": {
      "text/plain": [
       "(1424035, 2)"
      ]
     },
     "execution_count": 59,
     "metadata": {},
     "output_type": "execute_result"
    }
   ],
   "source": [
    "qset.shape"
   ]
  },
  {
   "cell_type": "code",
   "execution_count": 60,
   "id": "1b9dc209",
   "metadata": {},
   "outputs": [],
   "source": [
    "qset = qset.groupby('id').mean()"
   ]
  },
  {
   "cell_type": "code",
   "execution_count": 61,
   "id": "180c6db3",
   "metadata": {},
   "outputs": [
    {
     "data": {
      "text/plain": [
       "(284807, 1)"
      ]
     },
     "execution_count": 61,
     "metadata": {},
     "output_type": "execute_result"
    }
   ],
   "source": [
    "qset.shape"
   ]
  },
  {
   "cell_type": "code",
   "execution_count": null,
   "id": "bdcdf827",
   "metadata": {},
   "outputs": [],
   "source": []
  },
  {
   "cell_type": "markdown",
   "id": "6e838ffa",
   "metadata": {},
   "source": [
    "# train"
   ]
  },
  {
   "cell_type": "code",
   "execution_count": 28,
   "id": "0b8142ce",
   "metadata": {},
   "outputs": [
    {
     "data": {
      "text/html": [
       "<div>\n",
       "<style scoped>\n",
       "    .dataframe tbody tr th:only-of-type {\n",
       "        vertical-align: middle;\n",
       "    }\n",
       "\n",
       "    .dataframe tbody tr th {\n",
       "        vertical-align: top;\n",
       "    }\n",
       "\n",
       "    .dataframe thead th {\n",
       "        text-align: right;\n",
       "    }\n",
       "</style>\n",
       "<table border=\"1\" class=\"dataframe\">\n",
       "  <thead>\n",
       "    <tr style=\"text-align: right;\">\n",
       "      <th></th>\n",
       "      <th>id</th>\n",
       "      <th>Group</th>\n",
       "      <th>Per1</th>\n",
       "      <th>Per2</th>\n",
       "      <th>Per3</th>\n",
       "      <th>Per4</th>\n",
       "      <th>Per5</th>\n",
       "      <th>Per6</th>\n",
       "      <th>Per7</th>\n",
       "      <th>Per8</th>\n",
       "      <th>...</th>\n",
       "      <th>Dem8</th>\n",
       "      <th>Dem9</th>\n",
       "      <th>Cred1</th>\n",
       "      <th>Cred2</th>\n",
       "      <th>Cred3</th>\n",
       "      <th>Cred4</th>\n",
       "      <th>Cred5</th>\n",
       "      <th>Cred6</th>\n",
       "      <th>Normalised_FNT</th>\n",
       "      <th>Target</th>\n",
       "    </tr>\n",
       "  </thead>\n",
       "  <tbody>\n",
       "    <tr>\n",
       "      <th>0</th>\n",
       "      <td>112751</td>\n",
       "      <td>Grp169</td>\n",
       "      <td>1.070000</td>\n",
       "      <td>0.580000</td>\n",
       "      <td>0.480000</td>\n",
       "      <td>0.766667</td>\n",
       "      <td>1.233333</td>\n",
       "      <td>1.993333</td>\n",
       "      <td>0.34</td>\n",
       "      <td>1.010000</td>\n",
       "      <td>...</td>\n",
       "      <td>0.680000</td>\n",
       "      <td>0.726667</td>\n",
       "      <td>0.606667</td>\n",
       "      <td>1.01</td>\n",
       "      <td>0.933333</td>\n",
       "      <td>0.603333</td>\n",
       "      <td>0.686667</td>\n",
       "      <td>0.673333</td>\n",
       "      <td>-245.75</td>\n",
       "      <td>0</td>\n",
       "    </tr>\n",
       "    <tr>\n",
       "      <th>1</th>\n",
       "      <td>18495</td>\n",
       "      <td>Grp161</td>\n",
       "      <td>0.473333</td>\n",
       "      <td>1.206667</td>\n",
       "      <td>0.883333</td>\n",
       "      <td>1.430000</td>\n",
       "      <td>0.726667</td>\n",
       "      <td>0.626667</td>\n",
       "      <td>0.81</td>\n",
       "      <td>0.783333</td>\n",
       "      <td>...</td>\n",
       "      <td>0.716667</td>\n",
       "      <td>0.743333</td>\n",
       "      <td>0.680000</td>\n",
       "      <td>0.69</td>\n",
       "      <td>0.560000</td>\n",
       "      <td>0.670000</td>\n",
       "      <td>0.553333</td>\n",
       "      <td>0.653333</td>\n",
       "      <td>-248.00</td>\n",
       "      <td>0</td>\n",
       "    </tr>\n",
       "  </tbody>\n",
       "</table>\n",
       "<p>2 rows × 28 columns</p>\n",
       "</div>"
      ],
      "text/plain": [
       "       id   Group      Per1      Per2      Per3      Per4      Per5      Per6  \\\n",
       "0  112751  Grp169  1.070000  0.580000  0.480000  0.766667  1.233333  1.993333   \n",
       "1   18495  Grp161  0.473333  1.206667  0.883333  1.430000  0.726667  0.626667   \n",
       "\n",
       "   Per7      Per8  ...      Dem8      Dem9     Cred1  Cred2     Cred3  \\\n",
       "0  0.34  1.010000  ...  0.680000  0.726667  0.606667   1.01  0.933333   \n",
       "1  0.81  0.783333  ...  0.716667  0.743333  0.680000   0.69  0.560000   \n",
       "\n",
       "      Cred4     Cred5     Cred6  Normalised_FNT  Target  \n",
       "0  0.603333  0.686667  0.673333         -245.75       0  \n",
       "1  0.670000  0.553333  0.653333         -248.00       0  \n",
       "\n",
       "[2 rows x 28 columns]"
      ]
     },
     "execution_count": 28,
     "metadata": {},
     "output_type": "execute_result"
    }
   ],
   "source": [
    "train.head(2)"
   ]
  },
  {
   "cell_type": "code",
   "execution_count": 29,
   "id": "6cf6d743",
   "metadata": {},
   "outputs": [
    {
     "data": {
      "text/plain": [
       "(227845, 28)"
      ]
     },
     "execution_count": 29,
     "metadata": {},
     "output_type": "execute_result"
    }
   ],
   "source": [
    "train.shape"
   ]
  },
  {
   "cell_type": "code",
   "execution_count": 30,
   "id": "19f663e4",
   "metadata": {},
   "outputs": [
    {
     "data": {
      "text/plain": [
       "(56962, 27)"
      ]
     },
     "execution_count": 30,
     "metadata": {},
     "output_type": "execute_result"
    }
   ],
   "source": [
    "test.shape"
   ]
  },
  {
   "cell_type": "code",
   "execution_count": 31,
   "id": "a0c51dee",
   "metadata": {},
   "outputs": [
    {
     "data": {
      "text/plain": [
       "284807"
      ]
     },
     "execution_count": 31,
     "metadata": {},
     "output_type": "execute_result"
    }
   ],
   "source": [
    "227845+56962"
   ]
  },
  {
   "cell_type": "code",
   "execution_count": 32,
   "id": "10d2a77f",
   "metadata": {},
   "outputs": [
    {
     "data": {
      "text/plain": [
       "id                0\n",
       "Group             0\n",
       "Per1              0\n",
       "Per2              0\n",
       "Per3              0\n",
       "Per4              0\n",
       "Per5              0\n",
       "Per6              0\n",
       "Per7              0\n",
       "Per8              0\n",
       "Per9              0\n",
       "Dem1              0\n",
       "Dem2              0\n",
       "Dem3              0\n",
       "Dem4              0\n",
       "Dem5              0\n",
       "Dem6              0\n",
       "Dem7              0\n",
       "Dem8              0\n",
       "Dem9              0\n",
       "Cred1             0\n",
       "Cred2             0\n",
       "Cred3             0\n",
       "Cred4             0\n",
       "Cred5             0\n",
       "Cred6             0\n",
       "Normalised_FNT    0\n",
       "Target            0\n",
       "dtype: int64"
      ]
     },
     "execution_count": 32,
     "metadata": {},
     "output_type": "execute_result"
    }
   ],
   "source": [
    "train.isnull().sum()"
   ]
  },
  {
   "cell_type": "code",
   "execution_count": 33,
   "id": "2a08aa25",
   "metadata": {},
   "outputs": [
    {
     "name": "stdout",
     "output_type": "stream",
     "text": [
      "<class 'pandas.core.frame.DataFrame'>\n",
      "RangeIndex: 227845 entries, 0 to 227844\n",
      "Data columns (total 28 columns):\n",
      " #   Column          Non-Null Count   Dtype  \n",
      "---  ------          --------------   -----  \n",
      " 0   id              227845 non-null  int64  \n",
      " 1   Group           227845 non-null  object \n",
      " 2   Per1            227845 non-null  float64\n",
      " 3   Per2            227845 non-null  float64\n",
      " 4   Per3            227845 non-null  float64\n",
      " 5   Per4            227845 non-null  float64\n",
      " 6   Per5            227845 non-null  float64\n",
      " 7   Per6            227845 non-null  float64\n",
      " 8   Per7            227845 non-null  float64\n",
      " 9   Per8            227845 non-null  float64\n",
      " 10  Per9            227845 non-null  float64\n",
      " 11  Dem1            227845 non-null  float64\n",
      " 12  Dem2            227845 non-null  float64\n",
      " 13  Dem3            227845 non-null  float64\n",
      " 14  Dem4            227845 non-null  float64\n",
      " 15  Dem5            227845 non-null  float64\n",
      " 16  Dem6            227845 non-null  float64\n",
      " 17  Dem7            227845 non-null  float64\n",
      " 18  Dem8            227845 non-null  float64\n",
      " 19  Dem9            227845 non-null  float64\n",
      " 20  Cred1           227845 non-null  float64\n",
      " 21  Cred2           227845 non-null  float64\n",
      " 22  Cred3           227845 non-null  float64\n",
      " 23  Cred4           227845 non-null  float64\n",
      " 24  Cred5           227845 non-null  float64\n",
      " 25  Cred6           227845 non-null  float64\n",
      " 26  Normalised_FNT  227845 non-null  float64\n",
      " 27  Target          227845 non-null  int64  \n",
      "dtypes: float64(25), int64(2), object(1)\n",
      "memory usage: 48.7+ MB\n"
     ]
    }
   ],
   "source": [
    "train.info()"
   ]
  },
  {
   "cell_type": "code",
   "execution_count": 34,
   "id": "0fa8d77b",
   "metadata": {},
   "outputs": [
    {
     "data": {
      "text/html": [
       "<div>\n",
       "<style scoped>\n",
       "    .dataframe tbody tr th:only-of-type {\n",
       "        vertical-align: middle;\n",
       "    }\n",
       "\n",
       "    .dataframe tbody tr th {\n",
       "        vertical-align: top;\n",
       "    }\n",
       "\n",
       "    .dataframe thead th {\n",
       "        text-align: right;\n",
       "    }\n",
       "</style>\n",
       "<table border=\"1\" class=\"dataframe\">\n",
       "  <thead>\n",
       "    <tr style=\"text-align: right;\">\n",
       "      <th></th>\n",
       "      <th>id</th>\n",
       "      <th>Group</th>\n",
       "      <th>Per1</th>\n",
       "      <th>Per2</th>\n",
       "      <th>Per3</th>\n",
       "      <th>Per4</th>\n",
       "      <th>Per5</th>\n",
       "      <th>Per6</th>\n",
       "      <th>Per7</th>\n",
       "      <th>Per8</th>\n",
       "      <th>...</th>\n",
       "      <th>Dem7</th>\n",
       "      <th>Dem8</th>\n",
       "      <th>Dem9</th>\n",
       "      <th>Cred1</th>\n",
       "      <th>Cred2</th>\n",
       "      <th>Cred3</th>\n",
       "      <th>Cred4</th>\n",
       "      <th>Cred5</th>\n",
       "      <th>Cred6</th>\n",
       "      <th>Normalised_FNT</th>\n",
       "    </tr>\n",
       "  </thead>\n",
       "  <tbody>\n",
       "    <tr>\n",
       "      <th>0</th>\n",
       "      <td>146574</td>\n",
       "      <td>Grp229</td>\n",
       "      <td>-0.300000</td>\n",
       "      <td>1.540000</td>\n",
       "      <td>0.220000</td>\n",
       "      <td>-0.280000</td>\n",
       "      <td>0.570000</td>\n",
       "      <td>0.260000</td>\n",
       "      <td>0.700000</td>\n",
       "      <td>1.076667</td>\n",
       "      <td>...</td>\n",
       "      <td>0.786667</td>\n",
       "      <td>0.546667</td>\n",
       "      <td>0.313333</td>\n",
       "      <td>0.703333</td>\n",
       "      <td>0.813333</td>\n",
       "      <td>0.776667</td>\n",
       "      <td>0.796667</td>\n",
       "      <td>0.823333</td>\n",
       "      <td>0.783333</td>\n",
       "      <td>-249.7500</td>\n",
       "    </tr>\n",
       "    <tr>\n",
       "      <th>1</th>\n",
       "      <td>268759</td>\n",
       "      <td>Grp141</td>\n",
       "      <td>0.633333</td>\n",
       "      <td>0.953333</td>\n",
       "      <td>0.810000</td>\n",
       "      <td>0.466667</td>\n",
       "      <td>0.910000</td>\n",
       "      <td>0.253333</td>\n",
       "      <td>1.040000</td>\n",
       "      <td>0.550000</td>\n",
       "      <td>...</td>\n",
       "      <td>0.636667</td>\n",
       "      <td>0.770000</td>\n",
       "      <td>0.993333</td>\n",
       "      <td>0.536667</td>\n",
       "      <td>0.703333</td>\n",
       "      <td>0.806667</td>\n",
       "      <td>0.630000</td>\n",
       "      <td>0.673333</td>\n",
       "      <td>0.673333</td>\n",
       "      <td>-249.8125</td>\n",
       "    </tr>\n",
       "    <tr>\n",
       "      <th>2</th>\n",
       "      <td>59727</td>\n",
       "      <td>Grp188</td>\n",
       "      <td>1.043333</td>\n",
       "      <td>0.740000</td>\n",
       "      <td>0.860000</td>\n",
       "      <td>1.006667</td>\n",
       "      <td>0.583333</td>\n",
       "      <td>0.616667</td>\n",
       "      <td>0.630000</td>\n",
       "      <td>0.686667</td>\n",
       "      <td>...</td>\n",
       "      <td>0.626667</td>\n",
       "      <td>0.756667</td>\n",
       "      <td>0.953333</td>\n",
       "      <td>0.623333</td>\n",
       "      <td>0.753333</td>\n",
       "      <td>0.870000</td>\n",
       "      <td>0.596667</td>\n",
       "      <td>0.680000</td>\n",
       "      <td>0.670000</td>\n",
       "      <td>-248.1200</td>\n",
       "    </tr>\n",
       "    <tr>\n",
       "      <th>3</th>\n",
       "      <td>151544</td>\n",
       "      <td>Grp426</td>\n",
       "      <td>1.283333</td>\n",
       "      <td>0.300000</td>\n",
       "      <td>0.576667</td>\n",
       "      <td>0.636667</td>\n",
       "      <td>0.256667</td>\n",
       "      <td>0.543333</td>\n",
       "      <td>0.356667</td>\n",
       "      <td>0.663333</td>\n",
       "      <td>...</td>\n",
       "      <td>0.480000</td>\n",
       "      <td>0.460000</td>\n",
       "      <td>0.260000</td>\n",
       "      <td>0.800000</td>\n",
       "      <td>0.606667</td>\n",
       "      <td>0.456667</td>\n",
       "      <td>0.320000</td>\n",
       "      <td>0.676667</td>\n",
       "      <td>0.660000</td>\n",
       "      <td>-222.9875</td>\n",
       "    </tr>\n",
       "    <tr>\n",
       "      <th>4</th>\n",
       "      <td>155008</td>\n",
       "      <td>Grp443</td>\n",
       "      <td>1.186667</td>\n",
       "      <td>0.326667</td>\n",
       "      <td>0.476667</td>\n",
       "      <td>0.866667</td>\n",
       "      <td>0.436667</td>\n",
       "      <td>0.680000</td>\n",
       "      <td>0.476667</td>\n",
       "      <td>0.686667</td>\n",
       "      <td>...</td>\n",
       "      <td>0.706667</td>\n",
       "      <td>0.740000</td>\n",
       "      <td>0.823333</td>\n",
       "      <td>0.670000</td>\n",
       "      <td>0.896667</td>\n",
       "      <td>0.566667</td>\n",
       "      <td>0.546667</td>\n",
       "      <td>0.650000</td>\n",
       "      <td>0.663333</td>\n",
       "      <td>-196.2200</td>\n",
       "    </tr>\n",
       "  </tbody>\n",
       "</table>\n",
       "<p>5 rows × 27 columns</p>\n",
       "</div>"
      ],
      "text/plain": [
       "       id   Group      Per1      Per2      Per3      Per4      Per5      Per6  \\\n",
       "0  146574  Grp229 -0.300000  1.540000  0.220000 -0.280000  0.570000  0.260000   \n",
       "1  268759  Grp141  0.633333  0.953333  0.810000  0.466667  0.910000  0.253333   \n",
       "2   59727  Grp188  1.043333  0.740000  0.860000  1.006667  0.583333  0.616667   \n",
       "3  151544  Grp426  1.283333  0.300000  0.576667  0.636667  0.256667  0.543333   \n",
       "4  155008  Grp443  1.186667  0.326667  0.476667  0.866667  0.436667  0.680000   \n",
       "\n",
       "       Per7      Per8  ...      Dem7      Dem8      Dem9     Cred1     Cred2  \\\n",
       "0  0.700000  1.076667  ...  0.786667  0.546667  0.313333  0.703333  0.813333   \n",
       "1  1.040000  0.550000  ...  0.636667  0.770000  0.993333  0.536667  0.703333   \n",
       "2  0.630000  0.686667  ...  0.626667  0.756667  0.953333  0.623333  0.753333   \n",
       "3  0.356667  0.663333  ...  0.480000  0.460000  0.260000  0.800000  0.606667   \n",
       "4  0.476667  0.686667  ...  0.706667  0.740000  0.823333  0.670000  0.896667   \n",
       "\n",
       "      Cred3     Cred4     Cred5     Cred6  Normalised_FNT  \n",
       "0  0.776667  0.796667  0.823333  0.783333       -249.7500  \n",
       "1  0.806667  0.630000  0.673333  0.673333       -249.8125  \n",
       "2  0.870000  0.596667  0.680000  0.670000       -248.1200  \n",
       "3  0.456667  0.320000  0.676667  0.660000       -222.9875  \n",
       "4  0.566667  0.546667  0.650000  0.663333       -196.2200  \n",
       "\n",
       "[5 rows x 27 columns]"
      ]
     },
     "execution_count": 34,
     "metadata": {},
     "output_type": "execute_result"
    }
   ],
   "source": [
    "test.head()"
   ]
  },
  {
   "cell_type": "code",
   "execution_count": 35,
   "id": "02f98fae",
   "metadata": {},
   "outputs": [
    {
     "data": {
      "text/plain": [
       "1301"
      ]
     },
     "execution_count": 35,
     "metadata": {},
     "output_type": "execute_result"
    }
   ],
   "source": [
    "train['Group'].nunique()"
   ]
  },
  {
   "cell_type": "code",
   "execution_count": 36,
   "id": "0c246141",
   "metadata": {},
   "outputs": [
    {
     "data": {
      "text/plain": [
       "915"
      ]
     },
     "execution_count": 36,
     "metadata": {},
     "output_type": "execute_result"
    }
   ],
   "source": [
    "test['Group'].nunique()"
   ]
  },
  {
   "cell_type": "code",
   "execution_count": 38,
   "id": "8a68da90",
   "metadata": {},
   "outputs": [],
   "source": [
    "train['data'] = 'train'"
   ]
  },
  {
   "cell_type": "code",
   "execution_count": 39,
   "id": "4d57ba8a",
   "metadata": {},
   "outputs": [
    {
     "data": {
      "text/html": [
       "<div>\n",
       "<style scoped>\n",
       "    .dataframe tbody tr th:only-of-type {\n",
       "        vertical-align: middle;\n",
       "    }\n",
       "\n",
       "    .dataframe tbody tr th {\n",
       "        vertical-align: top;\n",
       "    }\n",
       "\n",
       "    .dataframe thead th {\n",
       "        text-align: right;\n",
       "    }\n",
       "</style>\n",
       "<table border=\"1\" class=\"dataframe\">\n",
       "  <thead>\n",
       "    <tr style=\"text-align: right;\">\n",
       "      <th></th>\n",
       "      <th>id</th>\n",
       "      <th>Group</th>\n",
       "      <th>Per1</th>\n",
       "      <th>Per2</th>\n",
       "      <th>Per3</th>\n",
       "      <th>Per4</th>\n",
       "      <th>Per5</th>\n",
       "      <th>Per6</th>\n",
       "      <th>Per7</th>\n",
       "      <th>Per8</th>\n",
       "      <th>...</th>\n",
       "      <th>Dem9</th>\n",
       "      <th>Cred1</th>\n",
       "      <th>Cred2</th>\n",
       "      <th>Cred3</th>\n",
       "      <th>Cred4</th>\n",
       "      <th>Cred5</th>\n",
       "      <th>Cred6</th>\n",
       "      <th>Normalised_FNT</th>\n",
       "      <th>Target</th>\n",
       "      <th>data</th>\n",
       "    </tr>\n",
       "  </thead>\n",
       "  <tbody>\n",
       "    <tr>\n",
       "      <th>0</th>\n",
       "      <td>112751</td>\n",
       "      <td>Grp169</td>\n",
       "      <td>1.070000</td>\n",
       "      <td>0.580000</td>\n",
       "      <td>0.480000</td>\n",
       "      <td>0.766667</td>\n",
       "      <td>1.233333</td>\n",
       "      <td>1.993333</td>\n",
       "      <td>0.340000</td>\n",
       "      <td>1.010000</td>\n",
       "      <td>...</td>\n",
       "      <td>0.726667</td>\n",
       "      <td>0.606667</td>\n",
       "      <td>1.010000</td>\n",
       "      <td>0.933333</td>\n",
       "      <td>0.603333</td>\n",
       "      <td>0.686667</td>\n",
       "      <td>0.673333</td>\n",
       "      <td>-245.7500</td>\n",
       "      <td>0</td>\n",
       "      <td>train</td>\n",
       "    </tr>\n",
       "    <tr>\n",
       "      <th>1</th>\n",
       "      <td>18495</td>\n",
       "      <td>Grp161</td>\n",
       "      <td>0.473333</td>\n",
       "      <td>1.206667</td>\n",
       "      <td>0.883333</td>\n",
       "      <td>1.430000</td>\n",
       "      <td>0.726667</td>\n",
       "      <td>0.626667</td>\n",
       "      <td>0.810000</td>\n",
       "      <td>0.783333</td>\n",
       "      <td>...</td>\n",
       "      <td>0.743333</td>\n",
       "      <td>0.680000</td>\n",
       "      <td>0.690000</td>\n",
       "      <td>0.560000</td>\n",
       "      <td>0.670000</td>\n",
       "      <td>0.553333</td>\n",
       "      <td>0.653333</td>\n",
       "      <td>-248.0000</td>\n",
       "      <td>0</td>\n",
       "      <td>train</td>\n",
       "    </tr>\n",
       "    <tr>\n",
       "      <th>2</th>\n",
       "      <td>23915</td>\n",
       "      <td>Grp261</td>\n",
       "      <td>1.130000</td>\n",
       "      <td>0.143333</td>\n",
       "      <td>0.946667</td>\n",
       "      <td>0.123333</td>\n",
       "      <td>0.080000</td>\n",
       "      <td>0.836667</td>\n",
       "      <td>0.056667</td>\n",
       "      <td>0.756667</td>\n",
       "      <td>...</td>\n",
       "      <td>0.820000</td>\n",
       "      <td>0.600000</td>\n",
       "      <td>0.383333</td>\n",
       "      <td>0.763333</td>\n",
       "      <td>0.670000</td>\n",
       "      <td>0.686667</td>\n",
       "      <td>0.673333</td>\n",
       "      <td>-233.1250</td>\n",
       "      <td>0</td>\n",
       "      <td>train</td>\n",
       "    </tr>\n",
       "    <tr>\n",
       "      <th>3</th>\n",
       "      <td>50806</td>\n",
       "      <td>Grp198</td>\n",
       "      <td>0.636667</td>\n",
       "      <td>1.090000</td>\n",
       "      <td>0.750000</td>\n",
       "      <td>0.940000</td>\n",
       "      <td>0.743333</td>\n",
       "      <td>0.346667</td>\n",
       "      <td>0.956667</td>\n",
       "      <td>0.633333</td>\n",
       "      <td>...</td>\n",
       "      <td>0.900000</td>\n",
       "      <td>0.680000</td>\n",
       "      <td>0.846667</td>\n",
       "      <td>0.423333</td>\n",
       "      <td>0.520000</td>\n",
       "      <td>0.846667</td>\n",
       "      <td>0.760000</td>\n",
       "      <td>-249.7775</td>\n",
       "      <td>0</td>\n",
       "      <td>train</td>\n",
       "    </tr>\n",
       "    <tr>\n",
       "      <th>4</th>\n",
       "      <td>184244</td>\n",
       "      <td>Grp228</td>\n",
       "      <td>0.560000</td>\n",
       "      <td>1.013333</td>\n",
       "      <td>0.593333</td>\n",
       "      <td>0.416667</td>\n",
       "      <td>0.773333</td>\n",
       "      <td>0.460000</td>\n",
       "      <td>0.853333</td>\n",
       "      <td>0.796667</td>\n",
       "      <td>...</td>\n",
       "      <td>0.486667</td>\n",
       "      <td>0.693333</td>\n",
       "      <td>0.526667</td>\n",
       "      <td>0.520000</td>\n",
       "      <td>0.716667</td>\n",
       "      <td>0.706667</td>\n",
       "      <td>0.673333</td>\n",
       "      <td>-247.5775</td>\n",
       "      <td>0</td>\n",
       "      <td>train</td>\n",
       "    </tr>\n",
       "  </tbody>\n",
       "</table>\n",
       "<p>5 rows × 29 columns</p>\n",
       "</div>"
      ],
      "text/plain": [
       "       id   Group      Per1      Per2      Per3      Per4      Per5      Per6  \\\n",
       "0  112751  Grp169  1.070000  0.580000  0.480000  0.766667  1.233333  1.993333   \n",
       "1   18495  Grp161  0.473333  1.206667  0.883333  1.430000  0.726667  0.626667   \n",
       "2   23915  Grp261  1.130000  0.143333  0.946667  0.123333  0.080000  0.836667   \n",
       "3   50806  Grp198  0.636667  1.090000  0.750000  0.940000  0.743333  0.346667   \n",
       "4  184244  Grp228  0.560000  1.013333  0.593333  0.416667  0.773333  0.460000   \n",
       "\n",
       "       Per7      Per8  ...      Dem9     Cred1     Cred2     Cred3     Cred4  \\\n",
       "0  0.340000  1.010000  ...  0.726667  0.606667  1.010000  0.933333  0.603333   \n",
       "1  0.810000  0.783333  ...  0.743333  0.680000  0.690000  0.560000  0.670000   \n",
       "2  0.056667  0.756667  ...  0.820000  0.600000  0.383333  0.763333  0.670000   \n",
       "3  0.956667  0.633333  ...  0.900000  0.680000  0.846667  0.423333  0.520000   \n",
       "4  0.853333  0.796667  ...  0.486667  0.693333  0.526667  0.520000  0.716667   \n",
       "\n",
       "      Cred5     Cred6  Normalised_FNT  Target   data  \n",
       "0  0.686667  0.673333       -245.7500       0  train  \n",
       "1  0.553333  0.653333       -248.0000       0  train  \n",
       "2  0.686667  0.673333       -233.1250       0  train  \n",
       "3  0.846667  0.760000       -249.7775       0  train  \n",
       "4  0.706667  0.673333       -247.5775       0  train  \n",
       "\n",
       "[5 rows x 29 columns]"
      ]
     },
     "execution_count": 39,
     "metadata": {},
     "output_type": "execute_result"
    }
   ],
   "source": [
    "train.head()"
   ]
  },
  {
   "cell_type": "code",
   "execution_count": 40,
   "id": "3e84036c",
   "metadata": {},
   "outputs": [],
   "source": [
    "test['data']='test'"
   ]
  },
  {
   "cell_type": "code",
   "execution_count": 41,
   "id": "b8948f27",
   "metadata": {},
   "outputs": [
    {
     "data": {
      "text/html": [
       "<div>\n",
       "<style scoped>\n",
       "    .dataframe tbody tr th:only-of-type {\n",
       "        vertical-align: middle;\n",
       "    }\n",
       "\n",
       "    .dataframe tbody tr th {\n",
       "        vertical-align: top;\n",
       "    }\n",
       "\n",
       "    .dataframe thead th {\n",
       "        text-align: right;\n",
       "    }\n",
       "</style>\n",
       "<table border=\"1\" class=\"dataframe\">\n",
       "  <thead>\n",
       "    <tr style=\"text-align: right;\">\n",
       "      <th></th>\n",
       "      <th>id</th>\n",
       "      <th>Group</th>\n",
       "      <th>Per1</th>\n",
       "      <th>Per2</th>\n",
       "      <th>Per3</th>\n",
       "      <th>Per4</th>\n",
       "      <th>Per5</th>\n",
       "      <th>Per6</th>\n",
       "      <th>Per7</th>\n",
       "      <th>Per8</th>\n",
       "      <th>...</th>\n",
       "      <th>Dem8</th>\n",
       "      <th>Dem9</th>\n",
       "      <th>Cred1</th>\n",
       "      <th>Cred2</th>\n",
       "      <th>Cred3</th>\n",
       "      <th>Cred4</th>\n",
       "      <th>Cred5</th>\n",
       "      <th>Cred6</th>\n",
       "      <th>Normalised_FNT</th>\n",
       "      <th>data</th>\n",
       "    </tr>\n",
       "  </thead>\n",
       "  <tbody>\n",
       "    <tr>\n",
       "      <th>0</th>\n",
       "      <td>146574</td>\n",
       "      <td>Grp229</td>\n",
       "      <td>-0.300000</td>\n",
       "      <td>1.540000</td>\n",
       "      <td>0.220000</td>\n",
       "      <td>-0.280000</td>\n",
       "      <td>0.570000</td>\n",
       "      <td>0.260000</td>\n",
       "      <td>0.700000</td>\n",
       "      <td>1.076667</td>\n",
       "      <td>...</td>\n",
       "      <td>0.546667</td>\n",
       "      <td>0.313333</td>\n",
       "      <td>0.703333</td>\n",
       "      <td>0.813333</td>\n",
       "      <td>0.776667</td>\n",
       "      <td>0.796667</td>\n",
       "      <td>0.823333</td>\n",
       "      <td>0.783333</td>\n",
       "      <td>-249.7500</td>\n",
       "      <td>test</td>\n",
       "    </tr>\n",
       "    <tr>\n",
       "      <th>1</th>\n",
       "      <td>268759</td>\n",
       "      <td>Grp141</td>\n",
       "      <td>0.633333</td>\n",
       "      <td>0.953333</td>\n",
       "      <td>0.810000</td>\n",
       "      <td>0.466667</td>\n",
       "      <td>0.910000</td>\n",
       "      <td>0.253333</td>\n",
       "      <td>1.040000</td>\n",
       "      <td>0.550000</td>\n",
       "      <td>...</td>\n",
       "      <td>0.770000</td>\n",
       "      <td>0.993333</td>\n",
       "      <td>0.536667</td>\n",
       "      <td>0.703333</td>\n",
       "      <td>0.806667</td>\n",
       "      <td>0.630000</td>\n",
       "      <td>0.673333</td>\n",
       "      <td>0.673333</td>\n",
       "      <td>-249.8125</td>\n",
       "      <td>test</td>\n",
       "    </tr>\n",
       "    <tr>\n",
       "      <th>2</th>\n",
       "      <td>59727</td>\n",
       "      <td>Grp188</td>\n",
       "      <td>1.043333</td>\n",
       "      <td>0.740000</td>\n",
       "      <td>0.860000</td>\n",
       "      <td>1.006667</td>\n",
       "      <td>0.583333</td>\n",
       "      <td>0.616667</td>\n",
       "      <td>0.630000</td>\n",
       "      <td>0.686667</td>\n",
       "      <td>...</td>\n",
       "      <td>0.756667</td>\n",
       "      <td>0.953333</td>\n",
       "      <td>0.623333</td>\n",
       "      <td>0.753333</td>\n",
       "      <td>0.870000</td>\n",
       "      <td>0.596667</td>\n",
       "      <td>0.680000</td>\n",
       "      <td>0.670000</td>\n",
       "      <td>-248.1200</td>\n",
       "      <td>test</td>\n",
       "    </tr>\n",
       "    <tr>\n",
       "      <th>3</th>\n",
       "      <td>151544</td>\n",
       "      <td>Grp426</td>\n",
       "      <td>1.283333</td>\n",
       "      <td>0.300000</td>\n",
       "      <td>0.576667</td>\n",
       "      <td>0.636667</td>\n",
       "      <td>0.256667</td>\n",
       "      <td>0.543333</td>\n",
       "      <td>0.356667</td>\n",
       "      <td>0.663333</td>\n",
       "      <td>...</td>\n",
       "      <td>0.460000</td>\n",
       "      <td>0.260000</td>\n",
       "      <td>0.800000</td>\n",
       "      <td>0.606667</td>\n",
       "      <td>0.456667</td>\n",
       "      <td>0.320000</td>\n",
       "      <td>0.676667</td>\n",
       "      <td>0.660000</td>\n",
       "      <td>-222.9875</td>\n",
       "      <td>test</td>\n",
       "    </tr>\n",
       "    <tr>\n",
       "      <th>4</th>\n",
       "      <td>155008</td>\n",
       "      <td>Grp443</td>\n",
       "      <td>1.186667</td>\n",
       "      <td>0.326667</td>\n",
       "      <td>0.476667</td>\n",
       "      <td>0.866667</td>\n",
       "      <td>0.436667</td>\n",
       "      <td>0.680000</td>\n",
       "      <td>0.476667</td>\n",
       "      <td>0.686667</td>\n",
       "      <td>...</td>\n",
       "      <td>0.740000</td>\n",
       "      <td>0.823333</td>\n",
       "      <td>0.670000</td>\n",
       "      <td>0.896667</td>\n",
       "      <td>0.566667</td>\n",
       "      <td>0.546667</td>\n",
       "      <td>0.650000</td>\n",
       "      <td>0.663333</td>\n",
       "      <td>-196.2200</td>\n",
       "      <td>test</td>\n",
       "    </tr>\n",
       "  </tbody>\n",
       "</table>\n",
       "<p>5 rows × 28 columns</p>\n",
       "</div>"
      ],
      "text/plain": [
       "       id   Group      Per1      Per2      Per3      Per4      Per5      Per6  \\\n",
       "0  146574  Grp229 -0.300000  1.540000  0.220000 -0.280000  0.570000  0.260000   \n",
       "1  268759  Grp141  0.633333  0.953333  0.810000  0.466667  0.910000  0.253333   \n",
       "2   59727  Grp188  1.043333  0.740000  0.860000  1.006667  0.583333  0.616667   \n",
       "3  151544  Grp426  1.283333  0.300000  0.576667  0.636667  0.256667  0.543333   \n",
       "4  155008  Grp443  1.186667  0.326667  0.476667  0.866667  0.436667  0.680000   \n",
       "\n",
       "       Per7      Per8  ...      Dem8      Dem9     Cred1     Cred2     Cred3  \\\n",
       "0  0.700000  1.076667  ...  0.546667  0.313333  0.703333  0.813333  0.776667   \n",
       "1  1.040000  0.550000  ...  0.770000  0.993333  0.536667  0.703333  0.806667   \n",
       "2  0.630000  0.686667  ...  0.756667  0.953333  0.623333  0.753333  0.870000   \n",
       "3  0.356667  0.663333  ...  0.460000  0.260000  0.800000  0.606667  0.456667   \n",
       "4  0.476667  0.686667  ...  0.740000  0.823333  0.670000  0.896667  0.566667   \n",
       "\n",
       "      Cred4     Cred5     Cred6  Normalised_FNT  data  \n",
       "0  0.796667  0.823333  0.783333       -249.7500  test  \n",
       "1  0.630000  0.673333  0.673333       -249.8125  test  \n",
       "2  0.596667  0.680000  0.670000       -248.1200  test  \n",
       "3  0.320000  0.676667  0.660000       -222.9875  test  \n",
       "4  0.546667  0.650000  0.663333       -196.2200  test  \n",
       "\n",
       "[5 rows x 28 columns]"
      ]
     },
     "execution_count": 41,
     "metadata": {},
     "output_type": "execute_result"
    }
   ],
   "source": [
    "test.head()"
   ]
  },
  {
   "cell_type": "code",
   "execution_count": 42,
   "id": "54cd6f56",
   "metadata": {},
   "outputs": [
    {
     "data": {
      "text/plain": [
       "Index(['id', 'Group', 'Per1', 'Per2', 'Per3', 'Per4', 'Per5', 'Per6', 'Per7',\n",
       "       'Per8', 'Per9', 'Dem1', 'Dem2', 'Dem3', 'Dem4', 'Dem5', 'Dem6', 'Dem7',\n",
       "       'Dem8', 'Dem9', 'Cred1', 'Cred2', 'Cred3', 'Cred4', 'Cred5', 'Cred6',\n",
       "       'Normalised_FNT', 'Target', 'data'],\n",
       "      dtype='object')"
      ]
     },
     "execution_count": 42,
     "metadata": {},
     "output_type": "execute_result"
    }
   ],
   "source": [
    "train.columns"
   ]
  },
  {
   "cell_type": "code",
   "execution_count": 43,
   "id": "ddf80454",
   "metadata": {},
   "outputs": [
    {
     "data": {
      "text/plain": [
       "Index(['id', 'Group', 'Per1', 'Per2', 'Per3', 'Per4', 'Per5', 'Per6', 'Per7',\n",
       "       'Per8', 'Per9', 'Dem1', 'Dem2', 'Dem3', 'Dem4', 'Dem5', 'Dem6', 'Dem7',\n",
       "       'Dem8', 'Dem9', 'Cred1', 'Cred2', 'Cred3', 'Cred4', 'Cred5', 'Cred6',\n",
       "       'Normalised_FNT', 'data'],\n",
       "      dtype='object')"
      ]
     },
     "execution_count": 43,
     "metadata": {},
     "output_type": "execute_result"
    }
   ],
   "source": [
    "test.columns"
   ]
  },
  {
   "cell_type": "code",
   "execution_count": 44,
   "id": "d6542df6",
   "metadata": {},
   "outputs": [],
   "source": [
    "all_data = pd.concat([train, test], axis=0)"
   ]
  },
  {
   "cell_type": "code",
   "execution_count": 46,
   "id": "7e0302f9",
   "metadata": {},
   "outputs": [
    {
     "data": {
      "text/plain": [
       "(284807, 29)"
      ]
     },
     "execution_count": 46,
     "metadata": {},
     "output_type": "execute_result"
    }
   ],
   "source": [
    "all_data.shape"
   ]
  },
  {
   "cell_type": "code",
   "execution_count": 55,
   "id": "b8236566",
   "metadata": {},
   "outputs": [
    {
     "data": {
      "text/plain": [
       "284807"
      ]
     },
     "execution_count": 55,
     "metadata": {},
     "output_type": "execute_result"
    }
   ],
   "source": [
    "all_data['id'].nunique()"
   ]
  },
  {
   "cell_type": "code",
   "execution_count": 48,
   "id": "305c75ce",
   "metadata": {},
   "outputs": [
    {
     "data": {
      "text/html": [
       "<div>\n",
       "<style scoped>\n",
       "    .dataframe tbody tr th:only-of-type {\n",
       "        vertical-align: middle;\n",
       "    }\n",
       "\n",
       "    .dataframe tbody tr th {\n",
       "        vertical-align: top;\n",
       "    }\n",
       "\n",
       "    .dataframe thead th {\n",
       "        text-align: right;\n",
       "    }\n",
       "</style>\n",
       "<table border=\"1\" class=\"dataframe\">\n",
       "  <thead>\n",
       "    <tr style=\"text-align: right;\">\n",
       "      <th></th>\n",
       "      <th>id</th>\n",
       "      <th>Group</th>\n",
       "      <th>Per1</th>\n",
       "      <th>Per2</th>\n",
       "      <th>Per3</th>\n",
       "      <th>Per4</th>\n",
       "      <th>Per5</th>\n",
       "      <th>Per6</th>\n",
       "      <th>Per7</th>\n",
       "      <th>Per8</th>\n",
       "      <th>...</th>\n",
       "      <th>Dem9</th>\n",
       "      <th>Cred1</th>\n",
       "      <th>Cred2</th>\n",
       "      <th>Cred3</th>\n",
       "      <th>Cred4</th>\n",
       "      <th>Cred5</th>\n",
       "      <th>Cred6</th>\n",
       "      <th>Normalised_FNT</th>\n",
       "      <th>Target</th>\n",
       "      <th>data</th>\n",
       "    </tr>\n",
       "  </thead>\n",
       "  <tbody>\n",
       "    <tr>\n",
       "      <th>56957</th>\n",
       "      <td>18333</td>\n",
       "      <td>Grp102</td>\n",
       "      <td>0.553333</td>\n",
       "      <td>1.043333</td>\n",
       "      <td>1.096667</td>\n",
       "      <td>0.686667</td>\n",
       "      <td>0.673333</td>\n",
       "      <td>0.340000</td>\n",
       "      <td>0.900000</td>\n",
       "      <td>0.643333</td>\n",
       "      <td>...</td>\n",
       "      <td>0.433333</td>\n",
       "      <td>0.660000</td>\n",
       "      <td>0.776667</td>\n",
       "      <td>0.610000</td>\n",
       "      <td>0.690000</td>\n",
       "      <td>0.750000</td>\n",
       "      <td>0.700000</td>\n",
       "      <td>-249.5050</td>\n",
       "      <td>NaN</td>\n",
       "      <td>test</td>\n",
       "    </tr>\n",
       "    <tr>\n",
       "      <th>56958</th>\n",
       "      <td>244207</td>\n",
       "      <td>Grp504</td>\n",
       "      <td>1.353333</td>\n",
       "      <td>0.616667</td>\n",
       "      <td>0.276667</td>\n",
       "      <td>0.783333</td>\n",
       "      <td>0.690000</td>\n",
       "      <td>0.650000</td>\n",
       "      <td>0.473333</td>\n",
       "      <td>0.670000</td>\n",
       "      <td>...</td>\n",
       "      <td>0.870000</td>\n",
       "      <td>0.683333</td>\n",
       "      <td>0.690000</td>\n",
       "      <td>0.640000</td>\n",
       "      <td>0.883333</td>\n",
       "      <td>0.663333</td>\n",
       "      <td>0.660000</td>\n",
       "      <td>-248.7525</td>\n",
       "      <td>NaN</td>\n",
       "      <td>test</td>\n",
       "    </tr>\n",
       "    <tr>\n",
       "      <th>56959</th>\n",
       "      <td>103277</td>\n",
       "      <td>Grp78</td>\n",
       "      <td>1.083333</td>\n",
       "      <td>0.433333</td>\n",
       "      <td>0.806667</td>\n",
       "      <td>0.490000</td>\n",
       "      <td>0.243333</td>\n",
       "      <td>0.316667</td>\n",
       "      <td>0.533333</td>\n",
       "      <td>0.606667</td>\n",
       "      <td>...</td>\n",
       "      <td>0.063333</td>\n",
       "      <td>0.753333</td>\n",
       "      <td>0.780000</td>\n",
       "      <td>0.603333</td>\n",
       "      <td>0.880000</td>\n",
       "      <td>0.643333</td>\n",
       "      <td>0.676667</td>\n",
       "      <td>-231.0500</td>\n",
       "      <td>NaN</td>\n",
       "      <td>test</td>\n",
       "    </tr>\n",
       "    <tr>\n",
       "      <th>56960</th>\n",
       "      <td>273294</td>\n",
       "      <td>Grp134</td>\n",
       "      <td>0.566667</td>\n",
       "      <td>1.153333</td>\n",
       "      <td>0.370000</td>\n",
       "      <td>0.616667</td>\n",
       "      <td>0.793333</td>\n",
       "      <td>0.226667</td>\n",
       "      <td>0.910000</td>\n",
       "      <td>0.696667</td>\n",
       "      <td>...</td>\n",
       "      <td>1.026667</td>\n",
       "      <td>0.626667</td>\n",
       "      <td>0.646667</td>\n",
       "      <td>0.566667</td>\n",
       "      <td>0.616667</td>\n",
       "      <td>0.713333</td>\n",
       "      <td>0.706667</td>\n",
       "      <td>-246.3150</td>\n",
       "      <td>NaN</td>\n",
       "      <td>test</td>\n",
       "    </tr>\n",
       "    <tr>\n",
       "      <th>56961</th>\n",
       "      <td>223337</td>\n",
       "      <td>Grp18</td>\n",
       "      <td>1.426667</td>\n",
       "      <td>0.110000</td>\n",
       "      <td>-0.006667</td>\n",
       "      <td>-0.200000</td>\n",
       "      <td>0.983333</td>\n",
       "      <td>1.870000</td>\n",
       "      <td>0.033333</td>\n",
       "      <td>0.963333</td>\n",
       "      <td>...</td>\n",
       "      <td>0.670000</td>\n",
       "      <td>0.770000</td>\n",
       "      <td>0.893333</td>\n",
       "      <td>0.586667</td>\n",
       "      <td>0.616667</td>\n",
       "      <td>0.683333</td>\n",
       "      <td>0.650000</td>\n",
       "      <td>-248.4500</td>\n",
       "      <td>NaN</td>\n",
       "      <td>test</td>\n",
       "    </tr>\n",
       "  </tbody>\n",
       "</table>\n",
       "<p>5 rows × 29 columns</p>\n",
       "</div>"
      ],
      "text/plain": [
       "           id   Group      Per1      Per2      Per3      Per4      Per5  \\\n",
       "56957   18333  Grp102  0.553333  1.043333  1.096667  0.686667  0.673333   \n",
       "56958  244207  Grp504  1.353333  0.616667  0.276667  0.783333  0.690000   \n",
       "56959  103277   Grp78  1.083333  0.433333  0.806667  0.490000  0.243333   \n",
       "56960  273294  Grp134  0.566667  1.153333  0.370000  0.616667  0.793333   \n",
       "56961  223337   Grp18  1.426667  0.110000 -0.006667 -0.200000  0.983333   \n",
       "\n",
       "           Per6      Per7      Per8  ...      Dem9     Cred1     Cred2  \\\n",
       "56957  0.340000  0.900000  0.643333  ...  0.433333  0.660000  0.776667   \n",
       "56958  0.650000  0.473333  0.670000  ...  0.870000  0.683333  0.690000   \n",
       "56959  0.316667  0.533333  0.606667  ...  0.063333  0.753333  0.780000   \n",
       "56960  0.226667  0.910000  0.696667  ...  1.026667  0.626667  0.646667   \n",
       "56961  1.870000  0.033333  0.963333  ...  0.670000  0.770000  0.893333   \n",
       "\n",
       "          Cred3     Cred4     Cred5     Cred6  Normalised_FNT  Target  data  \n",
       "56957  0.610000  0.690000  0.750000  0.700000       -249.5050     NaN  test  \n",
       "56958  0.640000  0.883333  0.663333  0.660000       -248.7525     NaN  test  \n",
       "56959  0.603333  0.880000  0.643333  0.676667       -231.0500     NaN  test  \n",
       "56960  0.566667  0.616667  0.713333  0.706667       -246.3150     NaN  test  \n",
       "56961  0.586667  0.616667  0.683333  0.650000       -248.4500     NaN  test  \n",
       "\n",
       "[5 rows x 29 columns]"
      ]
     },
     "execution_count": 48,
     "metadata": {},
     "output_type": "execute_result"
    }
   ],
   "source": [
    "all_data.tail()"
   ]
  },
  {
   "cell_type": "code",
   "execution_count": 49,
   "id": "6d51c52f",
   "metadata": {},
   "outputs": [
    {
     "data": {
      "text/plain": [
       "1400"
      ]
     },
     "execution_count": 49,
     "metadata": {},
     "output_type": "execute_result"
    }
   ],
   "source": [
    "all_data['Group'].nunique()"
   ]
  },
  {
   "cell_type": "code",
   "execution_count": 62,
   "id": "a1ba4faa",
   "metadata": {},
   "outputs": [
    {
     "data": {
      "text/html": [
       "<div>\n",
       "<style scoped>\n",
       "    .dataframe tbody tr th:only-of-type {\n",
       "        vertical-align: middle;\n",
       "    }\n",
       "\n",
       "    .dataframe tbody tr th {\n",
       "        vertical-align: top;\n",
       "    }\n",
       "\n",
       "    .dataframe thead th {\n",
       "        text-align: right;\n",
       "    }\n",
       "</style>\n",
       "<table border=\"1\" class=\"dataframe\">\n",
       "  <thead>\n",
       "    <tr style=\"text-align: right;\">\n",
       "      <th></th>\n",
       "      <th>geo_score</th>\n",
       "    </tr>\n",
       "    <tr>\n",
       "      <th>id</th>\n",
       "      <th></th>\n",
       "    </tr>\n",
       "  </thead>\n",
       "  <tbody>\n",
       "    <tr>\n",
       "      <th>0</th>\n",
       "      <td>-0.62</td>\n",
       "    </tr>\n",
       "  </tbody>\n",
       "</table>\n",
       "</div>"
      ],
      "text/plain": [
       "    geo_score\n",
       "id           \n",
       "0       -0.62"
      ]
     },
     "execution_count": 62,
     "metadata": {},
     "output_type": "execute_result"
    }
   ],
   "source": [
    "geo.head(1)"
   ]
  },
  {
   "cell_type": "markdown",
   "id": "8c23323d",
   "metadata": {},
   "source": [
    "# merge all 4 data into all_dataset"
   ]
  },
  {
   "cell_type": "code",
   "execution_count": 63,
   "id": "39f2fca7",
   "metadata": {},
   "outputs": [],
   "source": [
    "all_data = pd.merge(all_data, geo, on='id', how='left')"
   ]
  },
  {
   "cell_type": "code",
   "execution_count": 64,
   "id": "981c89d1",
   "metadata": {},
   "outputs": [
    {
     "data": {
      "text/plain": [
       "(284807, 30)"
      ]
     },
     "execution_count": 64,
     "metadata": {},
     "output_type": "execute_result"
    }
   ],
   "source": [
    "all_data.shape"
   ]
  },
  {
   "cell_type": "code",
   "execution_count": 65,
   "id": "4ab5a411",
   "metadata": {},
   "outputs": [
    {
     "data": {
      "text/html": [
       "<div>\n",
       "<style scoped>\n",
       "    .dataframe tbody tr th:only-of-type {\n",
       "        vertical-align: middle;\n",
       "    }\n",
       "\n",
       "    .dataframe tbody tr th {\n",
       "        vertical-align: top;\n",
       "    }\n",
       "\n",
       "    .dataframe thead th {\n",
       "        text-align: right;\n",
       "    }\n",
       "</style>\n",
       "<table border=\"1\" class=\"dataframe\">\n",
       "  <thead>\n",
       "    <tr style=\"text-align: right;\">\n",
       "      <th></th>\n",
       "      <th>id</th>\n",
       "      <th>Group</th>\n",
       "      <th>Per1</th>\n",
       "      <th>Per2</th>\n",
       "      <th>Per3</th>\n",
       "      <th>Per4</th>\n",
       "      <th>Per5</th>\n",
       "      <th>Per6</th>\n",
       "      <th>Per7</th>\n",
       "      <th>Per8</th>\n",
       "      <th>...</th>\n",
       "      <th>Cred1</th>\n",
       "      <th>Cred2</th>\n",
       "      <th>Cred3</th>\n",
       "      <th>Cred4</th>\n",
       "      <th>Cred5</th>\n",
       "      <th>Cred6</th>\n",
       "      <th>Normalised_FNT</th>\n",
       "      <th>Target</th>\n",
       "      <th>data</th>\n",
       "      <th>geo_score</th>\n",
       "    </tr>\n",
       "  </thead>\n",
       "  <tbody>\n",
       "    <tr>\n",
       "      <th>0</th>\n",
       "      <td>112751</td>\n",
       "      <td>Grp169</td>\n",
       "      <td>1.070000</td>\n",
       "      <td>0.580000</td>\n",
       "      <td>0.480000</td>\n",
       "      <td>0.766667</td>\n",
       "      <td>1.233333</td>\n",
       "      <td>1.993333</td>\n",
       "      <td>0.340000</td>\n",
       "      <td>1.010000</td>\n",
       "      <td>...</td>\n",
       "      <td>0.606667</td>\n",
       "      <td>1.010000</td>\n",
       "      <td>0.933333</td>\n",
       "      <td>0.603333</td>\n",
       "      <td>0.686667</td>\n",
       "      <td>0.673333</td>\n",
       "      <td>-245.7500</td>\n",
       "      <td>0.0</td>\n",
       "      <td>train</td>\n",
       "      <td>0.256</td>\n",
       "    </tr>\n",
       "    <tr>\n",
       "      <th>1</th>\n",
       "      <td>18495</td>\n",
       "      <td>Grp161</td>\n",
       "      <td>0.473333</td>\n",
       "      <td>1.206667</td>\n",
       "      <td>0.883333</td>\n",
       "      <td>1.430000</td>\n",
       "      <td>0.726667</td>\n",
       "      <td>0.626667</td>\n",
       "      <td>0.810000</td>\n",
       "      <td>0.783333</td>\n",
       "      <td>...</td>\n",
       "      <td>0.680000</td>\n",
       "      <td>0.690000</td>\n",
       "      <td>0.560000</td>\n",
       "      <td>0.670000</td>\n",
       "      <td>0.553333</td>\n",
       "      <td>0.653333</td>\n",
       "      <td>-248.0000</td>\n",
       "      <td>0.0</td>\n",
       "      <td>train</td>\n",
       "      <td>-0.250</td>\n",
       "    </tr>\n",
       "    <tr>\n",
       "      <th>2</th>\n",
       "      <td>23915</td>\n",
       "      <td>Grp261</td>\n",
       "      <td>1.130000</td>\n",
       "      <td>0.143333</td>\n",
       "      <td>0.946667</td>\n",
       "      <td>0.123333</td>\n",
       "      <td>0.080000</td>\n",
       "      <td>0.836667</td>\n",
       "      <td>0.056667</td>\n",
       "      <td>0.756667</td>\n",
       "      <td>...</td>\n",
       "      <td>0.600000</td>\n",
       "      <td>0.383333</td>\n",
       "      <td>0.763333</td>\n",
       "      <td>0.670000</td>\n",
       "      <td>0.686667</td>\n",
       "      <td>0.673333</td>\n",
       "      <td>-233.1250</td>\n",
       "      <td>0.0</td>\n",
       "      <td>train</td>\n",
       "      <td>-0.950</td>\n",
       "    </tr>\n",
       "    <tr>\n",
       "      <th>3</th>\n",
       "      <td>50806</td>\n",
       "      <td>Grp198</td>\n",
       "      <td>0.636667</td>\n",
       "      <td>1.090000</td>\n",
       "      <td>0.750000</td>\n",
       "      <td>0.940000</td>\n",
       "      <td>0.743333</td>\n",
       "      <td>0.346667</td>\n",
       "      <td>0.956667</td>\n",
       "      <td>0.633333</td>\n",
       "      <td>...</td>\n",
       "      <td>0.680000</td>\n",
       "      <td>0.846667</td>\n",
       "      <td>0.423333</td>\n",
       "      <td>0.520000</td>\n",
       "      <td>0.846667</td>\n",
       "      <td>0.760000</td>\n",
       "      <td>-249.7775</td>\n",
       "      <td>0.0</td>\n",
       "      <td>train</td>\n",
       "      <td>0.490</td>\n",
       "    </tr>\n",
       "    <tr>\n",
       "      <th>4</th>\n",
       "      <td>184244</td>\n",
       "      <td>Grp228</td>\n",
       "      <td>0.560000</td>\n",
       "      <td>1.013333</td>\n",
       "      <td>0.593333</td>\n",
       "      <td>0.416667</td>\n",
       "      <td>0.773333</td>\n",
       "      <td>0.460000</td>\n",
       "      <td>0.853333</td>\n",
       "      <td>0.796667</td>\n",
       "      <td>...</td>\n",
       "      <td>0.693333</td>\n",
       "      <td>0.526667</td>\n",
       "      <td>0.520000</td>\n",
       "      <td>0.716667</td>\n",
       "      <td>0.706667</td>\n",
       "      <td>0.673333</td>\n",
       "      <td>-247.5775</td>\n",
       "      <td>0.0</td>\n",
       "      <td>train</td>\n",
       "      <td>0.850</td>\n",
       "    </tr>\n",
       "  </tbody>\n",
       "</table>\n",
       "<p>5 rows × 30 columns</p>\n",
       "</div>"
      ],
      "text/plain": [
       "       id   Group      Per1      Per2      Per3      Per4      Per5      Per6  \\\n",
       "0  112751  Grp169  1.070000  0.580000  0.480000  0.766667  1.233333  1.993333   \n",
       "1   18495  Grp161  0.473333  1.206667  0.883333  1.430000  0.726667  0.626667   \n",
       "2   23915  Grp261  1.130000  0.143333  0.946667  0.123333  0.080000  0.836667   \n",
       "3   50806  Grp198  0.636667  1.090000  0.750000  0.940000  0.743333  0.346667   \n",
       "4  184244  Grp228  0.560000  1.013333  0.593333  0.416667  0.773333  0.460000   \n",
       "\n",
       "       Per7      Per8  ...     Cred1     Cred2     Cred3     Cred4     Cred5  \\\n",
       "0  0.340000  1.010000  ...  0.606667  1.010000  0.933333  0.603333  0.686667   \n",
       "1  0.810000  0.783333  ...  0.680000  0.690000  0.560000  0.670000  0.553333   \n",
       "2  0.056667  0.756667  ...  0.600000  0.383333  0.763333  0.670000  0.686667   \n",
       "3  0.956667  0.633333  ...  0.680000  0.846667  0.423333  0.520000  0.846667   \n",
       "4  0.853333  0.796667  ...  0.693333  0.526667  0.520000  0.716667  0.706667   \n",
       "\n",
       "      Cred6  Normalised_FNT  Target   data  geo_score  \n",
       "0  0.673333       -245.7500     0.0  train      0.256  \n",
       "1  0.653333       -248.0000     0.0  train     -0.250  \n",
       "2  0.673333       -233.1250     0.0  train     -0.950  \n",
       "3  0.760000       -249.7775     0.0  train      0.490  \n",
       "4  0.673333       -247.5775     0.0  train      0.850  \n",
       "\n",
       "[5 rows x 30 columns]"
      ]
     },
     "execution_count": 65,
     "metadata": {},
     "output_type": "execute_result"
    }
   ],
   "source": [
    "all_data.head()"
   ]
  },
  {
   "cell_type": "code",
   "execution_count": 66,
   "id": "454c1198",
   "metadata": {},
   "outputs": [
    {
     "data": {
      "text/html": [
       "<div>\n",
       "<style scoped>\n",
       "    .dataframe tbody tr th:only-of-type {\n",
       "        vertical-align: middle;\n",
       "    }\n",
       "\n",
       "    .dataframe tbody tr th {\n",
       "        vertical-align: top;\n",
       "    }\n",
       "\n",
       "    .dataframe thead th {\n",
       "        text-align: right;\n",
       "    }\n",
       "</style>\n",
       "<table border=\"1\" class=\"dataframe\">\n",
       "  <thead>\n",
       "    <tr style=\"text-align: right;\">\n",
       "      <th></th>\n",
       "      <th>instance_scores</th>\n",
       "    </tr>\n",
       "    <tr>\n",
       "      <th>id</th>\n",
       "      <th></th>\n",
       "    </tr>\n",
       "  </thead>\n",
       "  <tbody>\n",
       "    <tr>\n",
       "      <th>0</th>\n",
       "      <td>0.09</td>\n",
       "    </tr>\n",
       "    <tr>\n",
       "      <th>1</th>\n",
       "      <td>-0.17</td>\n",
       "    </tr>\n",
       "  </tbody>\n",
       "</table>\n",
       "</div>"
      ],
      "text/plain": [
       "    instance_scores\n",
       "id                 \n",
       "0              0.09\n",
       "1             -0.17"
      ]
     },
     "execution_count": 66,
     "metadata": {},
     "output_type": "execute_result"
    }
   ],
   "source": [
    "# instance\n",
    "instance.head(2)"
   ]
  },
  {
   "cell_type": "code",
   "execution_count": 67,
   "id": "fcad02c1",
   "metadata": {},
   "outputs": [],
   "source": [
    "all_data = pd.merge(all_data, instance, on='id', how='left')"
   ]
  },
  {
   "cell_type": "code",
   "execution_count": 68,
   "id": "e863962b",
   "metadata": {},
   "outputs": [
    {
     "data": {
      "text/html": [
       "<div>\n",
       "<style scoped>\n",
       "    .dataframe tbody tr th:only-of-type {\n",
       "        vertical-align: middle;\n",
       "    }\n",
       "\n",
       "    .dataframe tbody tr th {\n",
       "        vertical-align: top;\n",
       "    }\n",
       "\n",
       "    .dataframe thead th {\n",
       "        text-align: right;\n",
       "    }\n",
       "</style>\n",
       "<table border=\"1\" class=\"dataframe\">\n",
       "  <thead>\n",
       "    <tr style=\"text-align: right;\">\n",
       "      <th></th>\n",
       "      <th>id</th>\n",
       "      <th>Group</th>\n",
       "      <th>Per1</th>\n",
       "      <th>Per2</th>\n",
       "      <th>Per3</th>\n",
       "      <th>Per4</th>\n",
       "      <th>Per5</th>\n",
       "      <th>Per6</th>\n",
       "      <th>Per7</th>\n",
       "      <th>Per8</th>\n",
       "      <th>...</th>\n",
       "      <th>Cred2</th>\n",
       "      <th>Cred3</th>\n",
       "      <th>Cred4</th>\n",
       "      <th>Cred5</th>\n",
       "      <th>Cred6</th>\n",
       "      <th>Normalised_FNT</th>\n",
       "      <th>Target</th>\n",
       "      <th>data</th>\n",
       "      <th>geo_score</th>\n",
       "      <th>instance_scores</th>\n",
       "    </tr>\n",
       "  </thead>\n",
       "  <tbody>\n",
       "    <tr>\n",
       "      <th>0</th>\n",
       "      <td>112751</td>\n",
       "      <td>Grp169</td>\n",
       "      <td>1.070000</td>\n",
       "      <td>0.580000</td>\n",
       "      <td>0.480000</td>\n",
       "      <td>0.766667</td>\n",
       "      <td>1.233333</td>\n",
       "      <td>1.993333</td>\n",
       "      <td>0.340000</td>\n",
       "      <td>1.010000</td>\n",
       "      <td>...</td>\n",
       "      <td>1.010000</td>\n",
       "      <td>0.933333</td>\n",
       "      <td>0.603333</td>\n",
       "      <td>0.686667</td>\n",
       "      <td>0.673333</td>\n",
       "      <td>-245.7500</td>\n",
       "      <td>0.0</td>\n",
       "      <td>train</td>\n",
       "      <td>0.256</td>\n",
       "      <td>-0.06</td>\n",
       "    </tr>\n",
       "    <tr>\n",
       "      <th>1</th>\n",
       "      <td>18495</td>\n",
       "      <td>Grp161</td>\n",
       "      <td>0.473333</td>\n",
       "      <td>1.206667</td>\n",
       "      <td>0.883333</td>\n",
       "      <td>1.430000</td>\n",
       "      <td>0.726667</td>\n",
       "      <td>0.626667</td>\n",
       "      <td>0.810000</td>\n",
       "      <td>0.783333</td>\n",
       "      <td>...</td>\n",
       "      <td>0.690000</td>\n",
       "      <td>0.560000</td>\n",
       "      <td>0.670000</td>\n",
       "      <td>0.553333</td>\n",
       "      <td>0.653333</td>\n",
       "      <td>-248.0000</td>\n",
       "      <td>0.0</td>\n",
       "      <td>train</td>\n",
       "      <td>-0.250</td>\n",
       "      <td>0.52</td>\n",
       "    </tr>\n",
       "    <tr>\n",
       "      <th>2</th>\n",
       "      <td>23915</td>\n",
       "      <td>Grp261</td>\n",
       "      <td>1.130000</td>\n",
       "      <td>0.143333</td>\n",
       "      <td>0.946667</td>\n",
       "      <td>0.123333</td>\n",
       "      <td>0.080000</td>\n",
       "      <td>0.836667</td>\n",
       "      <td>0.056667</td>\n",
       "      <td>0.756667</td>\n",
       "      <td>...</td>\n",
       "      <td>0.383333</td>\n",
       "      <td>0.763333</td>\n",
       "      <td>0.670000</td>\n",
       "      <td>0.686667</td>\n",
       "      <td>0.673333</td>\n",
       "      <td>-233.1250</td>\n",
       "      <td>0.0</td>\n",
       "      <td>train</td>\n",
       "      <td>-0.950</td>\n",
       "      <td>1.56</td>\n",
       "    </tr>\n",
       "    <tr>\n",
       "      <th>3</th>\n",
       "      <td>50806</td>\n",
       "      <td>Grp198</td>\n",
       "      <td>0.636667</td>\n",
       "      <td>1.090000</td>\n",
       "      <td>0.750000</td>\n",
       "      <td>0.940000</td>\n",
       "      <td>0.743333</td>\n",
       "      <td>0.346667</td>\n",
       "      <td>0.956667</td>\n",
       "      <td>0.633333</td>\n",
       "      <td>...</td>\n",
       "      <td>0.846667</td>\n",
       "      <td>0.423333</td>\n",
       "      <td>0.520000</td>\n",
       "      <td>0.846667</td>\n",
       "      <td>0.760000</td>\n",
       "      <td>-249.7775</td>\n",
       "      <td>0.0</td>\n",
       "      <td>train</td>\n",
       "      <td>0.490</td>\n",
       "      <td>0.70</td>\n",
       "    </tr>\n",
       "    <tr>\n",
       "      <th>4</th>\n",
       "      <td>184244</td>\n",
       "      <td>Grp228</td>\n",
       "      <td>0.560000</td>\n",
       "      <td>1.013333</td>\n",
       "      <td>0.593333</td>\n",
       "      <td>0.416667</td>\n",
       "      <td>0.773333</td>\n",
       "      <td>0.460000</td>\n",
       "      <td>0.853333</td>\n",
       "      <td>0.796667</td>\n",
       "      <td>...</td>\n",
       "      <td>0.526667</td>\n",
       "      <td>0.520000</td>\n",
       "      <td>0.716667</td>\n",
       "      <td>0.706667</td>\n",
       "      <td>0.673333</td>\n",
       "      <td>-247.5775</td>\n",
       "      <td>0.0</td>\n",
       "      <td>train</td>\n",
       "      <td>0.850</td>\n",
       "      <td>-0.47</td>\n",
       "    </tr>\n",
       "  </tbody>\n",
       "</table>\n",
       "<p>5 rows × 31 columns</p>\n",
       "</div>"
      ],
      "text/plain": [
       "       id   Group      Per1      Per2      Per3      Per4      Per5      Per6  \\\n",
       "0  112751  Grp169  1.070000  0.580000  0.480000  0.766667  1.233333  1.993333   \n",
       "1   18495  Grp161  0.473333  1.206667  0.883333  1.430000  0.726667  0.626667   \n",
       "2   23915  Grp261  1.130000  0.143333  0.946667  0.123333  0.080000  0.836667   \n",
       "3   50806  Grp198  0.636667  1.090000  0.750000  0.940000  0.743333  0.346667   \n",
       "4  184244  Grp228  0.560000  1.013333  0.593333  0.416667  0.773333  0.460000   \n",
       "\n",
       "       Per7      Per8  ...     Cred2     Cred3     Cred4     Cred5     Cred6  \\\n",
       "0  0.340000  1.010000  ...  1.010000  0.933333  0.603333  0.686667  0.673333   \n",
       "1  0.810000  0.783333  ...  0.690000  0.560000  0.670000  0.553333  0.653333   \n",
       "2  0.056667  0.756667  ...  0.383333  0.763333  0.670000  0.686667  0.673333   \n",
       "3  0.956667  0.633333  ...  0.846667  0.423333  0.520000  0.846667  0.760000   \n",
       "4  0.853333  0.796667  ...  0.526667  0.520000  0.716667  0.706667  0.673333   \n",
       "\n",
       "   Normalised_FNT  Target   data  geo_score  instance_scores  \n",
       "0       -245.7500     0.0  train      0.256            -0.06  \n",
       "1       -248.0000     0.0  train     -0.250             0.52  \n",
       "2       -233.1250     0.0  train     -0.950             1.56  \n",
       "3       -249.7775     0.0  train      0.490             0.70  \n",
       "4       -247.5775     0.0  train      0.850            -0.47  \n",
       "\n",
       "[5 rows x 31 columns]"
      ]
     },
     "execution_count": 68,
     "metadata": {},
     "output_type": "execute_result"
    }
   ],
   "source": [
    "all_data.head()"
   ]
  },
  {
   "cell_type": "code",
   "execution_count": 69,
   "id": "a7fc81dc",
   "metadata": {},
   "outputs": [
    {
     "data": {
      "text/plain": [
       "(1400, 2)"
      ]
     },
     "execution_count": 69,
     "metadata": {},
     "output_type": "execute_result"
    }
   ],
   "source": [
    "lambda_wts.shape"
   ]
  },
  {
   "cell_type": "code",
   "execution_count": 70,
   "id": "59961014",
   "metadata": {},
   "outputs": [
    {
     "data": {
      "text/html": [
       "<div>\n",
       "<style scoped>\n",
       "    .dataframe tbody tr th:only-of-type {\n",
       "        vertical-align: middle;\n",
       "    }\n",
       "\n",
       "    .dataframe tbody tr th {\n",
       "        vertical-align: top;\n",
       "    }\n",
       "\n",
       "    .dataframe thead th {\n",
       "        text-align: right;\n",
       "    }\n",
       "</style>\n",
       "<table border=\"1\" class=\"dataframe\">\n",
       "  <thead>\n",
       "    <tr style=\"text-align: right;\">\n",
       "      <th></th>\n",
       "      <th>Group</th>\n",
       "      <th>lambda_wt</th>\n",
       "    </tr>\n",
       "  </thead>\n",
       "  <tbody>\n",
       "    <tr>\n",
       "      <th>0</th>\n",
       "      <td>Grp936</td>\n",
       "      <td>3.41</td>\n",
       "    </tr>\n",
       "    <tr>\n",
       "      <th>1</th>\n",
       "      <td>Grp347</td>\n",
       "      <td>-2.88</td>\n",
       "    </tr>\n",
       "    <tr>\n",
       "      <th>2</th>\n",
       "      <td>Grp188</td>\n",
       "      <td>0.39</td>\n",
       "    </tr>\n",
       "    <tr>\n",
       "      <th>3</th>\n",
       "      <td>Grp1053</td>\n",
       "      <td>-2.75</td>\n",
       "    </tr>\n",
       "    <tr>\n",
       "      <th>4</th>\n",
       "      <td>Grp56</td>\n",
       "      <td>-0.83</td>\n",
       "    </tr>\n",
       "  </tbody>\n",
       "</table>\n",
       "</div>"
      ],
      "text/plain": [
       "     Group  lambda_wt\n",
       "0   Grp936       3.41\n",
       "1   Grp347      -2.88\n",
       "2   Grp188       0.39\n",
       "3  Grp1053      -2.75\n",
       "4    Grp56      -0.83"
      ]
     },
     "execution_count": 70,
     "metadata": {},
     "output_type": "execute_result"
    }
   ],
   "source": [
    "lambda_wts.head()"
   ]
  },
  {
   "cell_type": "code",
   "execution_count": 71,
   "id": "0dc7cdb3",
   "metadata": {},
   "outputs": [
    {
     "data": {
      "text/plain": [
       "1400"
      ]
     },
     "execution_count": 71,
     "metadata": {},
     "output_type": "execute_result"
    }
   ],
   "source": [
    "all_data['Group'].nunique()"
   ]
  },
  {
   "cell_type": "code",
   "execution_count": 72,
   "id": "af396b27",
   "metadata": {},
   "outputs": [],
   "source": [
    "all_data = pd.merge(all_data, lambda_wts, on='Group', how='left')"
   ]
  },
  {
   "cell_type": "code",
   "execution_count": 73,
   "id": "f84fea5e",
   "metadata": {},
   "outputs": [
    {
     "data": {
      "text/html": [
       "<div>\n",
       "<style scoped>\n",
       "    .dataframe tbody tr th:only-of-type {\n",
       "        vertical-align: middle;\n",
       "    }\n",
       "\n",
       "    .dataframe tbody tr th {\n",
       "        vertical-align: top;\n",
       "    }\n",
       "\n",
       "    .dataframe thead th {\n",
       "        text-align: right;\n",
       "    }\n",
       "</style>\n",
       "<table border=\"1\" class=\"dataframe\">\n",
       "  <thead>\n",
       "    <tr style=\"text-align: right;\">\n",
       "      <th></th>\n",
       "      <th>id</th>\n",
       "      <th>Group</th>\n",
       "      <th>Per1</th>\n",
       "      <th>Per2</th>\n",
       "      <th>Per3</th>\n",
       "      <th>Per4</th>\n",
       "      <th>Per5</th>\n",
       "      <th>Per6</th>\n",
       "      <th>Per7</th>\n",
       "      <th>Per8</th>\n",
       "      <th>...</th>\n",
       "      <th>Cred3</th>\n",
       "      <th>Cred4</th>\n",
       "      <th>Cred5</th>\n",
       "      <th>Cred6</th>\n",
       "      <th>Normalised_FNT</th>\n",
       "      <th>Target</th>\n",
       "      <th>data</th>\n",
       "      <th>geo_score</th>\n",
       "      <th>instance_scores</th>\n",
       "      <th>lambda_wt</th>\n",
       "    </tr>\n",
       "  </thead>\n",
       "  <tbody>\n",
       "    <tr>\n",
       "      <th>0</th>\n",
       "      <td>112751</td>\n",
       "      <td>Grp169</td>\n",
       "      <td>1.070000</td>\n",
       "      <td>0.580000</td>\n",
       "      <td>0.480000</td>\n",
       "      <td>0.766667</td>\n",
       "      <td>1.233333</td>\n",
       "      <td>1.993333</td>\n",
       "      <td>0.340000</td>\n",
       "      <td>1.010000</td>\n",
       "      <td>...</td>\n",
       "      <td>0.933333</td>\n",
       "      <td>0.603333</td>\n",
       "      <td>0.686667</td>\n",
       "      <td>0.673333</td>\n",
       "      <td>-245.7500</td>\n",
       "      <td>0.0</td>\n",
       "      <td>train</td>\n",
       "      <td>0.256</td>\n",
       "      <td>-0.06</td>\n",
       "      <td>-0.13</td>\n",
       "    </tr>\n",
       "    <tr>\n",
       "      <th>1</th>\n",
       "      <td>18495</td>\n",
       "      <td>Grp161</td>\n",
       "      <td>0.473333</td>\n",
       "      <td>1.206667</td>\n",
       "      <td>0.883333</td>\n",
       "      <td>1.430000</td>\n",
       "      <td>0.726667</td>\n",
       "      <td>0.626667</td>\n",
       "      <td>0.810000</td>\n",
       "      <td>0.783333</td>\n",
       "      <td>...</td>\n",
       "      <td>0.560000</td>\n",
       "      <td>0.670000</td>\n",
       "      <td>0.553333</td>\n",
       "      <td>0.653333</td>\n",
       "      <td>-248.0000</td>\n",
       "      <td>0.0</td>\n",
       "      <td>train</td>\n",
       "      <td>-0.250</td>\n",
       "      <td>0.52</td>\n",
       "      <td>0.66</td>\n",
       "    </tr>\n",
       "    <tr>\n",
       "      <th>2</th>\n",
       "      <td>23915</td>\n",
       "      <td>Grp261</td>\n",
       "      <td>1.130000</td>\n",
       "      <td>0.143333</td>\n",
       "      <td>0.946667</td>\n",
       "      <td>0.123333</td>\n",
       "      <td>0.080000</td>\n",
       "      <td>0.836667</td>\n",
       "      <td>0.056667</td>\n",
       "      <td>0.756667</td>\n",
       "      <td>...</td>\n",
       "      <td>0.763333</td>\n",
       "      <td>0.670000</td>\n",
       "      <td>0.686667</td>\n",
       "      <td>0.673333</td>\n",
       "      <td>-233.1250</td>\n",
       "      <td>0.0</td>\n",
       "      <td>train</td>\n",
       "      <td>-0.950</td>\n",
       "      <td>1.56</td>\n",
       "      <td>-0.51</td>\n",
       "    </tr>\n",
       "    <tr>\n",
       "      <th>3</th>\n",
       "      <td>50806</td>\n",
       "      <td>Grp198</td>\n",
       "      <td>0.636667</td>\n",
       "      <td>1.090000</td>\n",
       "      <td>0.750000</td>\n",
       "      <td>0.940000</td>\n",
       "      <td>0.743333</td>\n",
       "      <td>0.346667</td>\n",
       "      <td>0.956667</td>\n",
       "      <td>0.633333</td>\n",
       "      <td>...</td>\n",
       "      <td>0.423333</td>\n",
       "      <td>0.520000</td>\n",
       "      <td>0.846667</td>\n",
       "      <td>0.760000</td>\n",
       "      <td>-249.7775</td>\n",
       "      <td>0.0</td>\n",
       "      <td>train</td>\n",
       "      <td>0.490</td>\n",
       "      <td>0.70</td>\n",
       "      <td>0.72</td>\n",
       "    </tr>\n",
       "    <tr>\n",
       "      <th>4</th>\n",
       "      <td>184244</td>\n",
       "      <td>Grp228</td>\n",
       "      <td>0.560000</td>\n",
       "      <td>1.013333</td>\n",
       "      <td>0.593333</td>\n",
       "      <td>0.416667</td>\n",
       "      <td>0.773333</td>\n",
       "      <td>0.460000</td>\n",
       "      <td>0.853333</td>\n",
       "      <td>0.796667</td>\n",
       "      <td>...</td>\n",
       "      <td>0.520000</td>\n",
       "      <td>0.716667</td>\n",
       "      <td>0.706667</td>\n",
       "      <td>0.673333</td>\n",
       "      <td>-247.5775</td>\n",
       "      <td>0.0</td>\n",
       "      <td>train</td>\n",
       "      <td>0.850</td>\n",
       "      <td>-0.47</td>\n",
       "      <td>0.60</td>\n",
       "    </tr>\n",
       "  </tbody>\n",
       "</table>\n",
       "<p>5 rows × 32 columns</p>\n",
       "</div>"
      ],
      "text/plain": [
       "       id   Group      Per1      Per2      Per3      Per4      Per5      Per6  \\\n",
       "0  112751  Grp169  1.070000  0.580000  0.480000  0.766667  1.233333  1.993333   \n",
       "1   18495  Grp161  0.473333  1.206667  0.883333  1.430000  0.726667  0.626667   \n",
       "2   23915  Grp261  1.130000  0.143333  0.946667  0.123333  0.080000  0.836667   \n",
       "3   50806  Grp198  0.636667  1.090000  0.750000  0.940000  0.743333  0.346667   \n",
       "4  184244  Grp228  0.560000  1.013333  0.593333  0.416667  0.773333  0.460000   \n",
       "\n",
       "       Per7      Per8  ...     Cred3     Cred4     Cred5     Cred6  \\\n",
       "0  0.340000  1.010000  ...  0.933333  0.603333  0.686667  0.673333   \n",
       "1  0.810000  0.783333  ...  0.560000  0.670000  0.553333  0.653333   \n",
       "2  0.056667  0.756667  ...  0.763333  0.670000  0.686667  0.673333   \n",
       "3  0.956667  0.633333  ...  0.423333  0.520000  0.846667  0.760000   \n",
       "4  0.853333  0.796667  ...  0.520000  0.716667  0.706667  0.673333   \n",
       "\n",
       "   Normalised_FNT  Target   data  geo_score  instance_scores  lambda_wt  \n",
       "0       -245.7500     0.0  train      0.256            -0.06      -0.13  \n",
       "1       -248.0000     0.0  train     -0.250             0.52       0.66  \n",
       "2       -233.1250     0.0  train     -0.950             1.56      -0.51  \n",
       "3       -249.7775     0.0  train      0.490             0.70       0.72  \n",
       "4       -247.5775     0.0  train      0.850            -0.47       0.60  \n",
       "\n",
       "[5 rows x 32 columns]"
      ]
     },
     "execution_count": 73,
     "metadata": {},
     "output_type": "execute_result"
    }
   ],
   "source": [
    "all_data.head()"
   ]
  },
  {
   "cell_type": "code",
   "execution_count": 74,
   "id": "56c07bf6",
   "metadata": {},
   "outputs": [
    {
     "data": {
      "text/plain": [
       "(284807, 1)"
      ]
     },
     "execution_count": 74,
     "metadata": {},
     "output_type": "execute_result"
    }
   ],
   "source": [
    "qset.shape"
   ]
  },
  {
   "cell_type": "code",
   "execution_count": 75,
   "id": "68b64c6a",
   "metadata": {},
   "outputs": [
    {
     "data": {
      "text/html": [
       "<div>\n",
       "<style scoped>\n",
       "    .dataframe tbody tr th:only-of-type {\n",
       "        vertical-align: middle;\n",
       "    }\n",
       "\n",
       "    .dataframe tbody tr th {\n",
       "        vertical-align: top;\n",
       "    }\n",
       "\n",
       "    .dataframe thead th {\n",
       "        text-align: right;\n",
       "    }\n",
       "</style>\n",
       "<table border=\"1\" class=\"dataframe\">\n",
       "  <thead>\n",
       "    <tr style=\"text-align: right;\">\n",
       "      <th></th>\n",
       "      <th>qsets_normalized_tat</th>\n",
       "    </tr>\n",
       "    <tr>\n",
       "      <th>id</th>\n",
       "      <th></th>\n",
       "    </tr>\n",
       "  </thead>\n",
       "  <tbody>\n",
       "    <tr>\n",
       "      <th>0</th>\n",
       "      <td>0.214</td>\n",
       "    </tr>\n",
       "    <tr>\n",
       "      <th>1</th>\n",
       "      <td>-0.110</td>\n",
       "    </tr>\n",
       "  </tbody>\n",
       "</table>\n",
       "</div>"
      ],
      "text/plain": [
       "    qsets_normalized_tat\n",
       "id                      \n",
       "0                  0.214\n",
       "1                 -0.110"
      ]
     },
     "execution_count": 75,
     "metadata": {},
     "output_type": "execute_result"
    }
   ],
   "source": [
    "qset.head(2)"
   ]
  },
  {
   "cell_type": "code",
   "execution_count": 76,
   "id": "16a0f6a6",
   "metadata": {},
   "outputs": [],
   "source": [
    "all_data = pd.merge(all_data, qset, on='id', how='left')"
   ]
  },
  {
   "cell_type": "code",
   "execution_count": 77,
   "id": "ef9c3b37",
   "metadata": {},
   "outputs": [
    {
     "data": {
      "text/html": [
       "<div>\n",
       "<style scoped>\n",
       "    .dataframe tbody tr th:only-of-type {\n",
       "        vertical-align: middle;\n",
       "    }\n",
       "\n",
       "    .dataframe tbody tr th {\n",
       "        vertical-align: top;\n",
       "    }\n",
       "\n",
       "    .dataframe thead th {\n",
       "        text-align: right;\n",
       "    }\n",
       "</style>\n",
       "<table border=\"1\" class=\"dataframe\">\n",
       "  <thead>\n",
       "    <tr style=\"text-align: right;\">\n",
       "      <th></th>\n",
       "      <th>id</th>\n",
       "      <th>Group</th>\n",
       "      <th>Per1</th>\n",
       "      <th>Per2</th>\n",
       "      <th>Per3</th>\n",
       "      <th>Per4</th>\n",
       "      <th>Per5</th>\n",
       "      <th>Per6</th>\n",
       "      <th>Per7</th>\n",
       "      <th>Per8</th>\n",
       "      <th>...</th>\n",
       "      <th>Cred4</th>\n",
       "      <th>Cred5</th>\n",
       "      <th>Cred6</th>\n",
       "      <th>Normalised_FNT</th>\n",
       "      <th>Target</th>\n",
       "      <th>data</th>\n",
       "      <th>geo_score</th>\n",
       "      <th>instance_scores</th>\n",
       "      <th>lambda_wt</th>\n",
       "      <th>qsets_normalized_tat</th>\n",
       "    </tr>\n",
       "  </thead>\n",
       "  <tbody>\n",
       "    <tr>\n",
       "      <th>0</th>\n",
       "      <td>112751</td>\n",
       "      <td>Grp169</td>\n",
       "      <td>1.070000</td>\n",
       "      <td>0.580000</td>\n",
       "      <td>0.480000</td>\n",
       "      <td>0.766667</td>\n",
       "      <td>1.233333</td>\n",
       "      <td>1.993333</td>\n",
       "      <td>0.340000</td>\n",
       "      <td>1.010000</td>\n",
       "      <td>...</td>\n",
       "      <td>0.603333</td>\n",
       "      <td>0.686667</td>\n",
       "      <td>0.673333</td>\n",
       "      <td>-245.7500</td>\n",
       "      <td>0.0</td>\n",
       "      <td>train</td>\n",
       "      <td>0.256</td>\n",
       "      <td>-0.06</td>\n",
       "      <td>-0.13</td>\n",
       "      <td>-0.700</td>\n",
       "    </tr>\n",
       "    <tr>\n",
       "      <th>1</th>\n",
       "      <td>18495</td>\n",
       "      <td>Grp161</td>\n",
       "      <td>0.473333</td>\n",
       "      <td>1.206667</td>\n",
       "      <td>0.883333</td>\n",
       "      <td>1.430000</td>\n",
       "      <td>0.726667</td>\n",
       "      <td>0.626667</td>\n",
       "      <td>0.810000</td>\n",
       "      <td>0.783333</td>\n",
       "      <td>...</td>\n",
       "      <td>0.670000</td>\n",
       "      <td>0.553333</td>\n",
       "      <td>0.653333</td>\n",
       "      <td>-248.0000</td>\n",
       "      <td>0.0</td>\n",
       "      <td>train</td>\n",
       "      <td>-0.250</td>\n",
       "      <td>0.52</td>\n",
       "      <td>0.66</td>\n",
       "      <td>0.140</td>\n",
       "    </tr>\n",
       "    <tr>\n",
       "      <th>2</th>\n",
       "      <td>23915</td>\n",
       "      <td>Grp261</td>\n",
       "      <td>1.130000</td>\n",
       "      <td>0.143333</td>\n",
       "      <td>0.946667</td>\n",
       "      <td>0.123333</td>\n",
       "      <td>0.080000</td>\n",
       "      <td>0.836667</td>\n",
       "      <td>0.056667</td>\n",
       "      <td>0.756667</td>\n",
       "      <td>...</td>\n",
       "      <td>0.670000</td>\n",
       "      <td>0.686667</td>\n",
       "      <td>0.673333</td>\n",
       "      <td>-233.1250</td>\n",
       "      <td>0.0</td>\n",
       "      <td>train</td>\n",
       "      <td>-0.950</td>\n",
       "      <td>1.56</td>\n",
       "      <td>-0.51</td>\n",
       "      <td>-0.430</td>\n",
       "    </tr>\n",
       "    <tr>\n",
       "      <th>3</th>\n",
       "      <td>50806</td>\n",
       "      <td>Grp198</td>\n",
       "      <td>0.636667</td>\n",
       "      <td>1.090000</td>\n",
       "      <td>0.750000</td>\n",
       "      <td>0.940000</td>\n",
       "      <td>0.743333</td>\n",
       "      <td>0.346667</td>\n",
       "      <td>0.956667</td>\n",
       "      <td>0.633333</td>\n",
       "      <td>...</td>\n",
       "      <td>0.520000</td>\n",
       "      <td>0.846667</td>\n",
       "      <td>0.760000</td>\n",
       "      <td>-249.7775</td>\n",
       "      <td>0.0</td>\n",
       "      <td>train</td>\n",
       "      <td>0.490</td>\n",
       "      <td>0.70</td>\n",
       "      <td>0.72</td>\n",
       "      <td>-0.302</td>\n",
       "    </tr>\n",
       "    <tr>\n",
       "      <th>4</th>\n",
       "      <td>184244</td>\n",
       "      <td>Grp228</td>\n",
       "      <td>0.560000</td>\n",
       "      <td>1.013333</td>\n",
       "      <td>0.593333</td>\n",
       "      <td>0.416667</td>\n",
       "      <td>0.773333</td>\n",
       "      <td>0.460000</td>\n",
       "      <td>0.853333</td>\n",
       "      <td>0.796667</td>\n",
       "      <td>...</td>\n",
       "      <td>0.716667</td>\n",
       "      <td>0.706667</td>\n",
       "      <td>0.673333</td>\n",
       "      <td>-247.5775</td>\n",
       "      <td>0.0</td>\n",
       "      <td>train</td>\n",
       "      <td>0.850</td>\n",
       "      <td>-0.47</td>\n",
       "      <td>0.60</td>\n",
       "      <td>-0.630</td>\n",
       "    </tr>\n",
       "  </tbody>\n",
       "</table>\n",
       "<p>5 rows × 33 columns</p>\n",
       "</div>"
      ],
      "text/plain": [
       "       id   Group      Per1      Per2      Per3      Per4      Per5      Per6  \\\n",
       "0  112751  Grp169  1.070000  0.580000  0.480000  0.766667  1.233333  1.993333   \n",
       "1   18495  Grp161  0.473333  1.206667  0.883333  1.430000  0.726667  0.626667   \n",
       "2   23915  Grp261  1.130000  0.143333  0.946667  0.123333  0.080000  0.836667   \n",
       "3   50806  Grp198  0.636667  1.090000  0.750000  0.940000  0.743333  0.346667   \n",
       "4  184244  Grp228  0.560000  1.013333  0.593333  0.416667  0.773333  0.460000   \n",
       "\n",
       "       Per7      Per8  ...     Cred4     Cred5     Cred6  Normalised_FNT  \\\n",
       "0  0.340000  1.010000  ...  0.603333  0.686667  0.673333       -245.7500   \n",
       "1  0.810000  0.783333  ...  0.670000  0.553333  0.653333       -248.0000   \n",
       "2  0.056667  0.756667  ...  0.670000  0.686667  0.673333       -233.1250   \n",
       "3  0.956667  0.633333  ...  0.520000  0.846667  0.760000       -249.7775   \n",
       "4  0.853333  0.796667  ...  0.716667  0.706667  0.673333       -247.5775   \n",
       "\n",
       "   Target   data  geo_score  instance_scores  lambda_wt  qsets_normalized_tat  \n",
       "0     0.0  train      0.256            -0.06      -0.13                -0.700  \n",
       "1     0.0  train     -0.250             0.52       0.66                 0.140  \n",
       "2     0.0  train     -0.950             1.56      -0.51                -0.430  \n",
       "3     0.0  train      0.490             0.70       0.72                -0.302  \n",
       "4     0.0  train      0.850            -0.47       0.60                -0.630  \n",
       "\n",
       "[5 rows x 33 columns]"
      ]
     },
     "execution_count": 77,
     "metadata": {},
     "output_type": "execute_result"
    }
   ],
   "source": [
    "all_data.head()"
   ]
  },
  {
   "cell_type": "code",
   "execution_count": 78,
   "id": "653eb75e",
   "metadata": {},
   "outputs": [
    {
     "data": {
      "text/plain": [
       "id                          0\n",
       "Group                       0\n",
       "Per1                        0\n",
       "Per2                        0\n",
       "Per3                        0\n",
       "Per4                        0\n",
       "Per5                        0\n",
       "Per6                        0\n",
       "Per7                        0\n",
       "Per8                        0\n",
       "Per9                        0\n",
       "Dem1                        0\n",
       "Dem2                        0\n",
       "Dem3                        0\n",
       "Dem4                        0\n",
       "Dem5                        0\n",
       "Dem6                        0\n",
       "Dem7                        0\n",
       "Dem8                        0\n",
       "Dem9                        0\n",
       "Cred1                       0\n",
       "Cred2                       0\n",
       "Cred3                       0\n",
       "Cred4                       0\n",
       "Cred5                       0\n",
       "Cred6                       0\n",
       "Normalised_FNT              0\n",
       "Target                  56962\n",
       "data                        0\n",
       "geo_score                   0\n",
       "instance_scores             0\n",
       "lambda_wt                   0\n",
       "qsets_normalized_tat        0\n",
       "dtype: int64"
      ]
     },
     "execution_count": 78,
     "metadata": {},
     "output_type": "execute_result"
    }
   ],
   "source": [
    "all_data.isnull().sum()"
   ]
  },
  {
   "cell_type": "code",
   "execution_count": 79,
   "id": "7dc5d901",
   "metadata": {},
   "outputs": [],
   "source": [
    "train = all_data[all_data['data']=='train']\n",
    "test = all_data[all_data['data']=='test']"
   ]
  },
  {
   "cell_type": "code",
   "execution_count": 80,
   "id": "5bb90da2",
   "metadata": {},
   "outputs": [
    {
     "data": {
      "text/plain": [
       "(227845, 33)"
      ]
     },
     "execution_count": 80,
     "metadata": {},
     "output_type": "execute_result"
    }
   ],
   "source": [
    "train.shape"
   ]
  },
  {
   "cell_type": "code",
   "execution_count": 81,
   "id": "0a517810",
   "metadata": {},
   "outputs": [
    {
     "data": {
      "text/plain": [
       "(56962, 33)"
      ]
     },
     "execution_count": 81,
     "metadata": {},
     "output_type": "execute_result"
    }
   ],
   "source": [
    "test.shape"
   ]
  },
  {
   "cell_type": "code",
   "execution_count": 83,
   "id": "1a702bee",
   "metadata": {},
   "outputs": [
    {
     "data": {
      "text/html": [
       "<div>\n",
       "<style scoped>\n",
       "    .dataframe tbody tr th:only-of-type {\n",
       "        vertical-align: middle;\n",
       "    }\n",
       "\n",
       "    .dataframe tbody tr th {\n",
       "        vertical-align: top;\n",
       "    }\n",
       "\n",
       "    .dataframe thead th {\n",
       "        text-align: right;\n",
       "    }\n",
       "</style>\n",
       "<table border=\"1\" class=\"dataframe\">\n",
       "  <thead>\n",
       "    <tr style=\"text-align: right;\">\n",
       "      <th></th>\n",
       "      <th>id</th>\n",
       "      <th>Group</th>\n",
       "      <th>Per1</th>\n",
       "      <th>Per2</th>\n",
       "      <th>Per3</th>\n",
       "      <th>Per4</th>\n",
       "      <th>Per5</th>\n",
       "      <th>Per6</th>\n",
       "      <th>Per7</th>\n",
       "      <th>Per8</th>\n",
       "      <th>...</th>\n",
       "      <th>Cred4</th>\n",
       "      <th>Cred5</th>\n",
       "      <th>Cred6</th>\n",
       "      <th>Normalised_FNT</th>\n",
       "      <th>Target</th>\n",
       "      <th>data</th>\n",
       "      <th>geo_score</th>\n",
       "      <th>instance_scores</th>\n",
       "      <th>lambda_wt</th>\n",
       "      <th>qsets_normalized_tat</th>\n",
       "    </tr>\n",
       "  </thead>\n",
       "  <tbody>\n",
       "    <tr>\n",
       "      <th>0</th>\n",
       "      <td>112751</td>\n",
       "      <td>Grp169</td>\n",
       "      <td>1.070000</td>\n",
       "      <td>0.580000</td>\n",
       "      <td>0.480000</td>\n",
       "      <td>0.766667</td>\n",
       "      <td>1.233333</td>\n",
       "      <td>1.993333</td>\n",
       "      <td>0.340000</td>\n",
       "      <td>1.010000</td>\n",
       "      <td>...</td>\n",
       "      <td>0.603333</td>\n",
       "      <td>0.686667</td>\n",
       "      <td>0.673333</td>\n",
       "      <td>-245.7500</td>\n",
       "      <td>0.0</td>\n",
       "      <td>train</td>\n",
       "      <td>0.256</td>\n",
       "      <td>-0.06</td>\n",
       "      <td>-0.13</td>\n",
       "      <td>-0.700</td>\n",
       "    </tr>\n",
       "    <tr>\n",
       "      <th>1</th>\n",
       "      <td>18495</td>\n",
       "      <td>Grp161</td>\n",
       "      <td>0.473333</td>\n",
       "      <td>1.206667</td>\n",
       "      <td>0.883333</td>\n",
       "      <td>1.430000</td>\n",
       "      <td>0.726667</td>\n",
       "      <td>0.626667</td>\n",
       "      <td>0.810000</td>\n",
       "      <td>0.783333</td>\n",
       "      <td>...</td>\n",
       "      <td>0.670000</td>\n",
       "      <td>0.553333</td>\n",
       "      <td>0.653333</td>\n",
       "      <td>-248.0000</td>\n",
       "      <td>0.0</td>\n",
       "      <td>train</td>\n",
       "      <td>-0.250</td>\n",
       "      <td>0.52</td>\n",
       "      <td>0.66</td>\n",
       "      <td>0.140</td>\n",
       "    </tr>\n",
       "    <tr>\n",
       "      <th>2</th>\n",
       "      <td>23915</td>\n",
       "      <td>Grp261</td>\n",
       "      <td>1.130000</td>\n",
       "      <td>0.143333</td>\n",
       "      <td>0.946667</td>\n",
       "      <td>0.123333</td>\n",
       "      <td>0.080000</td>\n",
       "      <td>0.836667</td>\n",
       "      <td>0.056667</td>\n",
       "      <td>0.756667</td>\n",
       "      <td>...</td>\n",
       "      <td>0.670000</td>\n",
       "      <td>0.686667</td>\n",
       "      <td>0.673333</td>\n",
       "      <td>-233.1250</td>\n",
       "      <td>0.0</td>\n",
       "      <td>train</td>\n",
       "      <td>-0.950</td>\n",
       "      <td>1.56</td>\n",
       "      <td>-0.51</td>\n",
       "      <td>-0.430</td>\n",
       "    </tr>\n",
       "    <tr>\n",
       "      <th>3</th>\n",
       "      <td>50806</td>\n",
       "      <td>Grp198</td>\n",
       "      <td>0.636667</td>\n",
       "      <td>1.090000</td>\n",
       "      <td>0.750000</td>\n",
       "      <td>0.940000</td>\n",
       "      <td>0.743333</td>\n",
       "      <td>0.346667</td>\n",
       "      <td>0.956667</td>\n",
       "      <td>0.633333</td>\n",
       "      <td>...</td>\n",
       "      <td>0.520000</td>\n",
       "      <td>0.846667</td>\n",
       "      <td>0.760000</td>\n",
       "      <td>-249.7775</td>\n",
       "      <td>0.0</td>\n",
       "      <td>train</td>\n",
       "      <td>0.490</td>\n",
       "      <td>0.70</td>\n",
       "      <td>0.72</td>\n",
       "      <td>-0.302</td>\n",
       "    </tr>\n",
       "    <tr>\n",
       "      <th>4</th>\n",
       "      <td>184244</td>\n",
       "      <td>Grp228</td>\n",
       "      <td>0.560000</td>\n",
       "      <td>1.013333</td>\n",
       "      <td>0.593333</td>\n",
       "      <td>0.416667</td>\n",
       "      <td>0.773333</td>\n",
       "      <td>0.460000</td>\n",
       "      <td>0.853333</td>\n",
       "      <td>0.796667</td>\n",
       "      <td>...</td>\n",
       "      <td>0.716667</td>\n",
       "      <td>0.706667</td>\n",
       "      <td>0.673333</td>\n",
       "      <td>-247.5775</td>\n",
       "      <td>0.0</td>\n",
       "      <td>train</td>\n",
       "      <td>0.850</td>\n",
       "      <td>-0.47</td>\n",
       "      <td>0.60</td>\n",
       "      <td>-0.630</td>\n",
       "    </tr>\n",
       "    <tr>\n",
       "      <th>5</th>\n",
       "      <td>144029</td>\n",
       "      <td>Grp45</td>\n",
       "      <td>0.873333</td>\n",
       "      <td>0.140000</td>\n",
       "      <td>0.836667</td>\n",
       "      <td>0.273333</td>\n",
       "      <td>0.190000</td>\n",
       "      <td>0.653333</td>\n",
       "      <td>0.503333</td>\n",
       "      <td>0.723333</td>\n",
       "      <td>...</td>\n",
       "      <td>0.700000</td>\n",
       "      <td>0.666667</td>\n",
       "      <td>0.686667</td>\n",
       "      <td>-176.2000</td>\n",
       "      <td>0.0</td>\n",
       "      <td>train</td>\n",
       "      <td>1.336</td>\n",
       "      <td>-1.16</td>\n",
       "      <td>0.14</td>\n",
       "      <td>-0.020</td>\n",
       "    </tr>\n",
       "    <tr>\n",
       "      <th>6</th>\n",
       "      <td>127618</td>\n",
       "      <td>Grp69</td>\n",
       "      <td>0.980000</td>\n",
       "      <td>0.546667</td>\n",
       "      <td>0.820000</td>\n",
       "      <td>0.863333</td>\n",
       "      <td>0.680000</td>\n",
       "      <td>1.163333</td>\n",
       "      <td>0.486667</td>\n",
       "      <td>0.893333</td>\n",
       "      <td>...</td>\n",
       "      <td>0.790000</td>\n",
       "      <td>0.676667</td>\n",
       "      <td>0.663333</td>\n",
       "      <td>-242.6275</td>\n",
       "      <td>0.0</td>\n",
       "      <td>train</td>\n",
       "      <td>0.776</td>\n",
       "      <td>-0.18</td>\n",
       "      <td>0.59</td>\n",
       "      <td>1.150</td>\n",
       "    </tr>\n",
       "    <tr>\n",
       "      <th>7</th>\n",
       "      <td>116319</td>\n",
       "      <td>Grp198</td>\n",
       "      <td>-0.136667</td>\n",
       "      <td>0.360000</td>\n",
       "      <td>0.366667</td>\n",
       "      <td>0.996667</td>\n",
       "      <td>0.473333</td>\n",
       "      <td>0.706667</td>\n",
       "      <td>0.676667</td>\n",
       "      <td>0.933333</td>\n",
       "      <td>...</td>\n",
       "      <td>0.603333</td>\n",
       "      <td>0.826667</td>\n",
       "      <td>0.626667</td>\n",
       "      <td>-191.0050</td>\n",
       "      <td>0.0</td>\n",
       "      <td>train</td>\n",
       "      <td>-0.230</td>\n",
       "      <td>0.59</td>\n",
       "      <td>0.72</td>\n",
       "      <td>0.760</td>\n",
       "    </tr>\n",
       "    <tr>\n",
       "      <th>8</th>\n",
       "      <td>66485</td>\n",
       "      <td>Grp57</td>\n",
       "      <td>1.010000</td>\n",
       "      <td>0.606667</td>\n",
       "      <td>0.823333</td>\n",
       "      <td>1.066667</td>\n",
       "      <td>0.516667</td>\n",
       "      <td>0.653333</td>\n",
       "      <td>0.633333</td>\n",
       "      <td>0.703333</td>\n",
       "      <td>...</td>\n",
       "      <td>0.490000</td>\n",
       "      <td>0.670000</td>\n",
       "      <td>0.673333</td>\n",
       "      <td>-229.3475</td>\n",
       "      <td>0.0</td>\n",
       "      <td>train</td>\n",
       "      <td>0.620</td>\n",
       "      <td>-0.01</td>\n",
       "      <td>0.32</td>\n",
       "      <td>-0.380</td>\n",
       "    </tr>\n",
       "    <tr>\n",
       "      <th>9</th>\n",
       "      <td>117942</td>\n",
       "      <td>Grp271</td>\n",
       "      <td>-0.133333</td>\n",
       "      <td>0.890000</td>\n",
       "      <td>0.210000</td>\n",
       "      <td>0.333333</td>\n",
       "      <td>0.743333</td>\n",
       "      <td>1.023333</td>\n",
       "      <td>0.416667</td>\n",
       "      <td>0.096667</td>\n",
       "      <td>...</td>\n",
       "      <td>0.973333</td>\n",
       "      <td>0.700000</td>\n",
       "      <td>0.616667</td>\n",
       "      <td>-217.2425</td>\n",
       "      <td>0.0</td>\n",
       "      <td>train</td>\n",
       "      <td>1.210</td>\n",
       "      <td>-1.33</td>\n",
       "      <td>1.02</td>\n",
       "      <td>-0.420</td>\n",
       "    </tr>\n",
       "  </tbody>\n",
       "</table>\n",
       "<p>10 rows × 33 columns</p>\n",
       "</div>"
      ],
      "text/plain": [
       "       id   Group      Per1      Per2      Per3      Per4      Per5      Per6  \\\n",
       "0  112751  Grp169  1.070000  0.580000  0.480000  0.766667  1.233333  1.993333   \n",
       "1   18495  Grp161  0.473333  1.206667  0.883333  1.430000  0.726667  0.626667   \n",
       "2   23915  Grp261  1.130000  0.143333  0.946667  0.123333  0.080000  0.836667   \n",
       "3   50806  Grp198  0.636667  1.090000  0.750000  0.940000  0.743333  0.346667   \n",
       "4  184244  Grp228  0.560000  1.013333  0.593333  0.416667  0.773333  0.460000   \n",
       "5  144029   Grp45  0.873333  0.140000  0.836667  0.273333  0.190000  0.653333   \n",
       "6  127618   Grp69  0.980000  0.546667  0.820000  0.863333  0.680000  1.163333   \n",
       "7  116319  Grp198 -0.136667  0.360000  0.366667  0.996667  0.473333  0.706667   \n",
       "8   66485   Grp57  1.010000  0.606667  0.823333  1.066667  0.516667  0.653333   \n",
       "9  117942  Grp271 -0.133333  0.890000  0.210000  0.333333  0.743333  1.023333   \n",
       "\n",
       "       Per7      Per8  ...     Cred4     Cred5     Cred6  Normalised_FNT  \\\n",
       "0  0.340000  1.010000  ...  0.603333  0.686667  0.673333       -245.7500   \n",
       "1  0.810000  0.783333  ...  0.670000  0.553333  0.653333       -248.0000   \n",
       "2  0.056667  0.756667  ...  0.670000  0.686667  0.673333       -233.1250   \n",
       "3  0.956667  0.633333  ...  0.520000  0.846667  0.760000       -249.7775   \n",
       "4  0.853333  0.796667  ...  0.716667  0.706667  0.673333       -247.5775   \n",
       "5  0.503333  0.723333  ...  0.700000  0.666667  0.686667       -176.2000   \n",
       "6  0.486667  0.893333  ...  0.790000  0.676667  0.663333       -242.6275   \n",
       "7  0.676667  0.933333  ...  0.603333  0.826667  0.626667       -191.0050   \n",
       "8  0.633333  0.703333  ...  0.490000  0.670000  0.673333       -229.3475   \n",
       "9  0.416667  0.096667  ...  0.973333  0.700000  0.616667       -217.2425   \n",
       "\n",
       "   Target   data  geo_score  instance_scores  lambda_wt  qsets_normalized_tat  \n",
       "0     0.0  train      0.256            -0.06      -0.13                -0.700  \n",
       "1     0.0  train     -0.250             0.52       0.66                 0.140  \n",
       "2     0.0  train     -0.950             1.56      -0.51                -0.430  \n",
       "3     0.0  train      0.490             0.70       0.72                -0.302  \n",
       "4     0.0  train      0.850            -0.47       0.60                -0.630  \n",
       "5     0.0  train      1.336            -1.16       0.14                -0.020  \n",
       "6     0.0  train      0.776            -0.18       0.59                 1.150  \n",
       "7     0.0  train     -0.230             0.59       0.72                 0.760  \n",
       "8     0.0  train      0.620            -0.01       0.32                -0.380  \n",
       "9     0.0  train      1.210            -1.33       1.02                -0.420  \n",
       "\n",
       "[10 rows x 33 columns]"
      ]
     },
     "execution_count": 83,
     "metadata": {},
     "output_type": "execute_result"
    }
   ],
   "source": [
    "train.head(10)"
   ]
  },
  {
   "cell_type": "code",
   "execution_count": 82,
   "id": "e5d438f7",
   "metadata": {},
   "outputs": [
    {
     "data": {
      "text/plain": [
       "Index(['id', 'Group', 'Per1', 'Per2', 'Per3', 'Per4', 'Per5', 'Per6', 'Per7',\n",
       "       'Per8', 'Per9', 'Dem1', 'Dem2', 'Dem3', 'Dem4', 'Dem5', 'Dem6', 'Dem7',\n",
       "       'Dem8', 'Dem9', 'Cred1', 'Cred2', 'Cred3', 'Cred4', 'Cred5', 'Cred6',\n",
       "       'Normalised_FNT', 'Target', 'data', 'geo_score', 'instance_scores',\n",
       "       'lambda_wt', 'qsets_normalized_tat'],\n",
       "      dtype='object')"
      ]
     },
     "execution_count": 82,
     "metadata": {},
     "output_type": "execute_result"
    }
   ],
   "source": [
    "train.columns"
   ]
  },
  {
   "cell_type": "code",
   "execution_count": 84,
   "id": "fb5401ab",
   "metadata": {},
   "outputs": [],
   "source": [
    "# split the data into ind and dependent variable \n",
    "x_train = train.drop(['id','Group','Target','data'], axis=1)\n",
    "y_train = train['Target']"
   ]
  },
  {
   "cell_type": "code",
   "execution_count": 85,
   "id": "f349a3c5",
   "metadata": {},
   "outputs": [
    {
     "data": {
      "text/html": [
       "<div>\n",
       "<style scoped>\n",
       "    .dataframe tbody tr th:only-of-type {\n",
       "        vertical-align: middle;\n",
       "    }\n",
       "\n",
       "    .dataframe tbody tr th {\n",
       "        vertical-align: top;\n",
       "    }\n",
       "\n",
       "    .dataframe thead th {\n",
       "        text-align: right;\n",
       "    }\n",
       "</style>\n",
       "<table border=\"1\" class=\"dataframe\">\n",
       "  <thead>\n",
       "    <tr style=\"text-align: right;\">\n",
       "      <th></th>\n",
       "      <th>Per1</th>\n",
       "      <th>Per2</th>\n",
       "      <th>Per3</th>\n",
       "      <th>Per4</th>\n",
       "      <th>Per5</th>\n",
       "      <th>Per6</th>\n",
       "      <th>Per7</th>\n",
       "      <th>Per8</th>\n",
       "      <th>Per9</th>\n",
       "      <th>Dem1</th>\n",
       "      <th>...</th>\n",
       "      <th>Cred2</th>\n",
       "      <th>Cred3</th>\n",
       "      <th>Cred4</th>\n",
       "      <th>Cred5</th>\n",
       "      <th>Cred6</th>\n",
       "      <th>Normalised_FNT</th>\n",
       "      <th>geo_score</th>\n",
       "      <th>instance_scores</th>\n",
       "      <th>lambda_wt</th>\n",
       "      <th>qsets_normalized_tat</th>\n",
       "    </tr>\n",
       "  </thead>\n",
       "  <tbody>\n",
       "    <tr>\n",
       "      <th>0</th>\n",
       "      <td>1.070000</td>\n",
       "      <td>0.580000</td>\n",
       "      <td>0.480000</td>\n",
       "      <td>0.766667</td>\n",
       "      <td>1.233333</td>\n",
       "      <td>1.993333</td>\n",
       "      <td>0.340000</td>\n",
       "      <td>1.010000</td>\n",
       "      <td>0.863333</td>\n",
       "      <td>0.460000</td>\n",
       "      <td>...</td>\n",
       "      <td>1.010000</td>\n",
       "      <td>0.933333</td>\n",
       "      <td>0.603333</td>\n",
       "      <td>0.686667</td>\n",
       "      <td>0.673333</td>\n",
       "      <td>-245.7500</td>\n",
       "      <td>0.256</td>\n",
       "      <td>-0.06</td>\n",
       "      <td>-0.13</td>\n",
       "      <td>-0.700</td>\n",
       "    </tr>\n",
       "    <tr>\n",
       "      <th>1</th>\n",
       "      <td>0.473333</td>\n",
       "      <td>1.206667</td>\n",
       "      <td>0.883333</td>\n",
       "      <td>1.430000</td>\n",
       "      <td>0.726667</td>\n",
       "      <td>0.626667</td>\n",
       "      <td>0.810000</td>\n",
       "      <td>0.783333</td>\n",
       "      <td>0.190000</td>\n",
       "      <td>0.470000</td>\n",
       "      <td>...</td>\n",
       "      <td>0.690000</td>\n",
       "      <td>0.560000</td>\n",
       "      <td>0.670000</td>\n",
       "      <td>0.553333</td>\n",
       "      <td>0.653333</td>\n",
       "      <td>-248.0000</td>\n",
       "      <td>-0.250</td>\n",
       "      <td>0.52</td>\n",
       "      <td>0.66</td>\n",
       "      <td>0.140</td>\n",
       "    </tr>\n",
       "    <tr>\n",
       "      <th>2</th>\n",
       "      <td>1.130000</td>\n",
       "      <td>0.143333</td>\n",
       "      <td>0.946667</td>\n",
       "      <td>0.123333</td>\n",
       "      <td>0.080000</td>\n",
       "      <td>0.836667</td>\n",
       "      <td>0.056667</td>\n",
       "      <td>0.756667</td>\n",
       "      <td>0.226667</td>\n",
       "      <td>0.660000</td>\n",
       "      <td>...</td>\n",
       "      <td>0.383333</td>\n",
       "      <td>0.763333</td>\n",
       "      <td>0.670000</td>\n",
       "      <td>0.686667</td>\n",
       "      <td>0.673333</td>\n",
       "      <td>-233.1250</td>\n",
       "      <td>-0.950</td>\n",
       "      <td>1.56</td>\n",
       "      <td>-0.51</td>\n",
       "      <td>-0.430</td>\n",
       "    </tr>\n",
       "    <tr>\n",
       "      <th>3</th>\n",
       "      <td>0.636667</td>\n",
       "      <td>1.090000</td>\n",
       "      <td>0.750000</td>\n",
       "      <td>0.940000</td>\n",
       "      <td>0.743333</td>\n",
       "      <td>0.346667</td>\n",
       "      <td>0.956667</td>\n",
       "      <td>0.633333</td>\n",
       "      <td>0.486667</td>\n",
       "      <td>1.096667</td>\n",
       "      <td>...</td>\n",
       "      <td>0.846667</td>\n",
       "      <td>0.423333</td>\n",
       "      <td>0.520000</td>\n",
       "      <td>0.846667</td>\n",
       "      <td>0.760000</td>\n",
       "      <td>-249.7775</td>\n",
       "      <td>0.490</td>\n",
       "      <td>0.70</td>\n",
       "      <td>0.72</td>\n",
       "      <td>-0.302</td>\n",
       "    </tr>\n",
       "    <tr>\n",
       "      <th>4</th>\n",
       "      <td>0.560000</td>\n",
       "      <td>1.013333</td>\n",
       "      <td>0.593333</td>\n",
       "      <td>0.416667</td>\n",
       "      <td>0.773333</td>\n",
       "      <td>0.460000</td>\n",
       "      <td>0.853333</td>\n",
       "      <td>0.796667</td>\n",
       "      <td>0.516667</td>\n",
       "      <td>0.756667</td>\n",
       "      <td>...</td>\n",
       "      <td>0.526667</td>\n",
       "      <td>0.520000</td>\n",
       "      <td>0.716667</td>\n",
       "      <td>0.706667</td>\n",
       "      <td>0.673333</td>\n",
       "      <td>-247.5775</td>\n",
       "      <td>0.850</td>\n",
       "      <td>-0.47</td>\n",
       "      <td>0.60</td>\n",
       "      <td>-0.630</td>\n",
       "    </tr>\n",
       "  </tbody>\n",
       "</table>\n",
       "<p>5 rows × 29 columns</p>\n",
       "</div>"
      ],
      "text/plain": [
       "       Per1      Per2      Per3      Per4      Per5      Per6      Per7  \\\n",
       "0  1.070000  0.580000  0.480000  0.766667  1.233333  1.993333  0.340000   \n",
       "1  0.473333  1.206667  0.883333  1.430000  0.726667  0.626667  0.810000   \n",
       "2  1.130000  0.143333  0.946667  0.123333  0.080000  0.836667  0.056667   \n",
       "3  0.636667  1.090000  0.750000  0.940000  0.743333  0.346667  0.956667   \n",
       "4  0.560000  1.013333  0.593333  0.416667  0.773333  0.460000  0.853333   \n",
       "\n",
       "       Per8      Per9      Dem1  ...     Cred2     Cred3     Cred4     Cred5  \\\n",
       "0  1.010000  0.863333  0.460000  ...  1.010000  0.933333  0.603333  0.686667   \n",
       "1  0.783333  0.190000  0.470000  ...  0.690000  0.560000  0.670000  0.553333   \n",
       "2  0.756667  0.226667  0.660000  ...  0.383333  0.763333  0.670000  0.686667   \n",
       "3  0.633333  0.486667  1.096667  ...  0.846667  0.423333  0.520000  0.846667   \n",
       "4  0.796667  0.516667  0.756667  ...  0.526667  0.520000  0.716667  0.706667   \n",
       "\n",
       "      Cred6  Normalised_FNT  geo_score  instance_scores  lambda_wt  \\\n",
       "0  0.673333       -245.7500      0.256            -0.06      -0.13   \n",
       "1  0.653333       -248.0000     -0.250             0.52       0.66   \n",
       "2  0.673333       -233.1250     -0.950             1.56      -0.51   \n",
       "3  0.760000       -249.7775      0.490             0.70       0.72   \n",
       "4  0.673333       -247.5775      0.850            -0.47       0.60   \n",
       "\n",
       "   qsets_normalized_tat  \n",
       "0                -0.700  \n",
       "1                 0.140  \n",
       "2                -0.430  \n",
       "3                -0.302  \n",
       "4                -0.630  \n",
       "\n",
       "[5 rows x 29 columns]"
      ]
     },
     "execution_count": 85,
     "metadata": {},
     "output_type": "execute_result"
    }
   ],
   "source": [
    "x_train.head()"
   ]
  },
  {
   "cell_type": "code",
   "execution_count": 87,
   "id": "147ef696",
   "metadata": {},
   "outputs": [
    {
     "data": {
      "text/plain": [
       "Per1                    0\n",
       "Per2                    0\n",
       "Per3                    0\n",
       "Per4                    0\n",
       "Per5                    0\n",
       "Per6                    0\n",
       "Per7                    0\n",
       "Per8                    0\n",
       "Per9                    0\n",
       "Dem1                    0\n",
       "Dem2                    0\n",
       "Dem3                    0\n",
       "Dem4                    0\n",
       "Dem5                    0\n",
       "Dem6                    0\n",
       "Dem7                    0\n",
       "Dem8                    0\n",
       "Dem9                    0\n",
       "Cred1                   0\n",
       "Cred2                   0\n",
       "Cred3                   0\n",
       "Cred4                   0\n",
       "Cred5                   0\n",
       "Cred6                   0\n",
       "Normalised_FNT          0\n",
       "geo_score               0\n",
       "instance_scores         0\n",
       "lambda_wt               0\n",
       "qsets_normalized_tat    0\n",
       "dtype: int64"
      ]
     },
     "execution_count": 87,
     "metadata": {},
     "output_type": "execute_result"
    }
   ],
   "source": [
    "x_train.isnull().sum()"
   ]
  },
  {
   "cell_type": "code",
   "execution_count": 86,
   "id": "e997b730",
   "metadata": {},
   "outputs": [
    {
     "data": {
      "text/plain": [
       "0    0.0\n",
       "1    0.0\n",
       "2    0.0\n",
       "3    0.0\n",
       "4    0.0\n",
       "Name: Target, dtype: float64"
      ]
     },
     "execution_count": 86,
     "metadata": {},
     "output_type": "execute_result"
    }
   ],
   "source": [
    "y_train.head()"
   ]
  },
  {
   "cell_type": "code",
   "execution_count": 104,
   "id": "0b55f52b",
   "metadata": {},
   "outputs": [
    {
     "data": {
      "text/plain": [
       "0.0    227451\n",
       "1.0       394\n",
       "Name: Target, dtype: int64"
      ]
     },
     "execution_count": 104,
     "metadata": {},
     "output_type": "execute_result"
    }
   ],
   "source": [
    "y_train.value_counts()"
   ]
  },
  {
   "cell_type": "code",
   "execution_count": 126,
   "id": "10d7170a",
   "metadata": {},
   "outputs": [],
   "source": [
    "fraud = train[train['Target']==1]"
   ]
  },
  {
   "cell_type": "code",
   "execution_count": 128,
   "id": "885592c8",
   "metadata": {},
   "outputs": [
    {
     "data": {
      "text/html": [
       "<div>\n",
       "<style scoped>\n",
       "    .dataframe tbody tr th:only-of-type {\n",
       "        vertical-align: middle;\n",
       "    }\n",
       "\n",
       "    .dataframe tbody tr th {\n",
       "        vertical-align: top;\n",
       "    }\n",
       "\n",
       "    .dataframe thead th {\n",
       "        text-align: right;\n",
       "    }\n",
       "</style>\n",
       "<table border=\"1\" class=\"dataframe\">\n",
       "  <thead>\n",
       "    <tr style=\"text-align: right;\">\n",
       "      <th></th>\n",
       "      <th>id</th>\n",
       "      <th>Group</th>\n",
       "      <th>Per1</th>\n",
       "      <th>Per2</th>\n",
       "      <th>Per3</th>\n",
       "      <th>Per4</th>\n",
       "      <th>Per5</th>\n",
       "      <th>Per6</th>\n",
       "      <th>Per7</th>\n",
       "      <th>Per8</th>\n",
       "      <th>...</th>\n",
       "      <th>Cred4</th>\n",
       "      <th>Cred5</th>\n",
       "      <th>Cred6</th>\n",
       "      <th>Normalised_FNT</th>\n",
       "      <th>Target</th>\n",
       "      <th>data</th>\n",
       "      <th>geo_score</th>\n",
       "      <th>instance_scores</th>\n",
       "      <th>lambda_wt</th>\n",
       "      <th>qsets_normalized_tat</th>\n",
       "    </tr>\n",
       "  </thead>\n",
       "  <tbody>\n",
       "    <tr>\n",
       "      <th>357</th>\n",
       "      <td>64460</td>\n",
       "      <td>Grp1075</td>\n",
       "      <td>-3.070000</td>\n",
       "      <td>3.303333</td>\n",
       "      <td>-3.996667</td>\n",
       "      <td>2.110000</td>\n",
       "      <td>-2.160000</td>\n",
       "      <td>-0.503333</td>\n",
       "      <td>-2.313333</td>\n",
       "      <td>3.233333</td>\n",
       "      <td>...</td>\n",
       "      <td>0.580000</td>\n",
       "      <td>1.026667</td>\n",
       "      <td>0.736667</td>\n",
       "      <td>-225.0025</td>\n",
       "      <td>1.0</td>\n",
       "      <td>train</td>\n",
       "      <td>-5.790</td>\n",
       "      <td>-5.93</td>\n",
       "      <td>-6.53</td>\n",
       "      <td>-6.696</td>\n",
       "    </tr>\n",
       "    <tr>\n",
       "      <th>591</th>\n",
       "      <td>131272</td>\n",
       "      <td>Grp28</td>\n",
       "      <td>0.630000</td>\n",
       "      <td>1.013333</td>\n",
       "      <td>1.326667</td>\n",
       "      <td>1.710000</td>\n",
       "      <td>0.420000</td>\n",
       "      <td>1.183333</td>\n",
       "      <td>0.100000</td>\n",
       "      <td>-0.066667</td>\n",
       "      <td>...</td>\n",
       "      <td>0.826667</td>\n",
       "      <td>0.710000</td>\n",
       "      <td>0.740000</td>\n",
       "      <td>-249.9500</td>\n",
       "      <td>1.0</td>\n",
       "      <td>train</td>\n",
       "      <td>0.930</td>\n",
       "      <td>0.27</td>\n",
       "      <td>0.52</td>\n",
       "      <td>0.310</td>\n",
       "    </tr>\n",
       "    <tr>\n",
       "      <th>1792</th>\n",
       "      <td>154633</td>\n",
       "      <td>Grp359</td>\n",
       "      <td>0.326667</td>\n",
       "      <td>1.166667</td>\n",
       "      <td>-0.830000</td>\n",
       "      <td>1.280000</td>\n",
       "      <td>0.876667</td>\n",
       "      <td>-0.246667</td>\n",
       "      <td>0.150000</td>\n",
       "      <td>0.820000</td>\n",
       "      <td>...</td>\n",
       "      <td>0.593333</td>\n",
       "      <td>0.796667</td>\n",
       "      <td>0.660000</td>\n",
       "      <td>-244.4900</td>\n",
       "      <td>1.0</td>\n",
       "      <td>train</td>\n",
       "      <td>-5.364</td>\n",
       "      <td>-4.36</td>\n",
       "      <td>-3.09</td>\n",
       "      <td>-3.170</td>\n",
       "    </tr>\n",
       "    <tr>\n",
       "      <th>1801</th>\n",
       "      <td>15506</td>\n",
       "      <td>Grp787</td>\n",
       "      <td>-6.630000</td>\n",
       "      <td>4.976667</td>\n",
       "      <td>-7.366667</td>\n",
       "      <td>2.733333</td>\n",
       "      <td>-4.823333</td>\n",
       "      <td>-0.820000</td>\n",
       "      <td>-4.840000</td>\n",
       "      <td>5.513333</td>\n",
       "      <td>...</td>\n",
       "      <td>0.593333</td>\n",
       "      <td>1.176667</td>\n",
       "      <td>0.816667</td>\n",
       "      <td>-225.0025</td>\n",
       "      <td>1.0</td>\n",
       "      <td>train</td>\n",
       "      <td>-7.570</td>\n",
       "      <td>-8.65</td>\n",
       "      <td>-7.83</td>\n",
       "      <td>-13.000</td>\n",
       "    </tr>\n",
       "    <tr>\n",
       "      <th>2031</th>\n",
       "      <td>204064</td>\n",
       "      <td>Grp1317</td>\n",
       "      <td>0.743333</td>\n",
       "      <td>0.980000</td>\n",
       "      <td>-0.883333</td>\n",
       "      <td>1.693333</td>\n",
       "      <td>0.033333</td>\n",
       "      <td>0.320000</td>\n",
       "      <td>0.326667</td>\n",
       "      <td>0.850000</td>\n",
       "      <td>...</td>\n",
       "      <td>0.730000</td>\n",
       "      <td>0.726667</td>\n",
       "      <td>0.656667</td>\n",
       "      <td>-163.7500</td>\n",
       "      <td>1.0</td>\n",
       "      <td>train</td>\n",
       "      <td>-2.974</td>\n",
       "      <td>-3.52</td>\n",
       "      <td>-5.39</td>\n",
       "      <td>-2.290</td>\n",
       "    </tr>\n",
       "    <tr>\n",
       "      <th>...</th>\n",
       "      <td>...</td>\n",
       "      <td>...</td>\n",
       "      <td>...</td>\n",
       "      <td>...</td>\n",
       "      <td>...</td>\n",
       "      <td>...</td>\n",
       "      <td>...</td>\n",
       "      <td>...</td>\n",
       "      <td>...</td>\n",
       "      <td>...</td>\n",
       "      <td>...</td>\n",
       "      <td>...</td>\n",
       "      <td>...</td>\n",
       "      <td>...</td>\n",
       "      <td>...</td>\n",
       "      <td>...</td>\n",
       "      <td>...</td>\n",
       "      <td>...</td>\n",
       "      <td>...</td>\n",
       "      <td>...</td>\n",
       "      <td>...</td>\n",
       "    </tr>\n",
       "    <tr>\n",
       "      <th>225728</th>\n",
       "      <td>42609</td>\n",
       "      <td>Grp994</td>\n",
       "      <td>-1.500000</td>\n",
       "      <td>2.250000</td>\n",
       "      <td>-2.323333</td>\n",
       "      <td>3.033333</td>\n",
       "      <td>-1.653333</td>\n",
       "      <td>-0.273333</td>\n",
       "      <td>-2.776667</td>\n",
       "      <td>2.010000</td>\n",
       "      <td>...</td>\n",
       "      <td>0.693333</td>\n",
       "      <td>1.140000</td>\n",
       "      <td>0.680000</td>\n",
       "      <td>-229.1550</td>\n",
       "      <td>1.0</td>\n",
       "      <td>train</td>\n",
       "      <td>-13.700</td>\n",
       "      <td>-11.63</td>\n",
       "      <td>-13.04</td>\n",
       "      <td>-24.016</td>\n",
       "    </tr>\n",
       "    <tr>\n",
       "      <th>225924</th>\n",
       "      <td>88307</td>\n",
       "      <td>Grp375</td>\n",
       "      <td>0.133333</td>\n",
       "      <td>1.536667</td>\n",
       "      <td>-0.330000</td>\n",
       "      <td>1.686667</td>\n",
       "      <td>-0.166667</td>\n",
       "      <td>0.486667</td>\n",
       "      <td>-0.093333</td>\n",
       "      <td>1.090000</td>\n",
       "      <td>...</td>\n",
       "      <td>0.650000</td>\n",
       "      <td>0.773333</td>\n",
       "      <td>0.713333</td>\n",
       "      <td>-205.0000</td>\n",
       "      <td>1.0</td>\n",
       "      <td>train</td>\n",
       "      <td>-4.980</td>\n",
       "      <td>-3.83</td>\n",
       "      <td>-4.55</td>\n",
       "      <td>-5.370</td>\n",
       "    </tr>\n",
       "    <tr>\n",
       "      <th>226338</th>\n",
       "      <td>141258</td>\n",
       "      <td>Grp1210</td>\n",
       "      <td>0.353333</td>\n",
       "      <td>1.820000</td>\n",
       "      <td>-1.483333</td>\n",
       "      <td>2.310000</td>\n",
       "      <td>-0.076667</td>\n",
       "      <td>-0.096667</td>\n",
       "      <td>-1.233333</td>\n",
       "      <td>1.113333</td>\n",
       "      <td>...</td>\n",
       "      <td>1.056667</td>\n",
       "      <td>1.123333</td>\n",
       "      <td>0.910000</td>\n",
       "      <td>-250.0000</td>\n",
       "      <td>1.0</td>\n",
       "      <td>train</td>\n",
       "      <td>-9.450</td>\n",
       "      <td>-8.10</td>\n",
       "      <td>-12.99</td>\n",
       "      <td>-12.726</td>\n",
       "    </tr>\n",
       "    <tr>\n",
       "      <th>227267</th>\n",
       "      <td>249607</td>\n",
       "      <td>Grp1370</td>\n",
       "      <td>-1.793333</td>\n",
       "      <td>-1.816667</td>\n",
       "      <td>-0.900000</td>\n",
       "      <td>1.910000</td>\n",
       "      <td>2.733333</td>\n",
       "      <td>-1.470000</td>\n",
       "      <td>-1.276667</td>\n",
       "      <td>1.153333</td>\n",
       "      <td>...</td>\n",
       "      <td>0.800000</td>\n",
       "      <td>0.900000</td>\n",
       "      <td>0.256667</td>\n",
       "      <td>-241.2500</td>\n",
       "      <td>1.0</td>\n",
       "      <td>train</td>\n",
       "      <td>-3.274</td>\n",
       "      <td>-4.03</td>\n",
       "      <td>-5.76</td>\n",
       "      <td>-1.910</td>\n",
       "    </tr>\n",
       "    <tr>\n",
       "      <th>227383</th>\n",
       "      <td>154693</td>\n",
       "      <td>Grp1071</td>\n",
       "      <td>-0.163333</td>\n",
       "      <td>2.120000</td>\n",
       "      <td>-1.926667</td>\n",
       "      <td>2.453333</td>\n",
       "      <td>0.060000</td>\n",
       "      <td>-0.150000</td>\n",
       "      <td>-0.986667</td>\n",
       "      <td>1.160000</td>\n",
       "      <td>...</td>\n",
       "      <td>0.693333</td>\n",
       "      <td>0.726667</td>\n",
       "      <td>0.596667</td>\n",
       "      <td>-249.7500</td>\n",
       "      <td>1.0</td>\n",
       "      <td>train</td>\n",
       "      <td>-10.180</td>\n",
       "      <td>-7.18</td>\n",
       "      <td>-8.98</td>\n",
       "      <td>-9.786</td>\n",
       "    </tr>\n",
       "  </tbody>\n",
       "</table>\n",
       "<p>394 rows × 33 columns</p>\n",
       "</div>"
      ],
      "text/plain": [
       "            id    Group      Per1      Per2      Per3      Per4      Per5  \\\n",
       "357      64460  Grp1075 -3.070000  3.303333 -3.996667  2.110000 -2.160000   \n",
       "591     131272    Grp28  0.630000  1.013333  1.326667  1.710000  0.420000   \n",
       "1792    154633   Grp359  0.326667  1.166667 -0.830000  1.280000  0.876667   \n",
       "1801     15506   Grp787 -6.630000  4.976667 -7.366667  2.733333 -4.823333   \n",
       "2031    204064  Grp1317  0.743333  0.980000 -0.883333  1.693333  0.033333   \n",
       "...        ...      ...       ...       ...       ...       ...       ...   \n",
       "225728   42609   Grp994 -1.500000  2.250000 -2.323333  3.033333 -1.653333   \n",
       "225924   88307   Grp375  0.133333  1.536667 -0.330000  1.686667 -0.166667   \n",
       "226338  141258  Grp1210  0.353333  1.820000 -1.483333  2.310000 -0.076667   \n",
       "227267  249607  Grp1370 -1.793333 -1.816667 -0.900000  1.910000  2.733333   \n",
       "227383  154693  Grp1071 -0.163333  2.120000 -1.926667  2.453333  0.060000   \n",
       "\n",
       "            Per6      Per7      Per8  ...     Cred4     Cred5     Cred6  \\\n",
       "357    -0.503333 -2.313333  3.233333  ...  0.580000  1.026667  0.736667   \n",
       "591     1.183333  0.100000 -0.066667  ...  0.826667  0.710000  0.740000   \n",
       "1792   -0.246667  0.150000  0.820000  ...  0.593333  0.796667  0.660000   \n",
       "1801   -0.820000 -4.840000  5.513333  ...  0.593333  1.176667  0.816667   \n",
       "2031    0.320000  0.326667  0.850000  ...  0.730000  0.726667  0.656667   \n",
       "...          ...       ...       ...  ...       ...       ...       ...   \n",
       "225728 -0.273333 -2.776667  2.010000  ...  0.693333  1.140000  0.680000   \n",
       "225924  0.486667 -0.093333  1.090000  ...  0.650000  0.773333  0.713333   \n",
       "226338 -0.096667 -1.233333  1.113333  ...  1.056667  1.123333  0.910000   \n",
       "227267 -1.470000 -1.276667  1.153333  ...  0.800000  0.900000  0.256667   \n",
       "227383 -0.150000 -0.986667  1.160000  ...  0.693333  0.726667  0.596667   \n",
       "\n",
       "        Normalised_FNT  Target   data  geo_score  instance_scores  lambda_wt  \\\n",
       "357          -225.0025     1.0  train     -5.790            -5.93      -6.53   \n",
       "591          -249.9500     1.0  train      0.930             0.27       0.52   \n",
       "1792         -244.4900     1.0  train     -5.364            -4.36      -3.09   \n",
       "1801         -225.0025     1.0  train     -7.570            -8.65      -7.83   \n",
       "2031         -163.7500     1.0  train     -2.974            -3.52      -5.39   \n",
       "...                ...     ...    ...        ...              ...        ...   \n",
       "225728       -229.1550     1.0  train    -13.700           -11.63     -13.04   \n",
       "225924       -205.0000     1.0  train     -4.980            -3.83      -4.55   \n",
       "226338       -250.0000     1.0  train     -9.450            -8.10     -12.99   \n",
       "227267       -241.2500     1.0  train     -3.274            -4.03      -5.76   \n",
       "227383       -249.7500     1.0  train    -10.180            -7.18      -8.98   \n",
       "\n",
       "        qsets_normalized_tat  \n",
       "357                   -6.696  \n",
       "591                    0.310  \n",
       "1792                  -3.170  \n",
       "1801                 -13.000  \n",
       "2031                  -2.290  \n",
       "...                      ...  \n",
       "225728               -24.016  \n",
       "225924                -5.370  \n",
       "226338               -12.726  \n",
       "227267                -1.910  \n",
       "227383                -9.786  \n",
       "\n",
       "[394 rows x 33 columns]"
      ]
     },
     "execution_count": 128,
     "metadata": {},
     "output_type": "execute_result"
    }
   ],
   "source": [
    "fraud"
   ]
  },
  {
   "cell_type": "code",
   "execution_count": null,
   "id": "323dc409",
   "metadata": {},
   "outputs": [],
   "source": []
  },
  {
   "cell_type": "code",
   "execution_count": 132,
   "id": "f098c47b",
   "metadata": {},
   "outputs": [
    {
     "data": {
      "text/plain": [
       "0.17292457591783889"
      ]
     },
     "execution_count": 132,
     "metadata": {},
     "output_type": "execute_result"
    }
   ],
   "source": [
    "fraudlent_transaction = (394/(227451+394))*100\n",
    "fraudlent_transaction"
   ]
  },
  {
   "cell_type": "code",
   "execution_count": null,
   "id": "ae9d5067",
   "metadata": {},
   "outputs": [],
   "source": []
  },
  {
   "cell_type": "code",
   "execution_count": 89,
   "id": "2d95679b",
   "metadata": {},
   "outputs": [
    {
     "data": {
      "text/html": [
       "<div>\n",
       "<style scoped>\n",
       "    .dataframe tbody tr th:only-of-type {\n",
       "        vertical-align: middle;\n",
       "    }\n",
       "\n",
       "    .dataframe tbody tr th {\n",
       "        vertical-align: top;\n",
       "    }\n",
       "\n",
       "    .dataframe thead th {\n",
       "        text-align: right;\n",
       "    }\n",
       "</style>\n",
       "<table border=\"1\" class=\"dataframe\">\n",
       "  <thead>\n",
       "    <tr style=\"text-align: right;\">\n",
       "      <th></th>\n",
       "      <th>id</th>\n",
       "      <th>Group</th>\n",
       "      <th>Per1</th>\n",
       "      <th>Per2</th>\n",
       "      <th>Per3</th>\n",
       "      <th>Per4</th>\n",
       "      <th>Per5</th>\n",
       "      <th>Per6</th>\n",
       "      <th>Per7</th>\n",
       "      <th>Per8</th>\n",
       "      <th>...</th>\n",
       "      <th>Cred4</th>\n",
       "      <th>Cred5</th>\n",
       "      <th>Cred6</th>\n",
       "      <th>Normalised_FNT</th>\n",
       "      <th>Target</th>\n",
       "      <th>data</th>\n",
       "      <th>geo_score</th>\n",
       "      <th>instance_scores</th>\n",
       "      <th>lambda_wt</th>\n",
       "      <th>qsets_normalized_tat</th>\n",
       "    </tr>\n",
       "  </thead>\n",
       "  <tbody>\n",
       "    <tr>\n",
       "      <th>227845</th>\n",
       "      <td>146574</td>\n",
       "      <td>Grp229</td>\n",
       "      <td>-0.300000</td>\n",
       "      <td>1.540000</td>\n",
       "      <td>0.220000</td>\n",
       "      <td>-0.280000</td>\n",
       "      <td>0.570000</td>\n",
       "      <td>0.260000</td>\n",
       "      <td>0.700000</td>\n",
       "      <td>1.076667</td>\n",
       "      <td>...</td>\n",
       "      <td>0.796667</td>\n",
       "      <td>0.823333</td>\n",
       "      <td>0.783333</td>\n",
       "      <td>-249.7500</td>\n",
       "      <td>NaN</td>\n",
       "      <td>test</td>\n",
       "      <td>0.25</td>\n",
       "      <td>-0.04</td>\n",
       "      <td>0.76</td>\n",
       "      <td>-0.426</td>\n",
       "    </tr>\n",
       "    <tr>\n",
       "      <th>227846</th>\n",
       "      <td>268759</td>\n",
       "      <td>Grp141</td>\n",
       "      <td>0.633333</td>\n",
       "      <td>0.953333</td>\n",
       "      <td>0.810000</td>\n",
       "      <td>0.466667</td>\n",
       "      <td>0.910000</td>\n",
       "      <td>0.253333</td>\n",
       "      <td>1.040000</td>\n",
       "      <td>0.550000</td>\n",
       "      <td>...</td>\n",
       "      <td>0.630000</td>\n",
       "      <td>0.673333</td>\n",
       "      <td>0.673333</td>\n",
       "      <td>-249.8125</td>\n",
       "      <td>NaN</td>\n",
       "      <td>test</td>\n",
       "      <td>0.43</td>\n",
       "      <td>-0.77</td>\n",
       "      <td>0.18</td>\n",
       "      <td>-0.620</td>\n",
       "    </tr>\n",
       "    <tr>\n",
       "      <th>227847</th>\n",
       "      <td>59727</td>\n",
       "      <td>Grp188</td>\n",
       "      <td>1.043333</td>\n",
       "      <td>0.740000</td>\n",
       "      <td>0.860000</td>\n",
       "      <td>1.006667</td>\n",
       "      <td>0.583333</td>\n",
       "      <td>0.616667</td>\n",
       "      <td>0.630000</td>\n",
       "      <td>0.686667</td>\n",
       "      <td>...</td>\n",
       "      <td>0.596667</td>\n",
       "      <td>0.680000</td>\n",
       "      <td>0.670000</td>\n",
       "      <td>-248.1200</td>\n",
       "      <td>NaN</td>\n",
       "      <td>test</td>\n",
       "      <td>1.32</td>\n",
       "      <td>0.11</td>\n",
       "      <td>0.39</td>\n",
       "      <td>-0.406</td>\n",
       "    </tr>\n",
       "    <tr>\n",
       "      <th>227848</th>\n",
       "      <td>151544</td>\n",
       "      <td>Grp426</td>\n",
       "      <td>1.283333</td>\n",
       "      <td>0.300000</td>\n",
       "      <td>0.576667</td>\n",
       "      <td>0.636667</td>\n",
       "      <td>0.256667</td>\n",
       "      <td>0.543333</td>\n",
       "      <td>0.356667</td>\n",
       "      <td>0.663333</td>\n",
       "      <td>...</td>\n",
       "      <td>0.320000</td>\n",
       "      <td>0.676667</td>\n",
       "      <td>0.660000</td>\n",
       "      <td>-222.9875</td>\n",
       "      <td>NaN</td>\n",
       "      <td>test</td>\n",
       "      <td>-2.11</td>\n",
       "      <td>0.33</td>\n",
       "      <td>1.80</td>\n",
       "      <td>0.374</td>\n",
       "    </tr>\n",
       "    <tr>\n",
       "      <th>227849</th>\n",
       "      <td>155008</td>\n",
       "      <td>Grp443</td>\n",
       "      <td>1.186667</td>\n",
       "      <td>0.326667</td>\n",
       "      <td>0.476667</td>\n",
       "      <td>0.866667</td>\n",
       "      <td>0.436667</td>\n",
       "      <td>0.680000</td>\n",
       "      <td>0.476667</td>\n",
       "      <td>0.686667</td>\n",
       "      <td>...</td>\n",
       "      <td>0.546667</td>\n",
       "      <td>0.650000</td>\n",
       "      <td>0.663333</td>\n",
       "      <td>-196.2200</td>\n",
       "      <td>NaN</td>\n",
       "      <td>test</td>\n",
       "      <td>-2.11</td>\n",
       "      <td>-0.37</td>\n",
       "      <td>1.89</td>\n",
       "      <td>-0.130</td>\n",
       "    </tr>\n",
       "  </tbody>\n",
       "</table>\n",
       "<p>5 rows × 33 columns</p>\n",
       "</div>"
      ],
      "text/plain": [
       "            id   Group      Per1      Per2      Per3      Per4      Per5  \\\n",
       "227845  146574  Grp229 -0.300000  1.540000  0.220000 -0.280000  0.570000   \n",
       "227846  268759  Grp141  0.633333  0.953333  0.810000  0.466667  0.910000   \n",
       "227847   59727  Grp188  1.043333  0.740000  0.860000  1.006667  0.583333   \n",
       "227848  151544  Grp426  1.283333  0.300000  0.576667  0.636667  0.256667   \n",
       "227849  155008  Grp443  1.186667  0.326667  0.476667  0.866667  0.436667   \n",
       "\n",
       "            Per6      Per7      Per8  ...     Cred4     Cred5     Cred6  \\\n",
       "227845  0.260000  0.700000  1.076667  ...  0.796667  0.823333  0.783333   \n",
       "227846  0.253333  1.040000  0.550000  ...  0.630000  0.673333  0.673333   \n",
       "227847  0.616667  0.630000  0.686667  ...  0.596667  0.680000  0.670000   \n",
       "227848  0.543333  0.356667  0.663333  ...  0.320000  0.676667  0.660000   \n",
       "227849  0.680000  0.476667  0.686667  ...  0.546667  0.650000  0.663333   \n",
       "\n",
       "        Normalised_FNT  Target  data  geo_score  instance_scores  lambda_wt  \\\n",
       "227845       -249.7500     NaN  test       0.25            -0.04       0.76   \n",
       "227846       -249.8125     NaN  test       0.43            -0.77       0.18   \n",
       "227847       -248.1200     NaN  test       1.32             0.11       0.39   \n",
       "227848       -222.9875     NaN  test      -2.11             0.33       1.80   \n",
       "227849       -196.2200     NaN  test      -2.11            -0.37       1.89   \n",
       "\n",
       "        qsets_normalized_tat  \n",
       "227845                -0.426  \n",
       "227846                -0.620  \n",
       "227847                -0.406  \n",
       "227848                 0.374  \n",
       "227849                -0.130  \n",
       "\n",
       "[5 rows x 33 columns]"
      ]
     },
     "execution_count": 89,
     "metadata": {},
     "output_type": "execute_result"
    }
   ],
   "source": [
    "test.head()"
   ]
  },
  {
   "cell_type": "code",
   "execution_count": 88,
   "id": "e11ee402",
   "metadata": {},
   "outputs": [
    {
     "data": {
      "text/plain": [
       "Index(['id', 'Group', 'Per1', 'Per2', 'Per3', 'Per4', 'Per5', 'Per6', 'Per7',\n",
       "       'Per8', 'Per9', 'Dem1', 'Dem2', 'Dem3', 'Dem4', 'Dem5', 'Dem6', 'Dem7',\n",
       "       'Dem8', 'Dem9', 'Cred1', 'Cred2', 'Cred3', 'Cred4', 'Cred5', 'Cred6',\n",
       "       'Normalised_FNT', 'Target', 'data', 'geo_score', 'instance_scores',\n",
       "       'lambda_wt', 'qsets_normalized_tat'],\n",
       "      dtype='object')"
      ]
     },
     "execution_count": 88,
     "metadata": {},
     "output_type": "execute_result"
    }
   ],
   "source": [
    "test.columns"
   ]
  },
  {
   "cell_type": "code",
   "execution_count": 90,
   "id": "bc76b0d7",
   "metadata": {},
   "outputs": [],
   "source": [
    "x_test = test.drop(['id','Group','Target','data'], axis=1)\n",
    "y_test = test['Target']"
   ]
  },
  {
   "cell_type": "code",
   "execution_count": 91,
   "id": "8d888b8e",
   "metadata": {},
   "outputs": [
    {
     "data": {
      "text/html": [
       "<div>\n",
       "<style scoped>\n",
       "    .dataframe tbody tr th:only-of-type {\n",
       "        vertical-align: middle;\n",
       "    }\n",
       "\n",
       "    .dataframe tbody tr th {\n",
       "        vertical-align: top;\n",
       "    }\n",
       "\n",
       "    .dataframe thead th {\n",
       "        text-align: right;\n",
       "    }\n",
       "</style>\n",
       "<table border=\"1\" class=\"dataframe\">\n",
       "  <thead>\n",
       "    <tr style=\"text-align: right;\">\n",
       "      <th></th>\n",
       "      <th>Per1</th>\n",
       "      <th>Per2</th>\n",
       "      <th>Per3</th>\n",
       "      <th>Per4</th>\n",
       "      <th>Per5</th>\n",
       "      <th>Per6</th>\n",
       "      <th>Per7</th>\n",
       "      <th>Per8</th>\n",
       "      <th>Per9</th>\n",
       "      <th>Dem1</th>\n",
       "      <th>...</th>\n",
       "      <th>Cred2</th>\n",
       "      <th>Cred3</th>\n",
       "      <th>Cred4</th>\n",
       "      <th>Cred5</th>\n",
       "      <th>Cred6</th>\n",
       "      <th>Normalised_FNT</th>\n",
       "      <th>geo_score</th>\n",
       "      <th>instance_scores</th>\n",
       "      <th>lambda_wt</th>\n",
       "      <th>qsets_normalized_tat</th>\n",
       "    </tr>\n",
       "  </thead>\n",
       "  <tbody>\n",
       "    <tr>\n",
       "      <th>227845</th>\n",
       "      <td>-0.300000</td>\n",
       "      <td>1.540000</td>\n",
       "      <td>0.220000</td>\n",
       "      <td>-0.280000</td>\n",
       "      <td>0.570000</td>\n",
       "      <td>0.260000</td>\n",
       "      <td>0.700000</td>\n",
       "      <td>1.076667</td>\n",
       "      <td>0.930000</td>\n",
       "      <td>0.156667</td>\n",
       "      <td>...</td>\n",
       "      <td>0.813333</td>\n",
       "      <td>0.776667</td>\n",
       "      <td>0.796667</td>\n",
       "      <td>0.823333</td>\n",
       "      <td>0.783333</td>\n",
       "      <td>-249.7500</td>\n",
       "      <td>0.25</td>\n",
       "      <td>-0.04</td>\n",
       "      <td>0.76</td>\n",
       "      <td>-0.426</td>\n",
       "    </tr>\n",
       "    <tr>\n",
       "      <th>227846</th>\n",
       "      <td>0.633333</td>\n",
       "      <td>0.953333</td>\n",
       "      <td>0.810000</td>\n",
       "      <td>0.466667</td>\n",
       "      <td>0.910000</td>\n",
       "      <td>0.253333</td>\n",
       "      <td>1.040000</td>\n",
       "      <td>0.550000</td>\n",
       "      <td>0.543333</td>\n",
       "      <td>0.433333</td>\n",
       "      <td>...</td>\n",
       "      <td>0.703333</td>\n",
       "      <td>0.806667</td>\n",
       "      <td>0.630000</td>\n",
       "      <td>0.673333</td>\n",
       "      <td>0.673333</td>\n",
       "      <td>-249.8125</td>\n",
       "      <td>0.43</td>\n",
       "      <td>-0.77</td>\n",
       "      <td>0.18</td>\n",
       "      <td>-0.620</td>\n",
       "    </tr>\n",
       "    <tr>\n",
       "      <th>227847</th>\n",
       "      <td>1.043333</td>\n",
       "      <td>0.740000</td>\n",
       "      <td>0.860000</td>\n",
       "      <td>1.006667</td>\n",
       "      <td>0.583333</td>\n",
       "      <td>0.616667</td>\n",
       "      <td>0.630000</td>\n",
       "      <td>0.686667</td>\n",
       "      <td>0.593333</td>\n",
       "      <td>1.250000</td>\n",
       "      <td>...</td>\n",
       "      <td>0.753333</td>\n",
       "      <td>0.870000</td>\n",
       "      <td>0.596667</td>\n",
       "      <td>0.680000</td>\n",
       "      <td>0.670000</td>\n",
       "      <td>-248.1200</td>\n",
       "      <td>1.32</td>\n",
       "      <td>0.11</td>\n",
       "      <td>0.39</td>\n",
       "      <td>-0.406</td>\n",
       "    </tr>\n",
       "    <tr>\n",
       "      <th>227848</th>\n",
       "      <td>1.283333</td>\n",
       "      <td>0.300000</td>\n",
       "      <td>0.576667</td>\n",
       "      <td>0.636667</td>\n",
       "      <td>0.256667</td>\n",
       "      <td>0.543333</td>\n",
       "      <td>0.356667</td>\n",
       "      <td>0.663333</td>\n",
       "      <td>1.156667</td>\n",
       "      <td>1.186667</td>\n",
       "      <td>...</td>\n",
       "      <td>0.606667</td>\n",
       "      <td>0.456667</td>\n",
       "      <td>0.320000</td>\n",
       "      <td>0.676667</td>\n",
       "      <td>0.660000</td>\n",
       "      <td>-222.9875</td>\n",
       "      <td>-2.11</td>\n",
       "      <td>0.33</td>\n",
       "      <td>1.80</td>\n",
       "      <td>0.374</td>\n",
       "    </tr>\n",
       "    <tr>\n",
       "      <th>227849</th>\n",
       "      <td>1.186667</td>\n",
       "      <td>0.326667</td>\n",
       "      <td>0.476667</td>\n",
       "      <td>0.866667</td>\n",
       "      <td>0.436667</td>\n",
       "      <td>0.680000</td>\n",
       "      <td>0.476667</td>\n",
       "      <td>0.686667</td>\n",
       "      <td>1.476667</td>\n",
       "      <td>1.213333</td>\n",
       "      <td>...</td>\n",
       "      <td>0.896667</td>\n",
       "      <td>0.566667</td>\n",
       "      <td>0.546667</td>\n",
       "      <td>0.650000</td>\n",
       "      <td>0.663333</td>\n",
       "      <td>-196.2200</td>\n",
       "      <td>-2.11</td>\n",
       "      <td>-0.37</td>\n",
       "      <td>1.89</td>\n",
       "      <td>-0.130</td>\n",
       "    </tr>\n",
       "  </tbody>\n",
       "</table>\n",
       "<p>5 rows × 29 columns</p>\n",
       "</div>"
      ],
      "text/plain": [
       "            Per1      Per2      Per3      Per4      Per5      Per6      Per7  \\\n",
       "227845 -0.300000  1.540000  0.220000 -0.280000  0.570000  0.260000  0.700000   \n",
       "227846  0.633333  0.953333  0.810000  0.466667  0.910000  0.253333  1.040000   \n",
       "227847  1.043333  0.740000  0.860000  1.006667  0.583333  0.616667  0.630000   \n",
       "227848  1.283333  0.300000  0.576667  0.636667  0.256667  0.543333  0.356667   \n",
       "227849  1.186667  0.326667  0.476667  0.866667  0.436667  0.680000  0.476667   \n",
       "\n",
       "            Per8      Per9      Dem1  ...     Cred2     Cred3     Cred4  \\\n",
       "227845  1.076667  0.930000  0.156667  ...  0.813333  0.776667  0.796667   \n",
       "227846  0.550000  0.543333  0.433333  ...  0.703333  0.806667  0.630000   \n",
       "227847  0.686667  0.593333  1.250000  ...  0.753333  0.870000  0.596667   \n",
       "227848  0.663333  1.156667  1.186667  ...  0.606667  0.456667  0.320000   \n",
       "227849  0.686667  1.476667  1.213333  ...  0.896667  0.566667  0.546667   \n",
       "\n",
       "           Cred5     Cred6  Normalised_FNT  geo_score  instance_scores  \\\n",
       "227845  0.823333  0.783333       -249.7500       0.25            -0.04   \n",
       "227846  0.673333  0.673333       -249.8125       0.43            -0.77   \n",
       "227847  0.680000  0.670000       -248.1200       1.32             0.11   \n",
       "227848  0.676667  0.660000       -222.9875      -2.11             0.33   \n",
       "227849  0.650000  0.663333       -196.2200      -2.11            -0.37   \n",
       "\n",
       "        lambda_wt  qsets_normalized_tat  \n",
       "227845       0.76                -0.426  \n",
       "227846       0.18                -0.620  \n",
       "227847       0.39                -0.406  \n",
       "227848       1.80                 0.374  \n",
       "227849       1.89                -0.130  \n",
       "\n",
       "[5 rows x 29 columns]"
      ]
     },
     "execution_count": 91,
     "metadata": {},
     "output_type": "execute_result"
    }
   ],
   "source": [
    "x_test.head()"
   ]
  },
  {
   "cell_type": "code",
   "execution_count": 92,
   "id": "47206066",
   "metadata": {},
   "outputs": [
    {
     "data": {
      "text/plain": [
       "227845   NaN\n",
       "227846   NaN\n",
       "227847   NaN\n",
       "227848   NaN\n",
       "227849   NaN\n",
       "Name: Target, dtype: float64"
      ]
     },
     "execution_count": 92,
     "metadata": {},
     "output_type": "execute_result"
    }
   ],
   "source": [
    "y_test.head()"
   ]
  },
  {
   "cell_type": "code",
   "execution_count": 94,
   "id": "e2597550",
   "metadata": {},
   "outputs": [
    {
     "name": "stdout",
     "output_type": "stream",
     "text": [
      "<class 'pandas.core.frame.DataFrame'>\n",
      "Int64Index: 227845 entries, 0 to 227844\n",
      "Data columns (total 29 columns):\n",
      " #   Column                Non-Null Count   Dtype  \n",
      "---  ------                --------------   -----  \n",
      " 0   Per1                  227845 non-null  float64\n",
      " 1   Per2                  227845 non-null  float64\n",
      " 2   Per3                  227845 non-null  float64\n",
      " 3   Per4                  227845 non-null  float64\n",
      " 4   Per5                  227845 non-null  float64\n",
      " 5   Per6                  227845 non-null  float64\n",
      " 6   Per7                  227845 non-null  float64\n",
      " 7   Per8                  227845 non-null  float64\n",
      " 8   Per9                  227845 non-null  float64\n",
      " 9   Dem1                  227845 non-null  float64\n",
      " 10  Dem2                  227845 non-null  float64\n",
      " 11  Dem3                  227845 non-null  float64\n",
      " 12  Dem4                  227845 non-null  float64\n",
      " 13  Dem5                  227845 non-null  float64\n",
      " 14  Dem6                  227845 non-null  float64\n",
      " 15  Dem7                  227845 non-null  float64\n",
      " 16  Dem8                  227845 non-null  float64\n",
      " 17  Dem9                  227845 non-null  float64\n",
      " 18  Cred1                 227845 non-null  float64\n",
      " 19  Cred2                 227845 non-null  float64\n",
      " 20  Cred3                 227845 non-null  float64\n",
      " 21  Cred4                 227845 non-null  float64\n",
      " 22  Cred5                 227845 non-null  float64\n",
      " 23  Cred6                 227845 non-null  float64\n",
      " 24  Normalised_FNT        227845 non-null  float64\n",
      " 25  geo_score             227845 non-null  float64\n",
      " 26  instance_scores       227845 non-null  float64\n",
      " 27  lambda_wt             227845 non-null  float64\n",
      " 28  qsets_normalized_tat  227845 non-null  float64\n",
      "dtypes: float64(29)\n",
      "memory usage: 52.1 MB\n"
     ]
    }
   ],
   "source": [
    "x_train.info()"
   ]
  },
  {
   "cell_type": "code",
   "execution_count": 95,
   "id": "18cd7999",
   "metadata": {},
   "outputs": [
    {
     "data": {
      "text/html": [
       "<div>\n",
       "<style scoped>\n",
       "    .dataframe tbody tr th:only-of-type {\n",
       "        vertical-align: middle;\n",
       "    }\n",
       "\n",
       "    .dataframe tbody tr th {\n",
       "        vertical-align: top;\n",
       "    }\n",
       "\n",
       "    .dataframe thead th {\n",
       "        text-align: right;\n",
       "    }\n",
       "</style>\n",
       "<table border=\"1\" class=\"dataframe\">\n",
       "  <thead>\n",
       "    <tr style=\"text-align: right;\">\n",
       "      <th></th>\n",
       "      <th>Per1</th>\n",
       "      <th>Per2</th>\n",
       "      <th>Per3</th>\n",
       "      <th>Per4</th>\n",
       "      <th>Per5</th>\n",
       "      <th>Per6</th>\n",
       "      <th>Per7</th>\n",
       "      <th>Per8</th>\n",
       "      <th>Per9</th>\n",
       "      <th>Dem1</th>\n",
       "      <th>...</th>\n",
       "      <th>Cred2</th>\n",
       "      <th>Cred3</th>\n",
       "      <th>Cred4</th>\n",
       "      <th>Cred5</th>\n",
       "      <th>Cred6</th>\n",
       "      <th>Normalised_FNT</th>\n",
       "      <th>geo_score</th>\n",
       "      <th>instance_scores</th>\n",
       "      <th>lambda_wt</th>\n",
       "      <th>qsets_normalized_tat</th>\n",
       "    </tr>\n",
       "  </thead>\n",
       "  <tbody>\n",
       "    <tr>\n",
       "      <th>count</th>\n",
       "      <td>227845.000000</td>\n",
       "      <td>227845.000000</td>\n",
       "      <td>227845.000000</td>\n",
       "      <td>227845.000000</td>\n",
       "      <td>227845.000000</td>\n",
       "      <td>227845.000000</td>\n",
       "      <td>227845.000000</td>\n",
       "      <td>227845.000000</td>\n",
       "      <td>227845.000000</td>\n",
       "      <td>227845.000000</td>\n",
       "      <td>...</td>\n",
       "      <td>227845.000000</td>\n",
       "      <td>227845.000000</td>\n",
       "      <td>227845.000000</td>\n",
       "      <td>227845.000000</td>\n",
       "      <td>227845.000000</td>\n",
       "      <td>227845.000000</td>\n",
       "      <td>227845.000000</td>\n",
       "      <td>227845.000000</td>\n",
       "      <td>227845.000000</td>\n",
       "      <td>227845.000000</td>\n",
       "    </tr>\n",
       "    <tr>\n",
       "      <th>mean</th>\n",
       "      <td>0.666006</td>\n",
       "      <td>0.667701</td>\n",
       "      <td>0.666315</td>\n",
       "      <td>0.666687</td>\n",
       "      <td>0.666723</td>\n",
       "      <td>0.667378</td>\n",
       "      <td>0.666934</td>\n",
       "      <td>0.666279</td>\n",
       "      <td>0.666688</td>\n",
       "      <td>0.666576</td>\n",
       "      <td>...</td>\n",
       "      <td>0.666264</td>\n",
       "      <td>0.666755</td>\n",
       "      <td>0.666878</td>\n",
       "      <td>0.666566</td>\n",
       "      <td>0.666776</td>\n",
       "      <td>-227.954170</td>\n",
       "      <td>0.008908</td>\n",
       "      <td>-0.000123</td>\n",
       "      <td>0.000350</td>\n",
       "      <td>0.001346</td>\n",
       "    </tr>\n",
       "    <tr>\n",
       "      <th>std</th>\n",
       "      <td>0.654133</td>\n",
       "      <td>0.548305</td>\n",
       "      <td>0.506357</td>\n",
       "      <td>0.471956</td>\n",
       "      <td>0.461393</td>\n",
       "      <td>0.444573</td>\n",
       "      <td>0.415657</td>\n",
       "      <td>0.401546</td>\n",
       "      <td>0.366537</td>\n",
       "      <td>0.340436</td>\n",
       "      <td>...</td>\n",
       "      <td>0.202204</td>\n",
       "      <td>0.174204</td>\n",
       "      <td>0.160803</td>\n",
       "      <td>0.135762</td>\n",
       "      <td>0.111612</td>\n",
       "      <td>61.951661</td>\n",
       "      <td>0.997629</td>\n",
       "      <td>1.091488</td>\n",
       "      <td>0.957957</td>\n",
       "      <td>0.850169</td>\n",
       "    </tr>\n",
       "    <tr>\n",
       "      <th>min</th>\n",
       "      <td>-18.136667</td>\n",
       "      <td>-23.573333</td>\n",
       "      <td>-15.443333</td>\n",
       "      <td>-1.226667</td>\n",
       "      <td>-37.246667</td>\n",
       "      <td>-8.053333</td>\n",
       "      <td>-13.853333</td>\n",
       "      <td>-23.740000</td>\n",
       "      <td>-3.810000</td>\n",
       "      <td>-0.893333</td>\n",
       "      <td>...</td>\n",
       "      <td>-0.280000</td>\n",
       "      <td>-2.766667</td>\n",
       "      <td>-0.080000</td>\n",
       "      <td>-6.856667</td>\n",
       "      <td>-4.476667</td>\n",
       "      <td>-250.000000</td>\n",
       "      <td>-18.680000</td>\n",
       "      <td>-24.590000</td>\n",
       "      <td>-19.210000</td>\n",
       "      <td>-25.156000</td>\n",
       "    </tr>\n",
       "    <tr>\n",
       "      <th>25%</th>\n",
       "      <td>0.360000</td>\n",
       "      <td>0.470000</td>\n",
       "      <td>0.370000</td>\n",
       "      <td>0.383333</td>\n",
       "      <td>0.436667</td>\n",
       "      <td>0.410000</td>\n",
       "      <td>0.483333</td>\n",
       "      <td>0.596667</td>\n",
       "      <td>0.453333</td>\n",
       "      <td>0.413333</td>\n",
       "      <td>...</td>\n",
       "      <td>0.546667</td>\n",
       "      <td>0.560000</td>\n",
       "      <td>0.556667</td>\n",
       "      <td>0.643333</td>\n",
       "      <td>0.650000</td>\n",
       "      <td>-248.617500</td>\n",
       "      <td>-0.400000</td>\n",
       "      <td>-0.540000</td>\n",
       "      <td>-0.430000</td>\n",
       "      <td>-0.480000</td>\n",
       "    </tr>\n",
       "    <tr>\n",
       "      <th>50%</th>\n",
       "      <td>0.670000</td>\n",
       "      <td>0.690000</td>\n",
       "      <td>0.726667</td>\n",
       "      <td>0.660000</td>\n",
       "      <td>0.650000</td>\n",
       "      <td>0.576667</td>\n",
       "      <td>0.680000</td>\n",
       "      <td>0.673333</td>\n",
       "      <td>0.650000</td>\n",
       "      <td>0.656667</td>\n",
       "      <td>...</td>\n",
       "      <td>0.680000</td>\n",
       "      <td>0.673333</td>\n",
       "      <td>0.650000</td>\n",
       "      <td>0.666667</td>\n",
       "      <td>0.670000</td>\n",
       "      <td>-244.510000</td>\n",
       "      <td>0.150000</td>\n",
       "      <td>-0.090000</td>\n",
       "      <td>0.050000</td>\n",
       "      <td>-0.066000</td>\n",
       "    </tr>\n",
       "    <tr>\n",
       "      <th>75%</th>\n",
       "      <td>1.103333</td>\n",
       "      <td>0.933333</td>\n",
       "      <td>1.010000</td>\n",
       "      <td>0.913333</td>\n",
       "      <td>0.870000</td>\n",
       "      <td>0.800000</td>\n",
       "      <td>0.856667</td>\n",
       "      <td>0.776667</td>\n",
       "      <td>0.866667</td>\n",
       "      <td>0.913333</td>\n",
       "      <td>...</td>\n",
       "      <td>0.813333</td>\n",
       "      <td>0.783333</td>\n",
       "      <td>0.746667</td>\n",
       "      <td>0.696667</td>\n",
       "      <td>0.693333</td>\n",
       "      <td>-230.750000</td>\n",
       "      <td>0.630000</td>\n",
       "      <td>0.450000</td>\n",
       "      <td>0.490000</td>\n",
       "      <td>0.400000</td>\n",
       "    </tr>\n",
       "    <tr>\n",
       "      <th>max</th>\n",
       "      <td>1.483333</td>\n",
       "      <td>8.020000</td>\n",
       "      <td>3.793333</td>\n",
       "      <td>6.163333</td>\n",
       "      <td>12.266667</td>\n",
       "      <td>25.100000</td>\n",
       "      <td>40.863333</td>\n",
       "      <td>7.336667</td>\n",
       "      <td>5.863333</td>\n",
       "      <td>4.673333</td>\n",
       "      <td>...</td>\n",
       "      <td>2.193333</td>\n",
       "      <td>3.173333</td>\n",
       "      <td>1.840000</td>\n",
       "      <td>11.203333</td>\n",
       "      <td>11.950000</td>\n",
       "      <td>6172.790000</td>\n",
       "      <td>7.850000</td>\n",
       "      <td>23.750000</td>\n",
       "      <td>10.530000</td>\n",
       "      <td>8.540000</td>\n",
       "    </tr>\n",
       "  </tbody>\n",
       "</table>\n",
       "<p>8 rows × 29 columns</p>\n",
       "</div>"
      ],
      "text/plain": [
       "                Per1           Per2           Per3           Per4  \\\n",
       "count  227845.000000  227845.000000  227845.000000  227845.000000   \n",
       "mean        0.666006       0.667701       0.666315       0.666687   \n",
       "std         0.654133       0.548305       0.506357       0.471956   \n",
       "min       -18.136667     -23.573333     -15.443333      -1.226667   \n",
       "25%         0.360000       0.470000       0.370000       0.383333   \n",
       "50%         0.670000       0.690000       0.726667       0.660000   \n",
       "75%         1.103333       0.933333       1.010000       0.913333   \n",
       "max         1.483333       8.020000       3.793333       6.163333   \n",
       "\n",
       "                Per5           Per6           Per7           Per8  \\\n",
       "count  227845.000000  227845.000000  227845.000000  227845.000000   \n",
       "mean        0.666723       0.667378       0.666934       0.666279   \n",
       "std         0.461393       0.444573       0.415657       0.401546   \n",
       "min       -37.246667      -8.053333     -13.853333     -23.740000   \n",
       "25%         0.436667       0.410000       0.483333       0.596667   \n",
       "50%         0.650000       0.576667       0.680000       0.673333   \n",
       "75%         0.870000       0.800000       0.856667       0.776667   \n",
       "max        12.266667      25.100000      40.863333       7.336667   \n",
       "\n",
       "                Per9           Dem1  ...          Cred2          Cred3  \\\n",
       "count  227845.000000  227845.000000  ...  227845.000000  227845.000000   \n",
       "mean        0.666688       0.666576  ...       0.666264       0.666755   \n",
       "std         0.366537       0.340436  ...       0.202204       0.174204   \n",
       "min        -3.810000      -0.893333  ...      -0.280000      -2.766667   \n",
       "25%         0.453333       0.413333  ...       0.546667       0.560000   \n",
       "50%         0.650000       0.656667  ...       0.680000       0.673333   \n",
       "75%         0.866667       0.913333  ...       0.813333       0.783333   \n",
       "max         5.863333       4.673333  ...       2.193333       3.173333   \n",
       "\n",
       "               Cred4          Cred5          Cred6  Normalised_FNT  \\\n",
       "count  227845.000000  227845.000000  227845.000000   227845.000000   \n",
       "mean        0.666878       0.666566       0.666776     -227.954170   \n",
       "std         0.160803       0.135762       0.111612       61.951661   \n",
       "min        -0.080000      -6.856667      -4.476667     -250.000000   \n",
       "25%         0.556667       0.643333       0.650000     -248.617500   \n",
       "50%         0.650000       0.666667       0.670000     -244.510000   \n",
       "75%         0.746667       0.696667       0.693333     -230.750000   \n",
       "max         1.840000      11.203333      11.950000     6172.790000   \n",
       "\n",
       "           geo_score  instance_scores      lambda_wt  qsets_normalized_tat  \n",
       "count  227845.000000    227845.000000  227845.000000         227845.000000  \n",
       "mean        0.008908        -0.000123       0.000350              0.001346  \n",
       "std         0.997629         1.091488       0.957957              0.850169  \n",
       "min       -18.680000       -24.590000     -19.210000            -25.156000  \n",
       "25%        -0.400000        -0.540000      -0.430000             -0.480000  \n",
       "50%         0.150000        -0.090000       0.050000             -0.066000  \n",
       "75%         0.630000         0.450000       0.490000              0.400000  \n",
       "max         7.850000        23.750000      10.530000              8.540000  \n",
       "\n",
       "[8 rows x 29 columns]"
      ]
     },
     "execution_count": 95,
     "metadata": {},
     "output_type": "execute_result"
    }
   ],
   "source": [
    "x_train.describe()"
   ]
  },
  {
   "cell_type": "code",
   "execution_count": null,
   "id": "8581a1dc",
   "metadata": {},
   "outputs": [],
   "source": [
    "# Please do EDA part - heatmap, pairplot, distplot, Pandas profiling, Dtale, dataprep etc"
   ]
  },
  {
   "cell_type": "code",
   "execution_count": 97,
   "id": "3bbf255d",
   "metadata": {},
   "outputs": [],
   "source": [
    "# Feature scaling\n",
    "from sklearn.preprocessing import StandardScaler\n",
    "sc = StandardScaler()\n",
    "sc_x_train = sc.fit_transform(x_train)\n",
    "sc_x_test = sc.fit_transform(x_test)"
   ]
  },
  {
   "cell_type": "code",
   "execution_count": null,
   "id": "fb552c8d",
   "metadata": {},
   "outputs": [],
   "source": []
  },
  {
   "cell_type": "code",
   "execution_count": 99,
   "id": "647b36b0",
   "metadata": {},
   "outputs": [],
   "source": [
    "# split the data into training and test\n",
    "from sklearn.model_selection import train_test_split\n",
    "x_train1, x_test1, y_train1, y_test1 = train_test_split(sc_x_train, y_train, test_size=0.2, random_state=1)"
   ]
  },
  {
   "cell_type": "markdown",
   "id": "5c5ee58a",
   "metadata": {},
   "source": [
    "# Logistic Regression"
   ]
  },
  {
   "cell_type": "code",
   "execution_count": 100,
   "id": "af1a68a5",
   "metadata": {},
   "outputs": [
    {
     "data": {
      "text/plain": [
       "LogisticRegression()"
      ]
     },
     "execution_count": 100,
     "metadata": {},
     "output_type": "execute_result"
    }
   ],
   "source": [
    "from sklearn.linear_model import LogisticRegression\n",
    "logit = LogisticRegression()\n",
    "logit.fit(x_train1, y_train1)"
   ]
  },
  {
   "cell_type": "code",
   "execution_count": 101,
   "id": "d2587336",
   "metadata": {},
   "outputs": [],
   "source": [
    "y_pred_logit_train = logit.predict(x_train1)\n",
    "y_pred_logit_test = logit.predict(x_test1)"
   ]
  },
  {
   "cell_type": "code",
   "execution_count": 102,
   "id": "bf62ed52",
   "metadata": {},
   "outputs": [],
   "source": [
    "from sklearn.metrics import accuracy_score, classification_report, confusion_matrix"
   ]
  },
  {
   "cell_type": "code",
   "execution_count": 103,
   "id": "3ad865af",
   "metadata": {},
   "outputs": [
    {
     "data": {
      "text/plain": [
       "array([[45471,     5],\n",
       "       [   50,    43]], dtype=int64)"
      ]
     },
     "execution_count": 103,
     "metadata": {},
     "output_type": "execute_result"
    }
   ],
   "source": [
    "confusion_matrix(y_test1, y_pred_logit_test)"
   ]
  },
  {
   "cell_type": "code",
   "execution_count": 107,
   "id": "50ffaa13",
   "metadata": {},
   "outputs": [
    {
     "name": "stdout",
     "output_type": "stream",
     "text": [
      "              precision    recall  f1-score   support\n",
      "\n",
      "         0.0       1.00      1.00      1.00    181975\n",
      "         1.0       0.87      0.64      0.74       301\n",
      "\n",
      "    accuracy                           1.00    182276\n",
      "   macro avg       0.94      0.82      0.87    182276\n",
      "weighted avg       1.00      1.00      1.00    182276\n",
      "\n",
      "************************************************************************************************************************************************************************************************************************************************\n",
      "              precision    recall  f1-score   support\n",
      "\n",
      "         0.0       1.00      1.00      1.00     45476\n",
      "         1.0       0.90      0.46      0.61        93\n",
      "\n",
      "    accuracy                           1.00     45569\n",
      "   macro avg       0.95      0.73      0.80     45569\n",
      "weighted avg       1.00      1.00      1.00     45569\n",
      "\n"
     ]
    }
   ],
   "source": [
    "print(classification_report(y_train1,y_pred_logit_train))\n",
    "print(\"************************\"*10)\n",
    "print(classification_report(y_test1,y_pred_logit_test))"
   ]
  },
  {
   "cell_type": "code",
   "execution_count": 108,
   "id": "0bae2f50",
   "metadata": {},
   "outputs": [
    {
     "name": "stdout",
     "output_type": "stream",
     "text": [
      "0.9992483925475653\n",
      "************************************************************************************************************************************************************************************************************************************************\n",
      "0.998793039127477\n"
     ]
    }
   ],
   "source": [
    "print(accuracy_score(y_train1,y_pred_logit_train))\n",
    "print(\"************************\"*10)\n",
    "print(accuracy_score(y_test1,y_pred_logit_test))"
   ]
  },
  {
   "cell_type": "markdown",
   "id": "de3bd94d",
   "metadata": {},
   "source": [
    "# RandomForest Classification Model"
   ]
  },
  {
   "cell_type": "code",
   "execution_count": 110,
   "id": "3a303cfc",
   "metadata": {},
   "outputs": [
    {
     "data": {
      "text/plain": [
       "RandomForestClassifier(criterion='entropy', random_state=1)"
      ]
     },
     "execution_count": 110,
     "metadata": {},
     "output_type": "execute_result"
    }
   ],
   "source": [
    "from sklearn.ensemble import RandomForestClassifier\n",
    "rf = RandomForestClassifier(criterion='entropy', random_state=1)\n",
    "rf.fit(x_train1, y_train1)"
   ]
  },
  {
   "cell_type": "code",
   "execution_count": 111,
   "id": "7ab5721a",
   "metadata": {},
   "outputs": [],
   "source": [
    "y_pred_rf_train = rf.predict(x_train1)\n",
    "y_pred_rf_test = rf.predict(x_test1)"
   ]
  },
  {
   "cell_type": "code",
   "execution_count": 112,
   "id": "e4f97049",
   "metadata": {},
   "outputs": [
    {
     "name": "stdout",
     "output_type": "stream",
     "text": [
      "              precision    recall  f1-score   support\n",
      "\n",
      "         0.0       1.00      1.00      1.00    181975\n",
      "         1.0       1.00      1.00      1.00       301\n",
      "\n",
      "    accuracy                           1.00    182276\n",
      "   macro avg       1.00      1.00      1.00    182276\n",
      "weighted avg       1.00      1.00      1.00    182276\n",
      "\n",
      "************************************************************************************************************************************************************************************************************************************************\n",
      "              precision    recall  f1-score   support\n",
      "\n",
      "         0.0       1.00      1.00      1.00     45476\n",
      "         1.0       0.94      0.69      0.80        93\n",
      "\n",
      "    accuracy                           1.00     45569\n",
      "   macro avg       0.97      0.84      0.90     45569\n",
      "weighted avg       1.00      1.00      1.00     45569\n",
      "\n"
     ]
    }
   ],
   "source": [
    "print(classification_report(y_train1,y_pred_rf_train))\n",
    "print(\"************************\"*10)\n",
    "print(classification_report(y_test1,y_pred_rf_test))"
   ]
  },
  {
   "cell_type": "code",
   "execution_count": 113,
   "id": "af097a58",
   "metadata": {},
   "outputs": [
    {
     "name": "stdout",
     "output_type": "stream",
     "text": [
      "1.0\n",
      "************************************************************************************************************************************************************************************************************************************************\n",
      "0.9992758234764862\n"
     ]
    }
   ],
   "source": [
    "print(accuracy_score(y_train1,y_pred_rf_train))\n",
    "print(\"************************\"*10)\n",
    "print(accuracy_score(y_test1,y_pred_rf_test))"
   ]
  },
  {
   "cell_type": "code",
   "execution_count": null,
   "id": "8cc3508f",
   "metadata": {},
   "outputs": [],
   "source": []
  },
  {
   "cell_type": "markdown",
   "id": "d4dc109b",
   "metadata": {},
   "source": [
    "# XGBoost Classifier "
   ]
  },
  {
   "cell_type": "code",
   "execution_count": null,
   "id": "730148ef",
   "metadata": {},
   "outputs": [],
   "source": [
    "# !pip install xgboost"
   ]
  },
  {
   "cell_type": "code",
   "execution_count": 115,
   "id": "5e238549",
   "metadata": {},
   "outputs": [],
   "source": [
    "from xgboost import XGBClassifier\n",
    "xgb = XGBClassifier()\n",
    "xgb = xgb.fit(x_train1, y_train1)"
   ]
  },
  {
   "cell_type": "code",
   "execution_count": 117,
   "id": "9d531f78",
   "metadata": {},
   "outputs": [],
   "source": [
    "y_pred_xgb_train = xgb.predict(x_train1)\n",
    "y_pred_xgb_test = xgb.predict(x_test1)"
   ]
  },
  {
   "cell_type": "code",
   "execution_count": 118,
   "id": "6593a696",
   "metadata": {},
   "outputs": [
    {
     "name": "stdout",
     "output_type": "stream",
     "text": [
      "              precision    recall  f1-score   support\n",
      "\n",
      "         0.0       1.00      1.00      1.00    181975\n",
      "         1.0       1.00      1.00      1.00       301\n",
      "\n",
      "    accuracy                           1.00    182276\n",
      "   macro avg       1.00      1.00      1.00    182276\n",
      "weighted avg       1.00      1.00      1.00    182276\n",
      "\n",
      "************************************************************************************************************************************************************************************************************************************************\n",
      "              precision    recall  f1-score   support\n",
      "\n",
      "         0.0       1.00      1.00      1.00     45476\n",
      "         1.0       0.94      0.73      0.82        93\n",
      "\n",
      "    accuracy                           1.00     45569\n",
      "   macro avg       0.97      0.87      0.91     45569\n",
      "weighted avg       1.00      1.00      1.00     45569\n",
      "\n"
     ]
    }
   ],
   "source": [
    "print(classification_report(y_train1,y_pred_xgb_train))\n",
    "print(\"************************\"*10)\n",
    "print(classification_report(y_test1,y_pred_xgb_test))"
   ]
  },
  {
   "cell_type": "code",
   "execution_count": 119,
   "id": "92bdbb07",
   "metadata": {},
   "outputs": [
    {
     "name": "stdout",
     "output_type": "stream",
     "text": [
      "1.0\n",
      "************************************************************************************************************************************************************************************************************************************************\n",
      "0.9993636024490333\n"
     ]
    }
   ],
   "source": [
    "print(accuracy_score(y_train1,y_pred_xgb_train))\n",
    "print(\"************************\"*10)\n",
    "print(accuracy_score(y_test1,y_pred_xgb_test))"
   ]
  },
  {
   "cell_type": "code",
   "execution_count": 122,
   "id": "a0143b66",
   "metadata": {},
   "outputs": [
    {
     "data": {
      "text/html": [
       "<div>\n",
       "<style scoped>\n",
       "    .dataframe tbody tr th:only-of-type {\n",
       "        vertical-align: middle;\n",
       "    }\n",
       "\n",
       "    .dataframe tbody tr th {\n",
       "        vertical-align: top;\n",
       "    }\n",
       "\n",
       "    .dataframe thead th {\n",
       "        text-align: right;\n",
       "    }\n",
       "</style>\n",
       "<table border=\"1\" class=\"dataframe\">\n",
       "  <thead>\n",
       "    <tr style=\"text-align: right;\">\n",
       "      <th></th>\n",
       "      <th>Per1</th>\n",
       "      <th>Per2</th>\n",
       "      <th>Per3</th>\n",
       "      <th>Per4</th>\n",
       "      <th>Per5</th>\n",
       "      <th>Per6</th>\n",
       "      <th>Per7</th>\n",
       "      <th>Per8</th>\n",
       "      <th>Per9</th>\n",
       "      <th>Dem1</th>\n",
       "      <th>...</th>\n",
       "      <th>Cred2</th>\n",
       "      <th>Cred3</th>\n",
       "      <th>Cred4</th>\n",
       "      <th>Cred5</th>\n",
       "      <th>Cred6</th>\n",
       "      <th>Normalised_FNT</th>\n",
       "      <th>geo_score</th>\n",
       "      <th>instance_scores</th>\n",
       "      <th>lambda_wt</th>\n",
       "      <th>qsets_normalized_tat</th>\n",
       "    </tr>\n",
       "  </thead>\n",
       "  <tbody>\n",
       "    <tr>\n",
       "      <th>227845</th>\n",
       "      <td>-0.300000</td>\n",
       "      <td>1.540000</td>\n",
       "      <td>0.220000</td>\n",
       "      <td>-0.280000</td>\n",
       "      <td>0.570000</td>\n",
       "      <td>0.260000</td>\n",
       "      <td>0.700000</td>\n",
       "      <td>1.076667</td>\n",
       "      <td>0.930000</td>\n",
       "      <td>0.156667</td>\n",
       "      <td>...</td>\n",
       "      <td>0.813333</td>\n",
       "      <td>0.776667</td>\n",
       "      <td>0.796667</td>\n",
       "      <td>0.823333</td>\n",
       "      <td>0.783333</td>\n",
       "      <td>-249.7500</td>\n",
       "      <td>0.25</td>\n",
       "      <td>-0.04</td>\n",
       "      <td>0.76</td>\n",
       "      <td>-0.426</td>\n",
       "    </tr>\n",
       "    <tr>\n",
       "      <th>227846</th>\n",
       "      <td>0.633333</td>\n",
       "      <td>0.953333</td>\n",
       "      <td>0.810000</td>\n",
       "      <td>0.466667</td>\n",
       "      <td>0.910000</td>\n",
       "      <td>0.253333</td>\n",
       "      <td>1.040000</td>\n",
       "      <td>0.550000</td>\n",
       "      <td>0.543333</td>\n",
       "      <td>0.433333</td>\n",
       "      <td>...</td>\n",
       "      <td>0.703333</td>\n",
       "      <td>0.806667</td>\n",
       "      <td>0.630000</td>\n",
       "      <td>0.673333</td>\n",
       "      <td>0.673333</td>\n",
       "      <td>-249.8125</td>\n",
       "      <td>0.43</td>\n",
       "      <td>-0.77</td>\n",
       "      <td>0.18</td>\n",
       "      <td>-0.620</td>\n",
       "    </tr>\n",
       "    <tr>\n",
       "      <th>227847</th>\n",
       "      <td>1.043333</td>\n",
       "      <td>0.740000</td>\n",
       "      <td>0.860000</td>\n",
       "      <td>1.006667</td>\n",
       "      <td>0.583333</td>\n",
       "      <td>0.616667</td>\n",
       "      <td>0.630000</td>\n",
       "      <td>0.686667</td>\n",
       "      <td>0.593333</td>\n",
       "      <td>1.250000</td>\n",
       "      <td>...</td>\n",
       "      <td>0.753333</td>\n",
       "      <td>0.870000</td>\n",
       "      <td>0.596667</td>\n",
       "      <td>0.680000</td>\n",
       "      <td>0.670000</td>\n",
       "      <td>-248.1200</td>\n",
       "      <td>1.32</td>\n",
       "      <td>0.11</td>\n",
       "      <td>0.39</td>\n",
       "      <td>-0.406</td>\n",
       "    </tr>\n",
       "    <tr>\n",
       "      <th>227848</th>\n",
       "      <td>1.283333</td>\n",
       "      <td>0.300000</td>\n",
       "      <td>0.576667</td>\n",
       "      <td>0.636667</td>\n",
       "      <td>0.256667</td>\n",
       "      <td>0.543333</td>\n",
       "      <td>0.356667</td>\n",
       "      <td>0.663333</td>\n",
       "      <td>1.156667</td>\n",
       "      <td>1.186667</td>\n",
       "      <td>...</td>\n",
       "      <td>0.606667</td>\n",
       "      <td>0.456667</td>\n",
       "      <td>0.320000</td>\n",
       "      <td>0.676667</td>\n",
       "      <td>0.660000</td>\n",
       "      <td>-222.9875</td>\n",
       "      <td>-2.11</td>\n",
       "      <td>0.33</td>\n",
       "      <td>1.80</td>\n",
       "      <td>0.374</td>\n",
       "    </tr>\n",
       "    <tr>\n",
       "      <th>227849</th>\n",
       "      <td>1.186667</td>\n",
       "      <td>0.326667</td>\n",
       "      <td>0.476667</td>\n",
       "      <td>0.866667</td>\n",
       "      <td>0.436667</td>\n",
       "      <td>0.680000</td>\n",
       "      <td>0.476667</td>\n",
       "      <td>0.686667</td>\n",
       "      <td>1.476667</td>\n",
       "      <td>1.213333</td>\n",
       "      <td>...</td>\n",
       "      <td>0.896667</td>\n",
       "      <td>0.566667</td>\n",
       "      <td>0.546667</td>\n",
       "      <td>0.650000</td>\n",
       "      <td>0.663333</td>\n",
       "      <td>-196.2200</td>\n",
       "      <td>-2.11</td>\n",
       "      <td>-0.37</td>\n",
       "      <td>1.89</td>\n",
       "      <td>-0.130</td>\n",
       "    </tr>\n",
       "  </tbody>\n",
       "</table>\n",
       "<p>5 rows × 29 columns</p>\n",
       "</div>"
      ],
      "text/plain": [
       "            Per1      Per2      Per3      Per4      Per5      Per6      Per7  \\\n",
       "227845 -0.300000  1.540000  0.220000 -0.280000  0.570000  0.260000  0.700000   \n",
       "227846  0.633333  0.953333  0.810000  0.466667  0.910000  0.253333  1.040000   \n",
       "227847  1.043333  0.740000  0.860000  1.006667  0.583333  0.616667  0.630000   \n",
       "227848  1.283333  0.300000  0.576667  0.636667  0.256667  0.543333  0.356667   \n",
       "227849  1.186667  0.326667  0.476667  0.866667  0.436667  0.680000  0.476667   \n",
       "\n",
       "            Per8      Per9      Dem1  ...     Cred2     Cred3     Cred4  \\\n",
       "227845  1.076667  0.930000  0.156667  ...  0.813333  0.776667  0.796667   \n",
       "227846  0.550000  0.543333  0.433333  ...  0.703333  0.806667  0.630000   \n",
       "227847  0.686667  0.593333  1.250000  ...  0.753333  0.870000  0.596667   \n",
       "227848  0.663333  1.156667  1.186667  ...  0.606667  0.456667  0.320000   \n",
       "227849  0.686667  1.476667  1.213333  ...  0.896667  0.566667  0.546667   \n",
       "\n",
       "           Cred5     Cred6  Normalised_FNT  geo_score  instance_scores  \\\n",
       "227845  0.823333  0.783333       -249.7500       0.25            -0.04   \n",
       "227846  0.673333  0.673333       -249.8125       0.43            -0.77   \n",
       "227847  0.680000  0.670000       -248.1200       1.32             0.11   \n",
       "227848  0.676667  0.660000       -222.9875      -2.11             0.33   \n",
       "227849  0.650000  0.663333       -196.2200      -2.11            -0.37   \n",
       "\n",
       "        lambda_wt  qsets_normalized_tat  \n",
       "227845       0.76                -0.426  \n",
       "227846       0.18                -0.620  \n",
       "227847       0.39                -0.406  \n",
       "227848       1.80                 0.374  \n",
       "227849       1.89                -0.130  \n",
       "\n",
       "[5 rows x 29 columns]"
      ]
     },
     "execution_count": 122,
     "metadata": {},
     "output_type": "execute_result"
    }
   ],
   "source": [
    "x_test.head()"
   ]
  },
  {
   "cell_type": "code",
   "execution_count": 123,
   "id": "916f61d3",
   "metadata": {},
   "outputs": [],
   "source": [
    "final_target_value = xgb.predict(sc_x_test)"
   ]
  },
  {
   "cell_type": "code",
   "execution_count": 124,
   "id": "f9aa5f1d",
   "metadata": {},
   "outputs": [
    {
     "data": {
      "text/plain": [
       "array([0, 0, 0, ..., 0, 0, 0])"
      ]
     },
     "execution_count": 124,
     "metadata": {},
     "output_type": "execute_result"
    }
   ],
   "source": [
    "final_target_value"
   ]
  },
  {
   "cell_type": "code",
   "execution_count": null,
   "id": "f908d877",
   "metadata": {},
   "outputs": [],
   "source": []
  },
  {
   "cell_type": "code",
   "execution_count": null,
   "id": "a23f309a",
   "metadata": {},
   "outputs": [],
   "source": []
  },
  {
   "cell_type": "markdown",
   "id": "32c48c4a",
   "metadata": {},
   "source": [
    "# ISOLATION FOREST, Local Outlier Factor , OneClassSVM - These models dedicated for anomaly detection"
   ]
  },
  {
   "cell_type": "code",
   "execution_count": 121,
   "id": "3d1d1717",
   "metadata": {},
   "outputs": [],
   "source": [
    "from sklearn.ensemble import IsolationForest\n",
    "from sklearn.neighbors import LocalOutlierFactor\n",
    "from sklearn.svm import OneClassSVM"
   ]
  },
  {
   "cell_type": "code",
   "execution_count": null,
   "id": "f2e3e5d3",
   "metadata": {},
   "outputs": [],
   "source": [
    "OneClassSVM()"
   ]
  },
  {
   "cell_type": "code",
   "execution_count": 125,
   "id": "a6d68cd2",
   "metadata": {},
   "outputs": [],
   "source": [
    "classification = {'IsolationForest' : IsolationForest(n_estimators=100,max_samples=len(x_train), \n",
    "                                                    contamination= fraudlent_transaction),\n",
    "                 \n",
    "                 \"LocalOutlierFactor\" : LocalOutlierFactor(n_neighbors=20, contamination=fraudlent_transaction),\n",
    "                 \"OneClassSVM\" : OneClassSVM()}"
   ]
  },
  {
   "cell_type": "code",
   "execution_count": 136,
   "id": "84b60efb",
   "metadata": {},
   "outputs": [
    {
     "data": {
      "text/plain": [
       "394"
      ]
     },
     "execution_count": 136,
     "metadata": {},
     "output_type": "execute_result"
    }
   ],
   "source": [
    "n_outlier = len(fraud)\n",
    "n_outlier"
   ]
  },
  {
   "cell_type": "code",
   "execution_count": 129,
   "id": "f733e4c5",
   "metadata": {},
   "outputs": [],
   "source": [
    "isolaction = IsolationForest(n_estimators=100,max_samples=len(x_train), contamination= fraudlent_transaction)"
   ]
  },
  {
   "cell_type": "code",
   "execution_count": 130,
   "id": "5d15862f",
   "metadata": {},
   "outputs": [
    {
     "data": {
      "text/plain": [
       "IsolationForest(contamination=0.17322412299792042, max_samples=227845)"
      ]
     },
     "execution_count": 130,
     "metadata": {},
     "output_type": "execute_result"
    }
   ],
   "source": [
    "isolaction.fit(x_train1, y_train1)"
   ]
  },
  {
   "cell_type": "code",
   "execution_count": 133,
   "id": "9a3de730",
   "metadata": {},
   "outputs": [],
   "source": [
    "y_pred_isolaction_train = isolaction.predict(x_train1)\n",
    "y_pred_isolaction_test = isolaction.predict(x_test1)"
   ]
  },
  {
   "cell_type": "code",
   "execution_count": 134,
   "id": "ac564010",
   "metadata": {},
   "outputs": [
    {
     "name": "stdout",
     "output_type": "stream",
     "text": [
      "              precision    recall  f1-score   support\n",
      "\n",
      "        -1.0       0.00      0.00      0.00         0\n",
      "         0.0       0.00      0.00      0.00    181975\n",
      "         1.0       0.00      0.07      0.00       301\n",
      "\n",
      "    accuracy                           0.00    182276\n",
      "   macro avg       0.00      0.02      0.00    182276\n",
      "weighted avg       0.00      0.00      0.00    182276\n",
      "\n",
      "************************************************************************************************************************************************************************************************************************************************\n",
      "              precision    recall  f1-score   support\n",
      "\n",
      "        -1.0       0.00      0.00      0.00         0\n",
      "         0.0       0.00      0.00      0.00     45476\n",
      "         1.0       0.00      0.14      0.00        93\n",
      "\n",
      "    accuracy                           0.00     45569\n",
      "   macro avg       0.00      0.05      0.00     45569\n",
      "weighted avg       0.00      0.00      0.00     45569\n",
      "\n"
     ]
    }
   ],
   "source": [
    "print(classification_report(y_train1,y_pred_isolaction_train))\n",
    "print(\"************************\"*10)\n",
    "print(classification_report(y_test1,y_pred_isolaction_test))"
   ]
  },
  {
   "cell_type": "code",
   "execution_count": 135,
   "id": "986e1b08",
   "metadata": {},
   "outputs": [
    {
     "name": "stdout",
     "output_type": "stream",
     "text": [
      "0.00012069608725229871\n",
      "************************************************************************************************************************************************************************************************************************************************\n",
      "0.0002852816607781606\n"
     ]
    }
   ],
   "source": [
    "print(accuracy_score(y_train1,y_pred_isolaction_train))\n",
    "print(\"************************\"*10)\n",
    "print(accuracy_score(y_test1,y_pred_isolaction_test))"
   ]
  },
  {
   "cell_type": "code",
   "execution_count": null,
   "id": "8d776fb7",
   "metadata": {},
   "outputs": [],
   "source": []
  }
 ],
 "metadata": {
  "kernelspec": {
   "display_name": "Python 3 (ipykernel)",
   "language": "python",
   "name": "python3"
  },
  "language_info": {
   "codemirror_mode": {
    "name": "ipython",
    "version": 3
   },
   "file_extension": ".py",
   "mimetype": "text/x-python",
   "name": "python",
   "nbconvert_exporter": "python",
   "pygments_lexer": "ipython3",
   "version": "3.9.13"
  }
 },
 "nbformat": 4,
 "nbformat_minor": 5
}
